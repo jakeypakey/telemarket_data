{
 "cells": [
  {
   "cell_type": "code",
   "execution_count": 1,
   "metadata": {},
   "outputs": [],
   "source": [
    "from db import Database\n",
    "import processing as proc\n",
    "import matplotlib.pyplot as plt\n",
    "import matplotlib\n",
    "import numpy as np\n",
    "import pandas as pd\n",
    "from sklearn.ensemble import RandomForestClassifier\n",
    "from sklearn.inspection import permutation_importance\n",
    "import sklearn\n",
    "\n",
    "logger = proc.setupLog()"
   ]
  },
  {
   "cell_type": "code",
   "execution_count": 2,
   "metadata": {},
   "outputs": [
    {
     "name": "stdout",
     "output_type": "stream",
     "text": [
      "Connected to db\n",
      "Successful SQL commands are printed on execution.\n",
      "USE bank_data\n",
      "(58, 'M', 'M', 'T', 'N', 2143, 'Y', 'N', '?', 5, 5, 261, 1, -1, 0, '?', 'N')\n",
      "90422\n"
     ]
    },
    {
     "data": {
      "text/plain": [
       "'\\nTABLE people (\\nid INT AUTO_INCREMENT,\\nage TINYINT,\\njob CHAR(1),\\nmaritial CHAR(1),\\neducation CHAR(1),\\nisDefault CHAR(1),\\nbalance INT,\\nhousing CHAR(1),\\nloan CHAR(1),\\ncontact CHAR(1),\\nday TINYINT,\\nmonth TINYINT,\\nduration SMALLINT,\\ncampaign TINYINT,\\npdays SMALLINT,\\nprevious SMALLINT,\\npoutcome CHAR(1),\\ny CHAR(1),\\n'"
      ]
     },
     "execution_count": 2,
     "metadata": {},
     "output_type": "execute_result"
    }
   ],
   "source": [
    "\n",
    "#format for graphs to work with dark themed notebook\n",
    "COLOR = 'white'\n",
    "matplotlib.rcParams['text.color'] = COLOR\n",
    "matplotlib.rcParams['axes.labelcolor'] = COLOR\n",
    "matplotlib.rcParams['xtick.color'] = COLOR\n",
    "matplotlib.rcParams['ytick.color'] = COLOR\n",
    "#end formatting\n",
    "records = Database(\"bank_data\")\n",
    "smallerTable = \"people\"\n",
    "largerTable = \"people_additional\"\n",
    "print(records.getEntries('people',0,1))\n",
    "print(records.getSize(\"people\"))\n",
    "\"\"\"\n",
    "TABLE people (\n",
    "id INT AUTO_INCREMENT,\n",
    "age TINYINT,\n",
    "job CHAR(1),\n",
    "maritial CHAR(1),\n",
    "education CHAR(1),\n",
    "isDefault CHAR(1),\n",
    "balance INT,\n",
    "housing CHAR(1),\n",
    "loan CHAR(1),\n",
    "contact CHAR(1),\n",
    "day TINYINT,\n",
    "month TINYINT,\n",
    "duration SMALLINT,\n",
    "campaign TINYINT,\n",
    "pdays SMALLINT,\n",
    "previous SMALLINT,\n",
    "poutcome CHAR(1),\n",
    "y CHAR(1),\n",
    "\"\"\""
   ]
  },
  {
   "cell_type": "code",
   "execution_count": 3,
   "metadata": {},
   "outputs": [],
   "source": [
    "#first just examine frequency of 'y'\n",
    "numPeople = records.getSize('people')\n",
    "numPeopleAdditional = records.getSize('people_additional')\n",
    "peopleOut = records.getEntriesByField('people',0,numPeople,'y')\n",
    "peopleAdditionalOut = records.getEntriesByField('people_additional',0,numPeopleAdditional,'y')"
   ]
  },
  {
   "cell_type": "code",
   "execution_count": 4,
   "metadata": {},
   "outputs": [
    {
     "data": {
      "image/png": "[encoded data removed]",
      "text/plain": [
       "<Figure size 432x288 with 1 Axes>"
      ]
     },
     "metadata": {
      "needs_background": "dark"
     },
     "output_type": "display_data"
    },
    {
     "name": "stdout",
     "output_type": "stream",
     "text": [
      "In the abbreviated dataset a purchase occured 11.70% of the time.\n",
      "In the full dataset a purchase occured 11.27% of the time.\n",
      "In the combined dataset a purchase occured 11.49% of the time.\n"
     ]
    }
   ],
   "source": [
    "#print out buying frequency\n",
    "peopleBuy = 0\n",
    "\n",
    "for char in peopleOut:\n",
    "    if char == 'Y': peopleBuy+=1\n",
    "peopleAdditionalBuy = 0\n",
    "for char in peopleAdditionalOut:\n",
    "    if char == 'Y': peopleAdditionalBuy+=1\n",
    "\n",
    "buys = (peopleBuy,peopleAdditionalBuy,peopleBuy+peopleAdditionalBuy)\n",
    "notBuys = (numPeople-buys[0],numPeopleAdditional-buys[1],numPeople+numPeopleAdditional-buys[2])\n",
    "\n",
    "ind = [ i for i in range(3)]\n",
    "width = .4\n",
    "plt.figure(1)\n",
    "plt.bar(ind,buys,width,label= 'Purchase')\n",
    "plt.bar([item+width for item in ind],notBuys,width,label='No Purchase')\n",
    "plt.title('Purchase frequency by dataset')\n",
    "plt.xticks([item+width/2 for item in ind],('abbreviated dataset','full dataset', 'overall'))\n",
    "plt.legend(loc='best')\n",
    "plt.show()\n",
    "\n",
    "print(\"In the abbreviated dataset a purchase occured {:.2f}% of the time.\".format(\n",
    "     ( float(buys[0])/float(numPeople) )*100 ) )\n",
    "print(\"In the full dataset a purchase occured {:.2f}% of the time.\".format(\n",
    "     ( float(buys[1])/float(numPeopleAdditional) )*100 ) )\n",
    "print(\"In the combined dataset a purchase occured {:.2f}% of the time.\".format(\n",
    "     ( float(buys[2])/float(numPeople+numPeopleAdditional) )*100 ) )\n"
   ]
  },
  {
   "cell_type": "code",
   "execution_count": 5,
   "metadata": {},
   "outputs": [],
   "source": [
    "#get data dictionaries for processing\n",
    "peopleMap, peopleAdditionalMap = records.getMaps()\n",
    "\n",
    "\n"
   ]
  },
  {
   "cell_type": "code",
   "execution_count": 6,
   "metadata": {
    "scrolled": true
   },
   "outputs": [],
   "source": [
    "\n",
    "#sql entries\n",
    "line = records.getEntries('people',0,numPeople)\n",
    "#translate to human-readable dataframe (similar to original csv)\n",
    "df = proc.getDataFrame(line,peopleMap)\n",
    "#see validate for more details, basically ensures all categories accounted for properly\n",
    "proc.validate(df,peopleMap)\n",
    "\n",
    "vec = proc.getOneHot(df,peopleMap,False)\n",
    "\n",
    "#duration is not known until outcome is known\n",
    "#see dataset documentation for more info\n",
    "vec = vec.drop('duration',axis=1)\n",
    "\n",
    "\n",
    "\n",
    "lineA = records.getEntries('people_additional',0,numPeopleAdditional)\n",
    "dfa = proc.getDataFrame(lineA,peopleAdditionalMap)\n",
    "proc.validate(dfa,peopleAdditionalMap)\n",
    "#dfa = dfa.drop('duration',axis=1)\n",
    "vecA = proc.getOneHot(dfa,peopleAdditionalMap,False)\n",
    "\n",
    "vecA = vecA.drop('duration',axis=1)\n",
    "\n",
    "\n",
    "#rand generator\n",
    "randomGenr = np.random.default_rng()\n",
    "\n",
    "#get cols\n",
    "colTitles = vec.columns\n",
    "colTitlesA = vecA.columns\n",
    "#get processing array\n",
    "dataOneHot = vec.to_numpy(dtype=np.float64)\n",
    "dataOneHotA = vecA.to_numpy(dtype=np.float64)\n",
    "\n",
    "##practice  run:\n"
   ]
  },
  {
   "cell_type": "code",
   "execution_count": 7,
   "metadata": {
    "scrolled": true
   },
   "outputs": [
    {
     "data": {
      "text/plain": [
       "\"\\nfor i in range(5):\\n    print('trial: {}'.format(i))\\n    \\n    #generate models\\n    treeModel = RandomForestClassifier(n_estimators=numTrees)\\n    treeModelA = RandomForestClassifier(n_estimators=numTrees)\\n    \\n\\n    #get datasets \\n    dataP = dataOneHot\\n    dataA = dataOneHotA\\n        \\n    #shuffle data\\n    randomGenr.shuffle(dataP)\\n    randomGenr.shuffle(dataA)\\n    \\n    #extract features, set float\\n    features = dataP[:,:-1].astype(np.float64)\\n    featuresA = dataA[:,:-1].astype(np.float64)\\n    \\n    #extract labels\\n    labels = dataP[:,-1]\\n    labelsA = dataA[:,-1]\\n    \\n\\n    #get ~10% of indices as random choice WITHOUT replacement for test\\n    testIndices = randomGenr.choice(len(labels),size=int(len(labels)*.1),replace=False)\\n    testIndicesA = randomGenr.choice(len(labelsA),size=int(len(labelsA)*.1),replace=False)\\n    \\n    #take test items\\n    testLabels = np.take(labels,testIndices)\\n    testFeatures = np.take(features,testIndices,axis=0)\\n    testLabelsA = np.take(labelsA,testIndicesA)\\n    testFeaturesA = np.take(featuresA,testIndicesA,axis=0)\\n\\n    #remove test items\\n    trainLabels = np.delete(labels,testIndices)\\n    trainFeatures = np.delete(features,testIndices,axis=0)\\n    trainLabelsA = np.delete(labelsA,testIndicesA)\\n    trainFeaturesA = np.delete(featuresA,testIndicesA,axis=0)\\n\\n    #fit models\\n    treeModel.fit(trainFeatures,trainLabels)\\n    treeModelA.fit(trainFeaturesA,trainLabelsA)\\n \\n    #get predictions\\n    treePredictions = treeModel.predict(testFeatures)\\n    treePredictionsA = treeModelA.predict(testFeaturesA)\\n    \\n    #get model probability score for predictions\\n    treeProbs = treeModel.predict_proba(testFeatures)\\n    treeProbsA = treeModel.predict_proba(testFeatures)\\n    \\n    #get feature importance, using permutation_importance (issues possible )\\n    bunch = permutation_importance(treeModel, testFeatures, testLabels, n_repeats=10)\\n    bunchA = permutation_importance(treeModelA, testFeaturesA, testLabelsA, n_repeats=10)\\n   \\n\\n    #Save records for later processing\\n    #TODO: vectorize np writes\\n    np.save('./np/actual/actual_{}'.format(i),testLabels)\\n    np.save('./np/actual/actual_add_{}'.format(i),testLabelsA)\\n    \\n    np.save('./np/rafo/prediction_{}_{}'.format(i,numTrees),treePredictions)\\n    np.save('./np/rafo/tree_proba_{}_{}'.format(i,numTrees),treeProbs)\\n    \\n    np.save('./np/rafo/prediction_add_{}_{}'.format(i,numTrees),treePredictionsA)\\n    np.save('./np/rafo/tree_proba_add_{}_{}'.format(i,numTrees),treeProbsA)\\n    \\n    for key in bunch.keys():\\n        np.save('./np/rafo/perm_import_{}_{}'.format(i,key),bunch[key])\\n        np.save('./np/rafo/perm_import_add_{}_{}'.format(i,key),bunchA[key])\\n    for key in bunch.keys():\\n        print(bunch[key].shape)\\n        \\nprint('done')\\n\""
      ]
     },
     "execution_count": 7,
     "metadata": {},
     "output_type": "execute_result"
    }
   ],
   "source": [
    "numTrees = 1000\n",
    "\"\"\"\n",
    "for i in range(5):\n",
    "    print('trial: {}'.format(i))\n",
    "    \n",
    "    #generate models\n",
    "    treeModel = RandomForestClassifier(n_estimators=numTrees)\n",
    "    treeModelA = RandomForestClassifier(n_estimators=numTrees)\n",
    "    \n",
    "\n",
    "    #get datasets \n",
    "    dataP = dataOneHot\n",
    "    dataA = dataOneHotA\n",
    "        \n",
    "    #shuffle data\n",
    "    randomGenr.shuffle(dataP)\n",
    "    randomGenr.shuffle(dataA)\n",
    "    \n",
    "    #extract features, set float\n",
    "    features = dataP[:,:-1].astype(np.float64)\n",
    "    featuresA = dataA[:,:-1].astype(np.float64)\n",
    "    \n",
    "    #extract labels\n",
    "    labels = dataP[:,-1]\n",
    "    labelsA = dataA[:,-1]\n",
    "    \n",
    "\n",
    "    #get ~10% of indices as random choice WITHOUT replacement for test\n",
    "    testIndices = randomGenr.choice(len(labels),size=int(len(labels)*.1),replace=False)\n",
    "    testIndicesA = randomGenr.choice(len(labelsA),size=int(len(labelsA)*.1),replace=False)\n",
    "    \n",
    "    #take test items\n",
    "    testLabels = np.take(labels,testIndices)\n",
    "    testFeatures = np.take(features,testIndices,axis=0)\n",
    "    testLabelsA = np.take(labelsA,testIndicesA)\n",
    "    testFeaturesA = np.take(featuresA,testIndicesA,axis=0)\n",
    "\n",
    "    #remove test items\n",
    "    trainLabels = np.delete(labels,testIndices)\n",
    "    trainFeatures = np.delete(features,testIndices,axis=0)\n",
    "    trainLabelsA = np.delete(labelsA,testIndicesA)\n",
    "    trainFeaturesA = np.delete(featuresA,testIndicesA,axis=0)\n",
    "\n",
    "    #fit models\n",
    "    treeModel.fit(trainFeatures,trainLabels)\n",
    "    treeModelA.fit(trainFeaturesA,trainLabelsA)\n",
    " \n",
    "    #get predictions\n",
    "    treePredictions = treeModel.predict(testFeatures)\n",
    "    treePredictionsA = treeModelA.predict(testFeaturesA)\n",
    "    \n",
    "    #get model probability score for predictions\n",
    "    treeProbs = treeModel.predict_proba(testFeatures)\n",
    "    treeProbsA = treeModel.predict_proba(testFeatures)\n",
    "    \n",
    "    #get feature importance, using permutation_importance (issues possible )\n",
    "    bunch = permutation_importance(treeModel, testFeatures, testLabels, n_repeats=10)\n",
    "    bunchA = permutation_importance(treeModelA, testFeaturesA, testLabelsA, n_repeats=10)\n",
    "   \n",
    "\n",
    "    #Save records for later processing\n",
    "    #TODO: vectorize np writes\n",
    "    np.save('./np/actual/actual_{}'.format(i),testLabels)\n",
    "    np.save('./np/actual/actual_add_{}'.format(i),testLabelsA)\n",
    "    \n",
    "    np.save('./np/rafo/prediction_{}_{}'.format(i,numTrees),treePredictions)\n",
    "    np.save('./np/rafo/tree_proba_{}_{}'.format(i,numTrees),treeProbs)\n",
    "    \n",
    "    np.save('./np/rafo/prediction_add_{}_{}'.format(i,numTrees),treePredictionsA)\n",
    "    np.save('./np/rafo/tree_proba_add_{}_{}'.format(i,numTrees),treeProbsA)\n",
    "    \n",
    "    for key in bunch.keys():\n",
    "        np.save('./np/rafo/perm_import_{}_{}'.format(i,key),bunch[key])\n",
    "        np.save('./np/rafo/perm_import_add_{}_{}'.format(i,key),bunchA[key])\n",
    "    for key in bunch.keys():\n",
    "        print(bunch[key].shape)\n",
    "        \n",
    "print('done')\n",
    "\"\"\"\n",
    "    "
   ]
  },
  {
   "cell_type": "code",
   "execution_count": 8,
   "metadata": {},
   "outputs": [
    {
     "name": "stdout",
     "output_type": "stream",
     "text": [
      "(1,)\n",
      "(2,)\n",
      "(3,)\n",
      "(4,)\n",
      "(5,)\n"
     ]
    }
   ],
   "source": [
    "#TODO: vectorize np reads\n",
    "\n",
    "forestPred = np.array([])\n",
    "forestProb = np.array([])\n",
    "actual = np.array([])\n",
    "forestPredA = np.array([])\n",
    "forestProbA = np.array([])\n",
    "actualA = np.array([])\n",
    "bunches = np.array([])\n",
    "bunchesA = np.array([])\n",
    "\n",
    "\n",
    "\n",
    "for i in range(5):\n",
    "\n",
    "    if(i==0):\n",
    "        actual = [np.load('./np/actual/actual_{}.npy'.format(i))]\n",
    "        forestPred = [np.load('./np/rafo/prediction_{}_{}.npy'.format(i,numTrees))]\n",
    "        forestProb = [np.load('./np/rafo/tree_proba_{}_{}.npy'.format(i,numTrees))]\n",
    "        \n",
    "        actualA = [np.load('./np/actual/actual_add_{}.npy'.format(i))]\n",
    "        forestPredA = [np.load('./np/rafo/prediction_add_{}_{}.npy'.format(i,numTrees))]\n",
    "        forestProbA = [np.load('./np/rafo/tree_proba_add_{}_{}.npy'.format(i,numTrees))]\n",
    "\n",
    "    else:\n",
    "        actual = np.append(actual,[np.load('./np/actual/actual_{}.npy'.format(i))],axis=0)\n",
    "        forestPred = np.append(forestPred,[np.load('./np/rafo/prediction_{}_{}.npy'.format(i,numTrees))],axis=0)\n",
    "        forestProb = np.append(forestProb,[np.load('./np/rafo/tree_proba_{}_{}.npy'.format(i,numTrees))],axis=0)\n",
    "        \n",
    "        actualA = np.append(actualA,[np.load('./np/actual/actual_add_{}.npy'.format(i))],axis=0)\n",
    "        forestPredA = np.append(forestPredA,[np.load('./np/rafo/prediction_add_{}_{}.npy'.format(i,numTrees))],axis=0)\n",
    "        forestProbA = np.append(forestProbA,[np.load('./np/rafo/tree_proba_add_{}_{}.npy'.format(i,numTrees))],axis=0)\n",
    "    bunch = dict()\n",
    "    bunchA = dict()\n",
    "    for key in ['importances','importances_mean','importances_std']:\n",
    "        bunch[key] = np.load('/Users/jake/proj/tele_pred/np/rafo/perm_import_{}_{}.npy'.format(i,key))\n",
    "        bunchA[key] = np.load('/Users/jake/proj/tele_pred/np/rafo/perm_import_add_{}_{}.npy'.format(i,key))\n",
    "    bunches = np.append(bunches,bunch)\n",
    "    print(bunches.shape)\n",
    "    bunchesA = np.append(bunchesA,bunchA)"
   ]
  },
  {
   "cell_type": "code",
   "execution_count": 9,
   "metadata": {},
   "outputs": [],
   "source": [
    "#might be able to base (some) vectorization of redundant stuff above off this loop\n",
    "corrects = []\n",
    "wrongs = []\n",
    "for i in range(2):\n",
    "    c = []\n",
    "    #this is the probability(y=1)\n",
    "    w = []\n",
    "    for ac,fo,pr in zip(actual,forestPred,forestProb):\n",
    "        #[trueNegative,truePositive,averageProb]\n",
    "        correct = [0,0,0]\n",
    "        #[falseNegative,falsePositive,averageProb]\n",
    "        wrong = [0,0,0]\n",
    "        for a,f,p in zip(ac,fo,pr):\n",
    "            if a == f:\n",
    "                correct[int(a)]+=1\n",
    "                correct[2]+=p[int(f)]\n",
    "            else:\n",
    "                wrong[int(a)]+=1\n",
    "                wrong[2]+=p[int(f)]\n",
    "        \n",
    "        correct[2] = correct[2]/(correct[0]+correct[1])\n",
    "        wrong[2] = wrong[2]/(wrong[0]+wrong[1])\n",
    "        c.append(correct)\n",
    "        w.append(wrong)\n",
    "    corrects.append(c)\n",
    "    wrongs.append(w)"
   ]
  },
  {
   "cell_type": "code",
   "execution_count": 10,
   "metadata": {},
   "outputs": [
    {
     "data": {
      "text/plain": [
       "'\\nlogger.info(\\'Duration feature has been removed for these runs:\\')\\nfor co,wr in zip(corrects,wrongs):\\n    i=0\\n    for c,w in zip(co,wr):\\n        if i==0:\\n            logger.info(\"RUN NUMBER: {}, number of trees: {}, standard feature set\".format(i,numTrees))\\n        else:\\n            logger.info(\"RUN NUMBER: {}, number of trees: {}, extended feature set\".format(i,numTrees))\\n    \\n        logger.info(\"{} TRUE POSITIVES\".format(c[1]))\\n        logger.info(\"{} TRUE NEGATIVES\".format(c[0]))\\n        logger.info(\"{} FALSE POSITIVES\".format(w[0]))\\n        logger.info(\"{} FALSE NEGATIVES\".format(w[1]))\\n        logger.info(\\'correct {}% of the time with average confidence={}\\'.format((100*(c[0]+c[1])/(w[0]+w[1]+c[0]+c[1])),c[2]))\\n        logger.info(\\'wrong {}% of the time with average confidence={}\\'.format((100*(w[0]+w[1])/(w[0]+w[1]+c[0]+c[1])),w[2]))\\n        logger.info(\\'\\n---\\')\\n        i+=1\\n '"
      ]
     },
     "execution_count": 10,
     "metadata": {},
     "output_type": "execute_result"
    }
   ],
   "source": [
    "\"\"\"\n",
    "logger.info('Duration feature has been removed for these runs:')\n",
    "for co,wr in zip(corrects,wrongs):\n",
    "    i=0\n",
    "    for c,w in zip(co,wr):\n",
    "        if i==0:\n",
    "            logger.info(\"RUN NUMBER: {}, number of trees: {}, standard feature set\".format(i,numTrees))\n",
    "        else:\n",
    "            logger.info(\"RUN NUMBER: {}, number of trees: {}, extended feature set\".format(i,numTrees))\n",
    "    \n",
    "        logger.info(\"{} TRUE POSITIVES\".format(c[1]))\n",
    "        logger.info(\"{} TRUE NEGATIVES\".format(c[0]))\n",
    "        logger.info(\"{} FALSE POSITIVES\".format(w[0]))\n",
    "        logger.info(\"{} FALSE NEGATIVES\".format(w[1]))\n",
    "        logger.info('correct {}% of the time with average confidence={}'.format((100*(c[0]+c[1])/(w[0]+w[1]+c[0]+c[1])),c[2]))\n",
    "        logger.info('wrong {}% of the time with average confidence={}'.format((100*(w[0]+w[1])/(w[0]+w[1]+c[0]+c[1])),w[2]))\n",
    "        logger.info('\\n---')\n",
    "        i+=1\n",
    " \"\"\"   \n",
    "        "
   ]
  },
  {
   "cell_type": "code",
   "execution_count": 31,
   "metadata": {},
   "outputs": [
    {
     "name": "stdout",
     "output_type": "stream",
     "text": [
      "['job', 'education', 'housing', 'marital', 'contact', 'poutcome', 'loan', 'month', 'balance', 'day', 'other']\n",
      "[14.932603217049254, 12.824870096969443, 12.672066348257452, 12.53035941307866, 11.721770433304965, 9.011087938952604, 8.571615057600942, 3.2747511026876714, 3.2555759818668104, 2.9553654965152063, 8.249934913716999]\n"
     ]
    }
   ],
   "source": [
    "cols = colTitles[:-1]\n",
    "colsA = colTitlesA[:-1]\n",
    "\n",
    "\n",
    "result = proc.processImportance(peopleMap,cols,bunches[0])\n",
    "#unpack processed info\n",
    "meanLabels = result[0]\n",
    "meanPercentages = result[1]\n",
    "rest = result[2]\n",
    "\n",
    "\n"
   ]
  },
  {
   "cell_type": "code",
   "execution_count": 32,
   "metadata": {},
   "outputs": [
    {
     "data": {
      "image/png": "[encoded data removed]",
      "text/plain": [
       "<Figure size 1440x720 with 1 Axes>"
      ]
     },
     "metadata": {},
     "output_type": "display_data"
    },
    {
     "name": "stdout",
     "output_type": "stream",
     "text": [
      "Other factors include:\n",
      "age - 2.8193%\n",
      "campaign - 2.3531%\n",
      "isDefault - 2.2505%\n",
      "previous - 0.6232%\n",
      "pdays - 0.2037%\n"
     ]
    }
   ],
   "source": [
    "\n",
    "\n",
    "COLOR = 'black'\n",
    "matplotlib.rcParams['text.color'] = COLOR\n",
    "matplotlib.rcParams['axes.labelcolor'] = COLOR\n",
    "matplotlib.rcParams['xtick.color'] = COLOR\n",
    "matplotlib.rcParams['ytick.color'] = COLOR\n",
    "\n",
    "\n",
    "\n",
    "fig, ax = plt.subplots(figsize=(20, 10), subplot_kw=dict(aspect=\"equal\"))\n",
    "\n",
    "recipe = meanLabels\n",
    "data = meanPercentages\n",
    "\n",
    "wedges, texts = ax.pie(data, wedgeprops=dict(width=0.5), startangle=-40)\n",
    "\n",
    "bbox_props = dict(boxstyle=\"square,pad=0.3\", fc=\"w\", ec=\"k\", lw=.72)\n",
    "kw = dict(arrowprops=dict(arrowstyle=\"-\"),\n",
    "          bbox=bbox_props, zorder=0, va=\"center\")\n",
    "\n",
    "for i, p in enumerate(wedges):\n",
    "    ang = (p.theta2 - p.theta1)/2. + p.theta1\n",
    "    y = np.sin(np.deg2rad(ang))\n",
    "    x = np.cos(np.deg2rad(ang))\n",
    "    horizontalalignment = {-1: \"right\", 1: \"left\"}[int(np.sign(x))]\n",
    "    connectionstyle = \"angle,angleA=0,angleB={}\".format(ang)\n",
    "    kw[\"arrowprops\"].update({\"connectionstyle\": connectionstyle})\n",
    "    ax.annotate(recipe[i], xy=(x, y), xytext=(1.35*np.sign(x), 1.4*y),\n",
    "                horizontalalignment=horizontalalignment,backgroundcolor='green', **kw)\n",
    "\n",
    "ax.set_title(\"Most determinative factors\",color='white')\n",
    "\n",
    "plt.show()\n",
    "print('Other factors include:')\n",
    "for line in rest:\n",
    "    print(line)"
   ]
  },
  {
   "cell_type": "code",
   "execution_count": 13,
   "metadata": {},
   "outputs": [
    {
     "name": "stdout",
     "output_type": "stream",
     "text": [
      "i:0, job - 14.9326%\n",
      "i:1, education - 12.8249%\n",
      "i:2, housing - 12.6721%\n",
      "i:3, marital - 12.5304%\n",
      "i:4, contact - 11.7218%\n",
      "i:5, poutcome - 9.0111%\n",
      "i:6, loan - 8.5716%\n",
      "i:7, month - 3.2748%\n",
      "i:8, balance - 3.2556%\n",
      "i:9, day - 2.9554%\n",
      "i:10, other - 8.2499%\n"
     ]
    }
   ],
   "source": [
    "for i in range(len(recipe)):\n",
    "    print(\"i:{}, {}\".format(i,recipe[i]))"
   ]
  },
  {
   "cell_type": "code",
   "execution_count": null,
   "metadata": {},
   "outputs": [],
   "source": []
  },
  {
   "cell_type": "code",
   "execution_count": null,
   "metadata": {},
   "outputs": [],
   "source": []
  }
 ],
 "metadata": {
  "kernelspec": {
   "display_name": "Python 3",
   "language": "python",
   "name": "python3"
  },
  "language_info": {
   "codemirror_mode": {
    "name": "ipython",
    "version": 3
   },
   "file_extension": ".py",
   "mimetype": "text/x-python",
   "name": "python",
   "nbconvert_exporter": "python",
   "pygments_lexer": "ipython3",
   "version": "3.7.6"
  }
 },
 "nbformat": 4,
 "nbformat_minor": 4
}
