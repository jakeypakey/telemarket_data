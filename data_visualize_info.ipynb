{
 "cells": [
  {
   "cell_type": "code",
   "execution_count": 1,
   "metadata": {},
   "outputs": [
    {
     "name": "stdout",
     "output_type": "stream",
     "text": [
      "Connected to db\n",
      "Successful SQL commands are printed on execution.\n",
      "USE bank_data\n",
      "[(1, 58, 'M', 'M', 'T', 'N', 2143, 'Y', 'N', '?', 5, 5, 261, 1, -1, 0, '?', 'N')]\n",
      "45211\n"
     ]
    },
    {
     "data": {
      "text/plain": [
       "'\\nTABLE people (\\nid INT AUTO_INCREMENT,\\nage TINYINT,\\njob CHAR(1),\\nmaritial CHAR(1),\\neducation CHAR(1),\\nisDefault CHAR(1),\\nbalance INT,\\nhousing CHAR(1),\\nloan CHAR(1),\\ncontact CHAR(1),\\nday TINYINT,\\nmonth TINYINT,\\nduration SMALLINT,\\ncampaign TINYINT,\\npdays SMALLINT,\\nprevious SMALLINT,\\npoutcome CHAR(1),\\ny CHAR(1),\\n'"
      ]
     },
     "execution_count": 1,
     "metadata": {},
     "output_type": "execute_result"
    }
   ],
   "source": [
    "from db import Database\n",
    "import processing as proc\n",
    "import matplotlib.pyplot as plt\n",
    "records = Database(\"bank_data\")\n",
    "smallerTable = \"people\"\n",
    "largerTable = \"people_additional\"\n",
    "print(records.getEntries('people',0,1))\n",
    "print(records.getSize(\"people\"))\n",
    "\"\"\"\n",
    "TABLE people (\n",
    "id INT AUTO_INCREMENT,\n",
    "age TINYINT,\n",
    "job CHAR(1),\n",
    "maritial CHAR(1),\n",
    "education CHAR(1),\n",
    "isDefault CHAR(1),\n",
    "balance INT,\n",
    "housing CHAR(1),\n",
    "loan CHAR(1),\n",
    "contact CHAR(1),\n",
    "day TINYINT,\n",
    "month TINYINT,\n",
    "duration SMALLINT,\n",
    "campaign TINYINT,\n",
    "pdays SMALLINT,\n",
    "previous SMALLINT,\n",
    "poutcome CHAR(1),\n",
    "y CHAR(1),\n",
    "\"\"\""
   ]
  },
  {
   "cell_type": "code",
   "execution_count": 2,
   "metadata": {},
   "outputs": [],
   "source": [
    "#first just examine frequency of 'y'\n",
    "numPeople = records.getSize('people')\n",
    "numPeopleAdditional = records.getSize('people_additional')\n",
    "peopleOut = records.getEntriesByField('people',0,numPeople,'y')\n",
    "peopleAdditionalOut = records.getEntriesByField('people_additional',0,numPeopleAdditional,'y')"
   ]
  },
  {
   "cell_type": "code",
   "execution_count": 3,
   "metadata": {},
   "outputs": [
    {
     "data": {
      "image/png": "[encoded data removed]",
      "text/plain": [
       "<Figure size 432x288 with 1 Axes>"
      ]
     },
     "metadata": {
      "needs_background": "light"
     },
     "output_type": "display_data"
    },
    {
     "name": "stdout",
     "output_type": "stream",
     "text": [
      "In the abbreviated dataset a purchase occured 11.70% of the time.\n",
      "In the full dataset a purchase occured 11.27% of the time.\n",
      "In the combined dataset a purchase occured 11.49% of the time.\n"
     ]
    }
   ],
   "source": [
    "#print out buying frequency\n",
    "peopleBuy = 0\n",
    "\n",
    "for char in peopleOut:\n",
    "    if char == 'Y': peopleBuy+=1\n",
    "peopleAdditionalBuy = 0\n",
    "for char in peopleAdditionalOut:\n",
    "    if char == 'Y': peopleAdditionalBuy+=1\n",
    "\n",
    "buys = (peopleBuy,peopleAdditionalBuy,peopleBuy+peopleAdditionalBuy)\n",
    "notBuys = (numPeople-buys[0],numPeopleAdditional-buys[1],numPeople+numPeopleAdditional-buys[2])\n",
    "\n",
    "ind = [ i for i in range(3)]\n",
    "width = .4\n",
    "plt.figure(1)\n",
    "plt.bar(ind,buys,width,label= 'Purchase')\n",
    "plt.bar([item+width for item in ind],notBuys,width,label='No Purchase')\n",
    "plt.title('Purchase frequency by dataset')\n",
    "plt.xticks([item+width/2 for item in ind],('abbreviated dataset','full dataset', 'overall'))\n",
    "plt.legend(loc='best')\n",
    "plt.show()\n",
    "\n",
    "print(\"In the abbreviated dataset a purchase occured {:.2f}% of the time.\".format(\n",
    "     ( float(buys[0])/float(numPeople) )*100 ) )\n",
    "print(\"In the full dataset a purchase occured {:.2f}% of the time.\".format(\n",
    "     ( float(buys[1])/float(numPeopleAdditional) )*100 ) )\n",
    "print(\"In the combined dataset a purchase occured {:.2f}% of the time.\".format(\n",
    "     ( float(buys[2])/float(numPeople+numPeopleAdditional) )*100 ) )\n"
   ]
  },
  {
   "cell_type": "code",
   "execution_count": 4,
   "metadata": {
    "scrolled": true
   },
   "outputs": [
    {
     "name": "stdout",
     "output_type": "stream",
     "text": [
      "{'age': 0, 'job': {'M': 'management', 'B': 'blue-collar', 'E': 'entrepreneur', 'H': 'housemaid', 'R': 'retired', 'F': 'self-employed', 'V': 'services', 'S': 'student', 'T': 'technician', 'U': 'unemployed', '?': 'unknown'}, 'marital': {'D': 'divorced', 'M': 'married', 'S': 'single', '?': 'unknown'}, 'education': {'P': 'primary', 'S': 'secondary', 'T': 'tertiary', '?': 'unknown'}, 'isDefault': {'Y': 'yes', 'N': 'no', '?': 'unknown'}, 'balance': 2, 'housing': {'Y': 'yes', 'N': 'no', '?': 'unknown'}, 'loan': {'Y': 'yes', 'N': 'no', '?': 'unknown'}, 'contact': {'C': 'cellular', 'T': 'telephone', '?': 'unknown'}, 'day': 0, 'month': {1: 'jan', 2: 'feb', 3: 'mar', 4: 'apr', 5: 'may', 6: 'jun', 7: 'jul', 8: 'aug', 9: 'sep', 10: 'oct', 11: 'nov', 12: 'dec'}, 'duration': 1, 'campaign': 0, 'pdays': 1, 'previous': 1, 'poutcome': {'S': 'success', 'F': 'failure', 'O': 'other', '?': 'unknown'}, 'y': {'Y': 'yes', 'N': 'no'}}\n",
      "+++++++++++++++++++\n",
      "age\n",
      "job:management\n",
      "job:blue-collar\n",
      "job:entrepreneur\n",
      "job:housemaid\n",
      "job:retired\n",
      "job:self-employed\n",
      "job:services\n",
      "job:student\n",
      "job:technician\n",
      "job:unemployed\n",
      "job:unknown\n",
      "marital:divorced\n",
      "marital:married\n",
      "marital:single\n",
      "marital:unknown\n",
      "education:primary\n",
      "education:secondary\n",
      "education:tertiary\n",
      "education:unknown\n",
      "isDefault:yes\n",
      "isDefault:no\n",
      "isDefault:unknown\n",
      "balance\n",
      "housing:yes\n",
      "housing:no\n",
      "housing:unknown\n",
      "loan:yes\n",
      "loan:no\n",
      "loan:unknown\n",
      "contact:cellular\n",
      "contact:telephone\n",
      "contact:unknown\n",
      "day\n",
      "month\n",
      "duration\n",
      "campaign\n",
      "pdays\n",
      "previous\n",
      "poutcome:success\n",
      "poutcome:failure\n",
      "poutcome:other\n",
      "poutcome:unknown\n",
      "y\n",
      "+++++++++++++++++++\n",
      "age\n",
      "job:management\n",
      "job:blue-collar\n",
      "job:entrepreneur\n",
      "job:housemaid\n",
      "job:retired\n",
      "job:self-employed\n",
      "job:services\n",
      "job:student\n",
      "job:technician\n",
      "job:unemployed\n",
      "job:unknown\n",
      "marital:divorced\n",
      "marital:married\n",
      "marital:single\n",
      "marital:unknown\n",
      "education:basic.4y\n",
      "education:basic.6y\n",
      "education:basic.9y\n",
      "education:professional.course\n",
      "education:high.school\n",
      "education:university.degree\n",
      "education:illiterate\n",
      "education:unknown\n",
      "isDefault:yes\n",
      "isDefault:no\n",
      "isDefault:unknown\n",
      "housing:yes\n",
      "housing:no\n",
      "housing:unknown\n",
      "loan:yes\n",
      "loan:no\n",
      "loan:unknown\n",
      "contact:cellular\n",
      "contact:telephone\n",
      "contact:unknown\n",
      "month\n",
      "day_of_week\n",
      "duration\n",
      "campaign\n",
      "pdays\n",
      "previous\n",
      "poutcome:success\n",
      "poutcome:failure\n",
      "poutcome:other\n",
      "poutcome:unknown\n",
      "poutcome:nonexistent\n",
      "emp.var.rate\n",
      "cons.price.idx\n",
      "cons.conf.idx\n",
      "euribor3m\n",
      "nr.employed\n",
      "y\n",
      "[0, {'M': 1, 'B': 2, 'E': 3, 'H': 4, 'R': 5, 'F': 6, 'V': 7, 'S': 8, 'T': 9, 'U': 10, '?': 11}, {'D': 12, 'M': 13, 'S': 14, '?': 15}, {'P': 16, 'S': 17, 'T': 18, '?': 19}, {'Y': 20, 'N': 21, '?': 22}, 23, {'Y': 24, 'N': 25, '?': 26}, {'Y': 27, 'N': 28, '?': 29}, {'C': 30, 'T': 31, '?': 32}, 33, 34, 35, 36, 37, 38, {'S': 39, 'F': 40, 'O': 41, '?': 42}, 43]\n",
      "++++++++++++\n",
      "[0, {'M': 1, 'B': 2, 'E': 3, 'H': 4, 'R': 5, 'F': 6, 'V': 7, 'S': 8, 'T': 9, 'U': 10, '?': 11}, {'D': 12, 'M': 13, 'S': 14, '?': 15}, {'4': 16, '6': 17, '9': 18, 'F': 19, 'H': 20, 'U': 21, 'I': 22, '?': 23}, {'Y': 24, 'N': 25, '?': 26}, {'Y': 27, 'N': 28, '?': 29}, {'Y': 30, 'N': 31, '?': 32}, {'C': 33, 'T': 34, '?': 35}, 36, 37, 38, 39, 40, 41, {'S': 42, 'F': 43, 'O': 44, '?': 45, 'N': 46}, 47, 48, 49, 50, 51, 44]\n"
     ]
    }
   ],
   "source": [
    "#get data dictionaries for processing\n",
    "peopleMap, peopleAdditionalMap = records.getMaps()\n",
    "\n",
    "#get processing vectors, used to turn catagorical data to one-hot\n",
    "procPeople,procAdditional = proc.generateProcMaps(peopleMap,peopleAdditionalMap)\n",
    "\n",
    "#generate labels for one-hot\n",
    "labelsPeople,labelsPeopleAdditional = proc.generateLabels(peopleMap,peopleAdditionalMap)\n",
    "\n",
    "#length of final one-hot processing vectors\n",
    "peopleLen = procPeople[-1]\n",
    "additionalLen = procAdditional[-1]\n",
    "\n",
    "\n",
    "\n",
    "\n",
    "\n",
    "\n"
   ]
  },
  {
   "cell_type": "code",
   "execution_count": null,
   "metadata": {},
   "outputs": [],
   "source": []
  },
  {
   "cell_type": "code",
   "execution_count": null,
   "metadata": {},
   "outputs": [],
   "source": []
  },
  {
   "cell_type": "code",
   "execution_count": null,
   "metadata": {},
   "outputs": [],
   "source": []
  }
 ],
 "metadata": {
  "kernelspec": {
   "display_name": "Python 3",
   "language": "python",
   "name": "python3"
  },
  "language_info": {
   "codemirror_mode": {
    "name": "ipython",
    "version": 3
   },
   "file_extension": ".py",
   "mimetype": "text/x-python",
   "name": "python",
   "nbconvert_exporter": "python",
   "pygments_lexer": "ipython3",
   "version": "3.7.6"
  }
 },
 "nbformat": 4,
 "nbformat_minor": 4
}
