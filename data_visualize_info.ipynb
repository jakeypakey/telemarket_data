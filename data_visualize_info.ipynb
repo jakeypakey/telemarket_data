{
 "cells": [
  {
   "cell_type": "code",
   "execution_count": 1,
   "metadata": {},
   "outputs": [],
   "source": [
    "from db import Database\n",
    "import processing as proc\n",
    "import matplotlib.pyplot as plt\n",
    "import matplotlib\n",
    "import numpy as np\n",
    "import pandas as pd\n",
    "from sklearn.ensemble import RandomForestClassifier\n",
    "from sklearn.inspection import permutation_importance\n",
    "import sklearn\n",
    "\n",
    "logger = proc.setupLog()"
   ]
  },
  {
   "cell_type": "code",
   "execution_count": 2,
   "metadata": {},
   "outputs": [
    {
     "name": "stdout",
     "output_type": "stream",
     "text": [
      "Connected to db\n",
      "Successful SQL commands are printed on execution.\n",
      "USE bank_data\n",
      "(58, 'M', 'M', 'T', 'N', 2143, 'Y', 'N', '?', 5, 5, 261, 1, -1, 0, '?', 'N')\n",
      "90422\n"
     ]
    },
    {
     "data": {
      "text/plain": [
       "'\\nTABLE people (\\nid INT AUTO_INCREMENT,\\nage TINYINT,\\njob CHAR(1),\\nmaritial CHAR(1),\\neducation CHAR(1),\\nisDefault CHAR(1),\\nbalance INT,\\nhousing CHAR(1),\\nloan CHAR(1),\\ncontact CHAR(1),\\nday TINYINT,\\nmonth TINYINT,\\nduration SMALLINT,\\ncampaign TINYINT,\\npdays SMALLINT,\\nprevious SMALLINT,\\npoutcome CHAR(1),\\ny CHAR(1),\\n'"
      ]
     },
     "execution_count": 2,
     "metadata": {},
     "output_type": "execute_result"
    }
   ],
   "source": [
    "\n",
    "#format for graphs to work with dark themed notebook\n",
    "COLOR = 'white'\n",
    "matplotlib.rcParams['text.color'] = COLOR\n",
    "matplotlib.rcParams['axes.labelcolor'] = COLOR\n",
    "matplotlib.rcParams['xtick.color'] = COLOR\n",
    "matplotlib.rcParams['ytick.color'] = COLOR\n",
    "#end formatting\n",
    "records = Database(\"bank_data\")\n",
    "smallerTable = \"people\"\n",
    "largerTable = \"people_additional\"\n",
    "print(records.getEntries('people',0,1))\n",
    "print(records.getSize(\"people\"))\n",
    "\"\"\"\n",
    "TABLE people (\n",
    "id INT AUTO_INCREMENT,\n",
    "age TINYINT,\n",
    "job CHAR(1),\n",
    "maritial CHAR(1),\n",
    "education CHAR(1),\n",
    "isDefault CHAR(1),\n",
    "balance INT,\n",
    "housing CHAR(1),\n",
    "loan CHAR(1),\n",
    "contact CHAR(1),\n",
    "day TINYINT,\n",
    "month TINYINT,\n",
    "duration SMALLINT,\n",
    "campaign TINYINT,\n",
    "pdays SMALLINT,\n",
    "previous SMALLINT,\n",
    "poutcome CHAR(1),\n",
    "y CHAR(1),\n",
    "\"\"\""
   ]
  },
  {
   "cell_type": "code",
   "execution_count": 3,
   "metadata": {},
   "outputs": [],
   "source": [
    "#first just examine frequency of 'y'\n",
    "numPeople = records.getSize('people')\n",
    "numPeopleAdditional = records.getSize('people_additional')\n",
    "peopleOut = records.getEntriesByField('people',0,numPeople,'y')\n",
    "peopleAdditionalOut = records.getEntriesByField('people_additional',0,numPeopleAdditional,'y')"
   ]
  },
  {
   "cell_type": "code",
   "execution_count": 4,
   "metadata": {},
   "outputs": [
    {
     "data": {
      "image/png": "[encoded data removed]",
      "text/plain": [
       "<Figure size 432x288 with 1 Axes>"
      ]
     },
     "metadata": {
      "needs_background": "dark"
     },
     "output_type": "display_data"
    },
    {
     "name": "stdout",
     "output_type": "stream",
     "text": [
      "In the abbreviated dataset a purchase occured 11.70% of the time.\n",
      "In the full dataset a purchase occured 11.27% of the time.\n",
      "In the combined dataset a purchase occured 11.49% of the time.\n"
     ]
    }
   ],
   "source": [
    "#print out buying frequency\n",
    "peopleBuy = 0\n",
    "\n",
    "for char in peopleOut:\n",
    "    if char == 'Y': peopleBuy+=1\n",
    "peopleAdditionalBuy = 0\n",
    "for char in peopleAdditionalOut:\n",
    "    if char == 'Y': peopleAdditionalBuy+=1\n",
    "\n",
    "buys = (peopleBuy,peopleAdditionalBuy,peopleBuy+peopleAdditionalBuy)\n",
    "notBuys = (numPeople-buys[0],numPeopleAdditional-buys[1],numPeople+numPeopleAdditional-buys[2])\n",
    "\n",
    "ind = [ i for i in range(3)]\n",
    "width = .4\n",
    "plt.figure(1)\n",
    "plt.bar(ind,buys,width,label= 'Purchase')\n",
    "plt.bar([item+width for item in ind],notBuys,width,label='No Purchase')\n",
    "plt.title('Purchase frequency by dataset')\n",
    "plt.xticks([item+width/2 for item in ind],('abbreviated dataset','full dataset', 'overall'))\n",
    "plt.legend(loc='best')\n",
    "plt.show()\n",
    "\n",
    "print(\"In the abbreviated dataset a purchase occured {:.2f}% of the time.\".format(\n",
    "     ( float(buys[0])/float(numPeople) )*100 ) )\n",
    "print(\"In the full dataset a purchase occured {:.2f}% of the time.\".format(\n",
    "     ( float(buys[1])/float(numPeopleAdditional) )*100 ) )\n",
    "print(\"In the combined dataset a purchase occured {:.2f}% of the time.\".format(\n",
    "     ( float(buys[2])/float(numPeople+numPeopleAdditional) )*100 ) )\n"
   ]
  },
  {
   "cell_type": "code",
   "execution_count": 5,
   "metadata": {},
   "outputs": [],
   "source": [
    "#get data dictionaries for processing\n",
    "peopleMap, peopleAdditionalMap = records.getMaps()\n",
    "\n",
    "\n"
   ]
  },
  {
   "cell_type": "code",
   "execution_count": 6,
   "metadata": {
    "scrolled": true
   },
   "outputs": [],
   "source": [
    "\n",
    "#sql entries\n",
    "line = records.getEntries('people',0,numPeople)\n",
    "#translate to human-readable dataframe (similar to original csv)\n",
    "df = proc.getDataFrame(line,peopleMap)\n",
    "#see validate for more details, basically ensures all categories accounted for properly\n",
    "proc.validate(df,peopleMap)\n",
    "\n",
    "vec = proc.getOneHot(df,peopleMap,False)\n",
    "\n",
    "#duration is not known until outcome is known\n",
    "#see dataset documentation for more info\n",
    "vec = vec.drop('duration',axis=1)\n",
    "\n",
    "\n",
    "\n",
    "lineA = records.getEntries('people_additional',0,numPeopleAdditional)\n",
    "dfa = proc.getDataFrame(lineA,peopleAdditionalMap)\n",
    "proc.validate(dfa,peopleAdditionalMap)\n",
    "#dfa = dfa.drop('duration',axis=1)\n",
    "vecA = proc.getOneHot(dfa,peopleAdditionalMap,False)\n",
    "\n",
    "vecA = vecA.drop('duration',axis=1)\n",
    "\n",
    "\n",
    "#rand generator\n",
    "randomGenr = np.random.default_rng()\n",
    "\n",
    "#get cols\n",
    "colTitles = vec.columns\n",
    "colTitlesA = vecA.columns\n",
    "#get processing array\n",
    "dataOneHot = vec.to_numpy(dtype=np.float64)\n",
    "dataOneHotA = vecA.to_numpy(dtype=np.float64)\n",
    "\n",
    "##practice  run:\n"
   ]
  },
  {
   "cell_type": "code",
   "execution_count": 7,
   "metadata": {},
   "outputs": [
    {
     "data": {
      "text/plain": [
       "\"\\nfor i in range(5):\\n    print('trial: {}'.format(i))\\n    \\n    #generate models\\n    treeModel = RandomForestClassifier(n_estimators=numTrees)\\n    treeModelA = RandomForestClassifier(n_estimators=numTrees)\\n    \\n\\n    #get datasets \\n    dataP = dataOneHot\\n    dataA = dataOneHotA\\n        \\n    #shuffle data\\n    randomGenr.shuffle(dataP)\\n    randomGenr.shuffle(dataA)\\n    \\n    #extract features, set float\\n    features = dataP[:,:-1].astype(np.float64)\\n    featuresA = dataA[:,:-1].astype(np.float64)\\n    \\n    #extract labels\\n    labels = dataP[:,-1]\\n    labelsA = dataA[:,-1]\\n    \\n\\n    #get ~10% of indices as random choice WITHOUT replacement for test\\n    testIndices = randomGenr.choice(len(labels),size=int(len(labels)*.1),replace=False)\\n    testIndicesA = randomGenr.choice(len(labelsA),size=int(len(labelsA)*.1),replace=False)\\n    \\n    #take test items\\n    testLabels = np.take(labels,testIndices)\\n    testFeatures = np.take(features,testIndices,axis=0)\\n    testLabelsA = np.take(labelsA,testIndicesA)\\n    testFeaturesA = np.take(featuresA,testIndicesA,axis=0)\\n\\n    #remove test items\\n    trainLabels = np.delete(labels,testIndices)\\n    trainFeatures = np.delete(features,testIndices,axis=0)\\n    trainLabelsA = np.delete(labelsA,testIndicesA)\\n    trainFeaturesA = np.delete(featuresA,testIndicesA,axis=0)\\n\\n    #fit models\\n    treeModel.fit(trainFeatures,trainLabels)\\n    treeModelA.fit(trainFeaturesA,trainLabelsA)\\n \\n    #get predictions\\n    treePredictions = treeModel.predict(testFeatures)\\n    treePredictionsA = treeModelA.predict(testFeaturesA)\\n    \\n    #get model probability score for predictions\\n    treeProbs = treeModel.predict_proba(testFeatures)\\n    treeProbsA = treeModel.predict_proba(testFeatures)\\n    \\n    #get feature importance, using permutation_importance (issues possible )\\n    bunch = permutation_importance(treeModel, testFeatures, testLabels, n_repeats=10)\\n    bunchA = permutation_importance(treeModelA, testFeaturesA, testLabelsA, n_repeats=10)\\n    \\n    #Save records for later processing\\n    #TODO: vectorize np writes\\n    np.save('./np/actual/actual_{}'.format(i),testLabels)\\n    np.save('./np/actual/actual_add_{}'.format(i),testLabelsA)\\n    \\n    np.save('./np/rafo/prediction_{}_{}'.format(i,numTrees),treePredictions)\\n    np.save('./np/rafo/tree_proba_{}_{}'.format(i,numTrees),treeProbs)\\n    \\n    np.save('./np/rafo/prediction_add_{}_{}'.format(i,numTrees),treePredictionsA)\\n    np.save('./np/rafo/tree_proba_add_{}_{}'.format(i,numTrees),treeProbsA)\\n    \\n    for key in bunch.keys():\\n        np.save('./np/rafo/perm_import_{}_{}'.format(i,key),bunch[key])\\n        np.save('./np/rafo/perm_import_add_{}_{}'.format(i,key),bunchA[key])\\n        \\nprint('done')\\n\""
      ]
     },
     "execution_count": 7,
     "metadata": {},
     "output_type": "execute_result"
    }
   ],
   "source": [
    "numTrees = 1000\n",
    "\"\"\"\n",
    "for i in range(5):\n",
    "    print('trial: {}'.format(i))\n",
    "    \n",
    "    #generate models\n",
    "    treeModel = RandomForestClassifier(n_estimators=numTrees)\n",
    "    treeModelA = RandomForestClassifier(n_estimators=numTrees)\n",
    "    \n",
    "\n",
    "    #get datasets \n",
    "    dataP = dataOneHot\n",
    "    dataA = dataOneHotA\n",
    "        \n",
    "    #shuffle data\n",
    "    randomGenr.shuffle(dataP)\n",
    "    randomGenr.shuffle(dataA)\n",
    "    \n",
    "    #extract features, set float\n",
    "    features = dataP[:,:-1].astype(np.float64)\n",
    "    featuresA = dataA[:,:-1].astype(np.float64)\n",
    "    \n",
    "    #extract labels\n",
    "    labels = dataP[:,-1]\n",
    "    labelsA = dataA[:,-1]\n",
    "    \n",
    "\n",
    "    #get ~10% of indices as random choice WITHOUT replacement for test\n",
    "    testIndices = randomGenr.choice(len(labels),size=int(len(labels)*.1),replace=False)\n",
    "    testIndicesA = randomGenr.choice(len(labelsA),size=int(len(labelsA)*.1),replace=False)\n",
    "    \n",
    "    #take test items\n",
    "    testLabels = np.take(labels,testIndices)\n",
    "    testFeatures = np.take(features,testIndices,axis=0)\n",
    "    testLabelsA = np.take(labelsA,testIndicesA)\n",
    "    testFeaturesA = np.take(featuresA,testIndicesA,axis=0)\n",
    "\n",
    "    #remove test items\n",
    "    trainLabels = np.delete(labels,testIndices)\n",
    "    trainFeatures = np.delete(features,testIndices,axis=0)\n",
    "    trainLabelsA = np.delete(labelsA,testIndicesA)\n",
    "    trainFeaturesA = np.delete(featuresA,testIndicesA,axis=0)\n",
    "\n",
    "    #fit models\n",
    "    treeModel.fit(trainFeatures,trainLabels)\n",
    "    treeModelA.fit(trainFeaturesA,trainLabelsA)\n",
    " \n",
    "    #get predictions\n",
    "    treePredictions = treeModel.predict(testFeatures)\n",
    "    treePredictionsA = treeModelA.predict(testFeaturesA)\n",
    "    \n",
    "    #get model probability score for predictions\n",
    "    treeProbs = treeModel.predict_proba(testFeatures)\n",
    "    treeProbsA = treeModel.predict_proba(testFeatures)\n",
    "    \n",
    "    #get feature importance, using permutation_importance (issues possible )\n",
    "    bunch = permutation_importance(treeModel, testFeatures, testLabels, n_repeats=10)\n",
    "    bunchA = permutation_importance(treeModelA, testFeaturesA, testLabelsA, n_repeats=10)\n",
    "    \n",
    "    #Save records for later processing\n",
    "    #TODO: vectorize np writes\n",
    "    np.save('./np/actual/actual_{}'.format(i),testLabels)\n",
    "    np.save('./np/actual/actual_add_{}'.format(i),testLabelsA)\n",
    "    \n",
    "    np.save('./np/rafo/prediction_{}_{}'.format(i,numTrees),treePredictions)\n",
    "    np.save('./np/rafo/tree_proba_{}_{}'.format(i,numTrees),treeProbs)\n",
    "    \n",
    "    np.save('./np/rafo/prediction_add_{}_{}'.format(i,numTrees),treePredictionsA)\n",
    "    np.save('./np/rafo/tree_proba_add_{}_{}'.format(i,numTrees),treeProbsA)\n",
    "    \n",
    "    for key in bunch.keys():\n",
    "        np.save('./np/rafo/perm_import_{}_{}'.format(i,key),bunch[key])\n",
    "        np.save('./np/rafo/perm_import_add_{}_{}'.format(i,key),bunchA[key])\n",
    "        \n",
    "print('done')\n",
    "\"\"\"\n",
    "    \n"
   ]
  },
  {
   "cell_type": "code",
   "execution_count": 8,
   "metadata": {},
   "outputs": [],
   "source": [
    "#TODO: vectorize np reads\n",
    "numTrees = 1000\n",
    "forestPred = np.array([])\n",
    "forestProb = np.array([])\n",
    "actual = np.array([])\n",
    "forestPredA = np.array([])\n",
    "forestProbA = np.array([])\n",
    "actualA = np.array([])\n",
    "bunches = np.array([])\n",
    "bunchesA = np.array([])\n",
    "\n",
    "\n",
    "\n",
    "for i in range(5):\n",
    "\n",
    "    if(i==0):\n",
    "        actual = [np.load('./np/actual/actual_{}.npy'.format(i))]\n",
    "        forestPred = [np.load('./np/rafo/prediction_{}_{}.npy'.format(i,numTrees))]\n",
    "        forestProb = [np.load('./np/rafo/tree_proba_{}_{}.npy'.format(i,numTrees))]\n",
    "        \n",
    "        actualA = [np.load('./np/actual/actual_add_{}.npy'.format(i))]\n",
    "        forestPredA = [np.load('./np/rafo/prediction_add_{}_{}.npy'.format(i,numTrees))]\n",
    "        forestProbA = [np.load('./np/rafo/tree_proba_add_{}_{}.npy'.format(i,numTrees))]\n",
    "\n",
    "    else:\n",
    "        actual = np.append(actual,[np.load('./np/actual/actual_{}.npy'.format(i))],axis=0)\n",
    "        forestPred = np.append(forestPred,[np.load('./np/rafo/prediction_{}_{}.npy'.format(i,numTrees))],axis=0)\n",
    "        forestProb = np.append(forestProb,[np.load('./np/rafo/tree_proba_{}_{}.npy'.format(i,numTrees))],axis=0)\n",
    "        actualA = np.append(actualA,[np.load('./np/actual/actual_add_{}.npy'.format(i))],axis=0)\n",
    "        forestPredA = np.append(forestPredA,[np.load('./np/rafo/prediction_add_{}_{}.npy'.format(i,numTrees))],axis=0)\n",
    "        forestProbA = np.append(forestProbA,[np.load('./np/rafo/tree_proba_add_{}_{}.npy'.format(i,numTrees))],axis=0)\n",
    "    bunch = dict()\n",
    "    bunchA = dict()\n",
    "    for key in ['importances','importances_mean','importances_std']:\n",
    "        bunch[key] = np.load('/Users/jake/proj/tele_pred/np/rafo_incl_dur/perm_import_{}_{}.npy'.format(i,key))\n",
    "        bunchA[key] = np.load('/Users/jake/proj/tele_pred/np/rafo_incl_dur/perm_import_add_{}_{}.npy'.format(i,key))\n",
    "    bunches = np.append(bunches,bunch)\n",
    "    bunchesA = np.append(bunchesA,bunchA)"
   ]
  },
  {
   "cell_type": "code",
   "execution_count": 9,
   "metadata": {},
   "outputs": [],
   "source": [
    "#might be able to base (some) vectorization of redundant stuff above off this loop\n",
    "corrects = []\n",
    "wrongs = []\n",
    "for i in range(2):\n",
    "    c = []\n",
    "    #this is the probability(y=1)\n",
    "    w = []\n",
    "    for ac,fo,pr in zip(actual,forestPred,forestProb):\n",
    "        #[trueNegative,truePositive,averageProb]\n",
    "        correct = [0,0,0]\n",
    "        #[falseNegative,falsePositive,averageProb]\n",
    "        wrong = [0,0,0]\n",
    "        for a,f,p in zip(ac,fo,pr):\n",
    "            if a == f:\n",
    "                correct[int(a)]+=1\n",
    "                correct[2]+=p[int(f)]\n",
    "            else:\n",
    "                wrong[int(a)]+=1\n",
    "                wrong[2]+=p[int(f)]\n",
    "        \n",
    "        correct[2] = correct[2]/(correct[0]+correct[1])\n",
    "        wrong[2] = wrong[2]/(wrong[0]+wrong[1])\n",
    "        c.append(correct)\n",
    "        w.append(wrong)\n",
    "    corrects.append(c)\n",
    "    wrongs.append(w)"
   ]
  },
  {
   "cell_type": "code",
   "execution_count": 10,
   "metadata": {},
   "outputs": [
    {
     "data": {
      "text/plain": [
       "'\\nlogger.info(\\'Duration feature has been removed for these runs:\\')\\nfor co,wr in zip(corrects,wrongs):\\n    i=0\\n    for c,w in zip(co,wr):\\n        if i==0:\\n            logger.info(\"RUN NUMBER: {}, number of trees: {}, standard feature set\".format(i,numTrees))\\n        else:\\n            logger.info(\"RUN NUMBER: {}, number of trees: {}, extended feature set\".format(i,numTrees))\\n    \\n        logger.info(\"{} TRUE POSITIVES\".format(c[1]))\\n        logger.info(\"{} TRUE NEGATIVES\".format(c[0]))\\n        logger.info(\"{} FALSE POSITIVES\".format(w[0]))\\n        logger.info(\"{} FALSE NEGATIVES\".format(w[1]))\\n        logger.info(\\'correct {}% of the time with average confidence={}\\'.format((100*(c[0]+c[1])/(w[0]+w[1]+c[0]+c[1])),c[2]))\\n        logger.info(\\'wrong {}% of the time with average confidence={}\\'.format((100*(w[0]+w[1])/(w[0]+w[1]+c[0]+c[1])),w[2]))\\n        logger.info(\\'\\n---\\')\\n        i+=1\\n '"
      ]
     },
     "execution_count": 10,
     "metadata": {},
     "output_type": "execute_result"
    }
   ],
   "source": [
    "\"\"\"\n",
    "logger.info('Duration feature has been removed for these runs:')\n",
    "for co,wr in zip(corrects,wrongs):\n",
    "    i=0\n",
    "    for c,w in zip(co,wr):\n",
    "        if i==0:\n",
    "            logger.info(\"RUN NUMBER: {}, number of trees: {}, standard feature set\".format(i,numTrees))\n",
    "        else:\n",
    "            logger.info(\"RUN NUMBER: {}, number of trees: {}, extended feature set\".format(i,numTrees))\n",
    "    \n",
    "        logger.info(\"{} TRUE POSITIVES\".format(c[1]))\n",
    "        logger.info(\"{} TRUE NEGATIVES\".format(c[0]))\n",
    "        logger.info(\"{} FALSE POSITIVES\".format(w[0]))\n",
    "        logger.info(\"{} FALSE NEGATIVES\".format(w[1]))\n",
    "        logger.info('correct {}% of the time with average confidence={}'.format((100*(c[0]+c[1])/(w[0]+w[1]+c[0]+c[1])),c[2]))\n",
    "        logger.info('wrong {}% of the time with average confidence={}'.format((100*(w[0]+w[1])/(w[0]+w[1]+c[0]+c[1])),w[2]))\n",
    "        logger.info('\\n---')\n",
    "        i+=1\n",
    " \"\"\"   \n",
    "        "
   ]
  },
  {
   "cell_type": "code",
   "execution_count": 11,
   "metadata": {},
   "outputs": [
    {
     "name": "stdout",
     "output_type": "stream",
     "text": [
      "{'age': 0.023921698739216977, 'job_management': 0.008206149082061475, 'job_blue-collar': 0.005474452554744491, 'job_entrepreneur': 0.001139128511391263, 'job_housemaid': 0.0002322495023224791, 'job_retired': 0.002112364521123622, 'job_self-employed': 0.00022119000221189068, 'job_services': 0.0016589250165892299, 'job_student': 0.0018469365184693443, 'job_technician': 0.004147312541473125, 'job_unemployed': 0.0005750940057509313, 'job_unknown': 0.0001990710019906805, 'marital_divorced': 0.0012939615129395898, 'marital_married': 0.009765538597655343, 'marital_single': 0.0069453660694536404, 'marital_unknown': 0.0, 'education_primary': 0.002046007520460069, 'education_secondary': 0.004036717540367152, 'education_tertiary': 0.008571112585711116, 'education_unknown': 0.0005419155054191327, 'isDefault_yes': 1.1059500110588427e-05, 'isDefault_no': 1.1059500110588427e-05, 'isDefault_unknown': 0.0, 'balance': 0.0289205927892059, 'housing_yes': 0.015450121654501204, 'housing_no': 0.012983853129838496, 'housing_unknown': 0.0, 'loan_yes': 0.0034616235346162207, 'loan_no': 0.0038708250387082367, 'loan_unknown': 0.0, 'contact_cellular': 0.009234682592346787, 'contact_telephone': 0.0010617120106171218, 'contact_unknown': 0.00883654058836537, 'day': 0.0247290422472904, 'month': 0.03265870382658703, 'campaign': 0.09949126299491264, 'pdays': 0.01822605618226054, 'previous': 0.0030303030303029943, 'poutcome_success': 0.007830126078301225, 'poutcome_failure': 0.012021676620216758, 'poutcome_other': 0.0019243530192434965, 'poutcome_unknown': 0.000597213005972097, 'y': 0.0018469365184693332}\n",
      "{'age': 0.01800412771640155, 'job_management': 0.004091295374529513, 'job_blue-collar': 0.0028772611387640535, 'job_entrepreneur': 0.0007284205414591627, 'job_housemaid': 0.0007162801991015377, 'job_retired': 0.001578244506495019, 'job_self-employed': 0.0003763506130871841, 'job_services': 0.000995508073327589, 'job_student': 0.0003520699283719009, 'job_technician': 0.0028894014811217117, 'job_unemployed': 0.00047347335194845017, 'job_unknown': 0.0001214034235764716, 'marital_divorced': 0.0007527012261745014, 'marital_married': 0.0036785237343692546, 'marital_single': 0.004127716401602488, 'marital_unknown': 0.0001214034235764716, 'education_basic.4y': 0.0018574723807210814, 'education_basic.6y': 0.0009590870462546253, 'education_basic.9y': 0.0017117882724291932, 'education_professional.course': 0.0020274371737282306, 'education_high.school': 0.00231880539031194, 'education_university.degree': 0.0065193638460604, 'education_illiterate': 0.0, 'education_unknown': 0.0006798591720285629, 'isDefault_yes': 0.0, 'isDefault_no': 0.0031564890129901157, 'isDefault_unknown': 0.0030472259317712246, 'housing_yes': 0.0036178220225809854, 'housing_no': 0.004115576059244818, 'housing_unknown': 0.0001214034235764716, 'loan_yes': 0.001201893893407735, 'loan_no': 0.0014082797134878477, 'loan_unknown': 0.0001214034235764716, 'contact_cellular': 0.003897049896807059, 'contact_telephone': 0.004443365302901514, 'contact_unknown': 0.0, 'month': 0.0058516450163894175, 'day_of_week': 0.0124924122860264, 'campaign': 0.09719558091538176, 'pdays': 0.010647080247662932, 'previous': 0.0018210513536481066, 'poutcome_success': 0.0010683501274735164, 'poutcome_failure': 0.00044919266723313366, 'poutcome_other': 0.0005827364331673412, 'poutcome_nonexistent': 0.0, 'poutcome_unknown': 0.0007891222532474762, 'emp.var.rate': 0.0, 'cons.price.idx': 0.008158310064343732, 'cons.conf.idx': 0.00525676824086434, 'euribor3m': 0.004649751122981616, 'nr.employed': 0.022678159524098553, 'y': 0.01323297316984332}\n"
     ]
    },
    {
     "ename": "KeyError",
     "evalue": "'education_primary'",
     "output_type": "error",
     "traceback": [
      "\u001b[0;31m---------------------------------------------------------------------------\u001b[0m",
      "\u001b[0;31mKeyError\u001b[0m                                  Traceback (most recent call last)",
      "\u001b[0;32m<ipython-input-11-a3de3dfadc28>\u001b[0m in \u001b[0;36m<module>\u001b[0;34m\u001b[0m\n\u001b[1;32m      2\u001b[0m \u001b[0mcolsA\u001b[0m \u001b[0;34m=\u001b[0m \u001b[0mcolTitlesA\u001b[0m\u001b[0;34m\u001b[0m\u001b[0;34m\u001b[0m\u001b[0m\n\u001b[1;32m      3\u001b[0m \u001b[0;34m\u001b[0m\u001b[0m\n\u001b[0;32m----> 4\u001b[0;31m \u001b[0msomething\u001b[0m \u001b[0;34m=\u001b[0m \u001b[0mproc\u001b[0m\u001b[0;34m.\u001b[0m\u001b[0mprocessImportance\u001b[0m\u001b[0;34m(\u001b[0m\u001b[0;34m(\u001b[0m\u001b[0mpeopleMap\u001b[0m\u001b[0;34m,\u001b[0m\u001b[0mpeopleAdditionalMap\u001b[0m\u001b[0;34m)\u001b[0m\u001b[0;34m,\u001b[0m\u001b[0;34m(\u001b[0m\u001b[0mcols\u001b[0m\u001b[0;34m,\u001b[0m\u001b[0mcolsA\u001b[0m\u001b[0;34m)\u001b[0m\u001b[0;34m,\u001b[0m\u001b[0;34m(\u001b[0m\u001b[0mbunches\u001b[0m\u001b[0;34m[\u001b[0m\u001b[0;36m0\u001b[0m\u001b[0;34m]\u001b[0m\u001b[0;34m,\u001b[0m\u001b[0mbunchesA\u001b[0m\u001b[0;34m[\u001b[0m\u001b[0;36m0\u001b[0m\u001b[0;34m]\u001b[0m\u001b[0;34m)\u001b[0m\u001b[0;34m)\u001b[0m\u001b[0;34m\u001b[0m\u001b[0;34m\u001b[0m\u001b[0m\n\u001b[0m",
      "\u001b[0;32m~/proj/tele_pred/processing.py\u001b[0m in \u001b[0;36mprocessImportance\u001b[0;34m(catMaps, titles, bunches)\u001b[0m\n\u001b[1;32m    132\u001b[0m                         \u001b[0;32mfor\u001b[0m \u001b[0mtitle\u001b[0m \u001b[0;32min\u001b[0m \u001b[0mcols\u001b[0m\u001b[0;34m:\u001b[0m\u001b[0;34m\u001b[0m\u001b[0;34m\u001b[0m\u001b[0m\n\u001b[1;32m    133\u001b[0m                                 \u001b[0;32mif\u001b[0m \u001b[0mtitle\u001b[0m\u001b[0;34m.\u001b[0m\u001b[0mstartswith\u001b[0m\u001b[0;34m(\u001b[0m\u001b[0mkey\u001b[0m\u001b[0;34m)\u001b[0m\u001b[0;34m:\u001b[0m\u001b[0;34m\u001b[0m\u001b[0;34m\u001b[0m\u001b[0m\n\u001b[0;32m--> 134\u001b[0;31m                                         \u001b[0mvalue\u001b[0m\u001b[0;34m+=\u001b[0m\u001b[0mfeatures\u001b[0m\u001b[0;34m[\u001b[0m\u001b[0mtitle\u001b[0m\u001b[0;34m]\u001b[0m\u001b[0;34m\u001b[0m\u001b[0;34m\u001b[0m\u001b[0m\n\u001b[0m\u001b[1;32m    135\u001b[0m                                         \u001b[0mfeatures\u001b[0m\u001b[0;34m.\u001b[0m\u001b[0mpop\u001b[0m\u001b[0;34m(\u001b[0m\u001b[0mtitle\u001b[0m\u001b[0;34m)\u001b[0m\u001b[0;34m\u001b[0m\u001b[0;34m\u001b[0m\u001b[0m\n\u001b[1;32m    136\u001b[0m                         \u001b[0mvalue\u001b[0m \u001b[0;34m=\u001b[0m \u001b[0mnp\u001b[0m\u001b[0;34m.\u001b[0m\u001b[0msqrt\u001b[0m\u001b[0;34m(\u001b[0m\u001b[0mvalue\u001b[0m\u001b[0;34m)\u001b[0m\u001b[0;34m\u001b[0m\u001b[0;34m\u001b[0m\u001b[0m\n",
      "\u001b[0;31mKeyError\u001b[0m: 'education_primary'"
     ]
    }
   ],
   "source": [
    "\n",
    "cols = colTitles\n",
    "colsA = colTitlesA\n",
    "\n",
    "something = proc.processImportance((peopleMap,peopleAdditionalMap),(cols,colsA),(bunches[0],bunchesA[0]))"
   ]
  },
  {
   "cell_type": "code",
   "execution_count": null,
   "metadata": {},
   "outputs": [],
   "source": [
    "COLOR = 'black'\n",
    "matplotlib.rcParams['text.color'] = COLOR\n",
    "matplotlib.rcParams['axes.labelcolor'] = COLOR\n",
    "matplotlib.rcParams['xtick.color'] = COLOR\n",
    "matplotlib.rcParams['ytick.color'] = COLOR\n",
    "\n",
    "\n",
    "\n",
    "fig, ax = plt.subplots(figsize=(6, 3), subplot_kw=dict(aspect=\"equal\"))\n",
    "\n",
    "\"\"\"recipe = [\"225 g flour\",\n",
    "          \"90 g sugar\",\n",
    "          \"1 egg\",\n",
    "          \"60 g butter\",\n",
    "          \"100 ml milk\",\n",
    "          \"1/2 package of yeast\"]\n",
    "          \n",
    "\n",
    "data = [225, 90, 50, 60, 100, 5]\n",
    "\"\"\"\n",
    "recipe = meanLabels\n",
    "data = meanPercentages\n",
    "\n",
    "wedges, texts = ax.pie(data, wedgeprops=dict(width=0.5), startangle=-40)\n",
    "\n",
    "bbox_props = dict(boxstyle=\"square,pad=0.3\", fc=\"w\", ec=\"k\", lw=.72)\n",
    "kw = dict(arrowprops=dict(arrowstyle=\"-\"),\n",
    "          bbox=bbox_props, zorder=0, va=\"center\")\n",
    "\n",
    "for i, p in enumerate(wedges):\n",
    "    ang = (p.theta2 - p.theta1)/2. + p.theta1\n",
    "    y = np.sin(np.deg2rad(ang))\n",
    "    x = np.cos(np.deg2rad(ang))\n",
    "    horizontalalignment = {-1: \"right\", 1: \"left\"}[int(np.sign(x))]\n",
    "    connectionstyle = \"angle,angleA=0,angleB={}\".format(ang)\n",
    "    kw[\"arrowprops\"].update({\"connectionstyle\": connectionstyle})\n",
    "    ax.annotate(recipe[i], xy=(x, y), xytext=(1.35*np.sign(x), 1.4*y),\n",
    "                horizontalalignment=horizontalalignment,backgroundcolor='green', **kw)\n",
    "\n",
    "ax.set_title(\"Feature importance by mean\",color='white')\n",
    "\n",
    "plt.show()\n"
   ]
  },
  {
   "cell_type": "code",
   "execution_count": null,
   "metadata": {},
   "outputs": [],
   "source": [
    "for i in range(len(recipe)):\n",
    "    print(\"i:{}, {}\".format(i,recipe[i]))"
   ]
  },
  {
   "cell_type": "code",
   "execution_count": null,
   "metadata": {},
   "outputs": [],
   "source": []
  },
  {
   "cell_type": "code",
   "execution_count": null,
   "metadata": {},
   "outputs": [],
   "source": []
  }
 ],
 "metadata": {
  "kernelspec": {
   "display_name": "Python 3",
   "language": "python",
   "name": "python3"
  },
  "language_info": {
   "codemirror_mode": {
    "name": "ipython",
    "version": 3
   },
   "file_extension": ".py",
   "mimetype": "text/x-python",
   "name": "python",
   "nbconvert_exporter": "python",
   "pygments_lexer": "ipython3",
   "version": "3.7.6"
  }
 },
 "nbformat": 4,
 "nbformat_minor": 4
}
