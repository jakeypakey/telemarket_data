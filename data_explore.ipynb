{
 "cells": [
  {
   "cell_type": "markdown",
   "metadata": {},
   "source": [
    "# Examining Telemarketing Data\n",
    " \n",
    "Please see <code>db.py</code> and <code>processing.py</code> for the implentation of database and processing related utilities used in this notebook."
   ]
  },
  {
   "cell_type": "code",
   "execution_count": 1,
   "metadata": {},
   "outputs": [],
   "source": [
    "from db import Database\n",
    "import processing as proc\n",
    "from pathlib import Path\n",
    "import time\n",
    "import matplotlib.pyplot as plt\n",
    "import matplotlib\n",
    "import numpy as np\n",
    "import pandas as pd\n",
    "from sklearn.ensemble import RandomForestClassifier\n",
    "from sklearn.neural_network import MLPClassifier\n",
    "from sklearn.inspection import permutation_importance\n",
    "from sklearn.neighbors import (KNeighborsClassifier,NeighborhoodComponentsAnalysis)\n",
    "from sklearn.pipeline import Pipeline\n",
    "import sklearn\n",
    "import pickle\n",
    "\n",
    "logger = proc.setupLog()\n",
    "figureCount=0\n",
    "records = Database('bank_data')"
   ]
  },
  {
   "cell_type": "markdown",
   "metadata": {},
   "source": [
    "\n",
    "### Taking a look\n",
    "We begin by checking the frequency of the target, <code>y</code>, which denotes whether or not a purchase was made.\n",
    "We can see that our data is imbalaced, with about nine examples with <code>y=0</code> to each one <code>y=1</code>.\n",
    "\n",
    "There are two seperate datasets here, both have the same target, with one having a few extra features, they are primarily economic indicators at the time of contact.  The datasets were taken from UCI's machine learning repository linked [here](http://archive.ics.uci.edu/ml/datasets/Bank+Marketing).\n",
    "\n",
    "\n"
   ]
  },
  {
   "cell_type": "code",
   "execution_count": 2,
   "metadata": {},
   "outputs": [
    {
     "data": {
      "image/png": "[encoded data removed]",
      "text/plain": [
       "<Figure size 432x288 with 1 Axes>"
      ]
     },
     "metadata": {
      "needs_background": "light"
     },
     "output_type": "display_data"
    },
    {
     "name": "stdout",
     "output_type": "stream",
     "text": [
      "In the abbreviated dataset a purchase occured 11.70% of the time.\n",
      "In the full dataset a purchase occured 11.27% of the time.\n",
      "In the combined dataset a purchase occured 11.49% of the time.\n"
     ]
    }
   ],
   "source": [
    "numPeople = records.getSize('people')\n",
    "numPeopleA = records.getSize('people_additional')\n",
    "results = records.getEntriesByField('people',0,numPeople,'y')\n",
    "resultsA = records.getEntriesByField('people_additional',0,numPeopleA,'y')\n",
    "##tally up number of Y/N s\n",
    "peopleBuy = 0\n",
    "for char in results:\n",
    "    if char == 'Y': peopleBuy+=1\n",
    "peopleBuyA = 0\n",
    "for char in resultsA:\n",
    "    if char == 'Y': peopleBuyA+=1\n",
    "\n",
    "buys = (peopleBuy,peopleBuyA,peopleBuy+peopleBuyA)\n",
    "notBuys = (numPeople-buys[0],numPeopleA-buys[1],numPeople+numPeopleA-buys[2])\n",
    "\n",
    "##Plot\n",
    "ind = [ i for i in range(len(buys)) ]\n",
    "width = .4\n",
    "plt.figure(figureCount)\n",
    "figureCount+=1\n",
    "plt.bar(ind,buys,width,label= 'Purchase')\n",
    "plt.bar([item+width for item in ind],notBuys,width,label='No Purchase')\n",
    "plt.title('Purchase frequency by dataset')\n",
    "plt.xticks([item+width/2 for item in ind],('abbreviated dataset','full dataset', 'overall'))\n",
    "plt.show()\n",
    "\n",
    "print(\"In the abbreviated dataset a purchase occured {:.2f}% of the time.\".format(\n",
    "     ( float(buys[0])/float(numPeople) )*100 ) )\n",
    "print(\"In the full dataset a purchase occured {:.2f}% of the time.\".format(\n",
    "     ( float(buys[1])/float(numPeopleA) )*100 ) )\n",
    "print(\"In the combined dataset a purchase occured {:.2f}% of the time.\".format(\n",
    "     ( float(buys[2])/float(numPeople+numPeopleA) )*100 ) )"
   ]
  },
  {
   "cell_type": "markdown",
   "metadata": {},
   "source": [
    "### Getting our dataset ready for processing\n",
    "The dataset has been extracted from csv, translated for efficient storage (strings mapped to characters etc.) and loaded into a MySQL database.\n",
    "Below is a few of the fetched SQL entries and human-readable dataframes lines.  For completeness, a single final encoding of the ready-for-work numpy vector is also displayed.\n",
    "*Note: We remove the <code>duration</code> field as reccomended in the dataset posting.  See the link above for more information.*\n",
    "\n"
   ]
  },
  {
   "cell_type": "code",
   "execution_count": 3,
   "metadata": {},
   "outputs": [
    {
     "name": "stdout",
     "output_type": "stream",
     "text": [
      "First 5 of the sql entries:\n",
      "(58, 'M', 'M', 'T', 'N', 2143, 'Y', 'N', '?', 5, 5, 261, 1, -1, 0, '?', 'N')\n",
      "(44, 'T', 'S', 'S', 'N', 29, 'Y', 'N', '?', 5, 5, 151, 1, -1, 0, '?', 'N')\n",
      "(33, 'E', 'M', 'S', 'N', 2, 'Y', 'Y', '?', 5, 5, 76, 1, -1, 0, '?', 'N')\n",
      "(47, 'B', 'M', '?', 'N', 1506, 'Y', 'N', '?', 5, 5, 92, 1, -1, 0, '?', 'N')\n",
      "(33, '?', 'S', '?', 'N', 1, 'N', 'N', '?', 5, 5, 198, 1, -1, 0, '?', 'N')\n",
      "\n",
      "\n",
      "Head of the dataframe:\n",
      "   age           job  marital  education isDefault  balance housing loan  \\\n",
      "0   58    management  married   tertiary        no     2143     yes   no   \n",
      "1   44    technician   single  secondary        no       29     yes   no   \n",
      "2   33  entrepreneur  married  secondary        no        2     yes  yes   \n",
      "3   47   blue-collar  married    unknown        no     1506     yes   no   \n",
      "4   33       unknown   single    unknown        no        1      no   no   \n",
      "\n",
      "   contact  day  month  duration  campaign  pdays  previous poutcome   y  \n",
      "0  unknown    5      5       261         1     -1         0  unknown  no  \n",
      "1  unknown    5      5       151         1     -1         0  unknown  no  \n",
      "2  unknown    5      5        76         1     -1         0  unknown  no  \n",
      "3  unknown    5      5        92         1     -1         0  unknown  no  \n",
      "4  unknown    5      5       198         1     -1         0  unknown  no  \n",
      "\n",
      "\n",
      "Finally, here is a single vector ready for processing:\n",
      "[5.800e+01 1.000e+00 0.000e+00 0.000e+00 0.000e+00 0.000e+00 0.000e+00\n",
      " 0.000e+00 0.000e+00 0.000e+00 0.000e+00 0.000e+00 0.000e+00 1.000e+00\n",
      " 0.000e+00 0.000e+00 0.000e+00 0.000e+00 1.000e+00 0.000e+00 0.000e+00\n",
      " 1.000e+00 0.000e+00 2.143e+03 1.000e+00 0.000e+00 0.000e+00 0.000e+00\n",
      " 1.000e+00 0.000e+00 0.000e+00 0.000e+00 1.000e+00 5.000e+00 5.000e+00\n",
      " 1.000e+00 0.000e+00 0.000e+00 0.000e+00 0.000e+00 0.000e+00 1.000e+00\n",
      " 0.000e+00]\n"
     ]
    }
   ],
   "source": [
    "#get data dictionaries for processing\n",
    "peopleMap, peopleAdditionalMap = records.getMaps()\n",
    "\n",
    "#sql entries\n",
    "line = records.getEntries('people',0,numPeople)\n",
    "\n",
    "print('First 5 of the sql entries:')\n",
    "for i in range(5):\n",
    "    print(line[i])\n",
    "    \n",
    "#translate to human-readable dataframe (similar to original csv)\n",
    "df = proc.getDataFrame(line,peopleMap)\n",
    "print('\\n\\nHead of the dataframe:')\n",
    "print(df.head())\n",
    "\n",
    "#see validate for more details, basically ensures all categories accounted for properly\n",
    "proc.validate(df,peopleMap)\n",
    "vec = proc.getOneHot(df,peopleMap,False)\n",
    "\n",
    "#duration is not known until outcome is known\n",
    "#see dataset documentation for more info\n",
    "vec = vec.drop('duration',axis=1)\n",
    "dataOneHot = vec.to_numpy(dtype=np.float64)\n",
    "\n",
    "print('\\n\\nFinally, here is a single vector ready for processing:')\n",
    "print(dataOneHot[0])\n",
    "\n",
    "\n",
    "#do the same as above for tha additional dataset\n",
    "lineA = records.getEntries('people_additional',0,numPeopleA)\n",
    "dfa = proc.getDataFrame(lineA,peopleAdditionalMap)\n",
    "proc.validate(dfa,peopleAdditionalMap)\n",
    "vecA = proc.getOneHot(dfa,peopleAdditionalMap,False)\n",
    "vecA = vecA.drop('duration',axis=1)\n",
    "dataOneHotA = vecA.to_numpy(dtype=np.float64)\n",
    "\n",
    "#get column labels\n",
    "colTitles = vec.columns\n",
    "colTitlesA = vecA.columns\n",
    "\n",
    "#rand generator\n",
    "randomGenr = np.random.default_rng()"
   ]
  },
  {
   "cell_type": "markdown",
   "metadata": {},
   "source": [
    "### Getting organized\n",
    "\n",
    "Here we seperate the testing and training sets, create a seperate feauture set which is scaled to the standard normal distribution, and organize our models.\n",
    "\n",
    "STUFF AND LINK is used for scaling, models, etc"
   ]
  },
  {
   "cell_type": "code",
   "execution_count": 4,
   "metadata": {},
   "outputs": [],
   "source": [
    "randomGenr.shuffle(dataOneHot)\n",
    "randomGenr.shuffle(dataOneHotA)\n",
    "    \n",
    "#extract features, set float\n",
    "features = dataOneHot[:,:-1].astype(np.float64)\n",
    "featuresA = dataOneHotA[:,:-1].astype(np.float64)\n",
    "#extract labels\n",
    "labels = dataOneHot[:,-1]\n",
    "labelsA = dataOneHotA[:,-1]    \n",
    "#get ~20% of indices as random choice WITHOUT replacement for test\n",
    "testIndices = randomGenr.choice(len(labels),size=int(len(labels)*.1),replace=False)\n",
    "testIndicesA = randomGenr.choice(len(labelsA),size=int(len(labelsA)*.1),replace=False)\n",
    "#take test items\n",
    "testLabels = np.take(labels,testIndices)\n",
    "testFeatures = np.take(features,testIndices,axis=0)\n",
    "testLabelsA = np.take(labelsA,testIndicesA)\n",
    "testFeaturesA = np.take(featuresA,testIndicesA,axis=0)\n",
    "#remove test items\n",
    "trainLabels = np.delete(labels,testIndices)\n",
    "trainFeatures = np.delete(features,testIndices,axis=0)\n",
    "trainLabelsA = np.delete(labelsA,testIndicesA)\n",
    "trainFeaturesA = np.delete(featuresA,testIndicesA,axis=0)\n",
    "\n",
    "#initialize models\n",
    "rafo = RandomForestClassifier(n_estimators=500,class_weight='balanced')\n",
    "rafoA = RandomForestClassifier(n_estimators=500,class_weight='balanced')\n",
    "mlp = MLPClassifier(max_iter=500)\n",
    "mlpA = MLPClassifier(max_iter=500)\n",
    "knn = KNeighborsClassifier(9)\n",
    "knnA = KNeighborsClassifier(11)\n",
    "\n",
    "\n",
    "####\n",
    "\n",
    "models = { 'RAFO': (rafo,rafoA),#random forest\n",
    "          'MLP' : (mlp,mlpA),   #multi level perceptron\n",
    "          'KNN': (knn,knnA)     #k nearest neighbor\n",
    "         }\n",
    "\n",
    "#initialize models\n",
    "rafoS = RandomForestClassifier(n_estimators=500,class_weight='balanced')\n",
    "rafoAS = RandomForestClassifier(n_estimators=500,class_weight='balanced')\n",
    "mlpS = MLPClassifier(max_iter=500)\n",
    "mlpAS = MLPClassifier(max_iter=500)\n",
    "knnS = KNeighborsClassifier(9)\n",
    "knnAS = KNeighborsClassifier(11)\n",
    "\n",
    "####\n",
    "\n",
    "modelsScaled = { 'RAFO': (rafoS,rafoAS),#random forest\n",
    "                 'MLP' : (mlpS,mlpAS),  #multi level perceptron\n",
    "                 'KNN' : (knnS,knnAS)   #k nearest neighbor\n",
    "                } \n",
    "\n",
    "results = {key:dict() for key in models.keys()}\n",
    "resultsScaled = {key:dict() for key in modelsScaled.keys()}\n",
    "results['labels'] = (testLabels,testLabelsA)\n",
    "#no need to scale labels\n",
    "resultsScaled['labels'] = (testLabels,testLabelsA)\n",
    "\n",
    "#create scaled features\n",
    "scaler = sklearn.preprocessing.StandardScaler()\n",
    "trainFeaturesS = scaler.fit_transform(trainFeatures)\n",
    "testFeaturesS = scaler.fit_transform(testFeatures)\n",
    "trainFeaturesAS = scaler.fit_transform(trainFeaturesA)\n",
    "testFeaturesAS = scaler.fit_transform(testFeaturesA)\n",
    "\n"
   ]
  },
  {
   "cell_type": "code",
   "execution_count": null,
   "metadata": {},
   "outputs": [],
   "source": []
  },
  {
   "cell_type": "code",
   "execution_count": null,
   "metadata": {},
   "outputs": [
    {
     "name": "stdout",
     "output_type": "stream",
     "text": [
      "running RAFO\n",
      "running MLP\n"
     ]
    }
   ],
   "source": [
    "for name,model,modelS in zip(models.keys(),models.values(),modelsScaled.values()):\n",
    "    print('running '+name)\n",
    "    model[0].fit(trainFeatures,trainLabels)\n",
    "    model[1].fit(trainFeaturesA,trainLabelsA)\n",
    "    modelS[0].fit(trainFeaturesS,trainLabels)\n",
    "    modelS[1].fit(trainFeaturesAS,trainLabelsA)\n",
    "    \n",
    "    #get predictions\n",
    "    preds = model[0].predict(testFeatures)\n",
    "    predsA = model[1].predict(testFeaturesA)\n",
    "    predsS = modelS[0].predict(testFeaturesS)\n",
    "    predsAS = modelS[1].predict(testFeaturesAS)\n",
    "    results[name]['predictions'] = (preds,predsA)\n",
    "    resultsScaled[name]['predictions'] = (predsS,predsAS)\n",
    "    \n",
    "    #get P(y=1) for each prediction\n",
    "    probs = [pair[1] for pair in model[0].predict_proba(testFeatures)]\n",
    "    probsA = [pair[1] for pair in model[1].predict_proba(testFeaturesA)]\n",
    "    probsS = [pair[1] for pair in modelS[0].predict_proba(testFeaturesS)]\n",
    "    probsAS = [pair[1] for pair in modelS[1].predict_proba(testFeaturesAS)]\n",
    "    results[name]['probabilities'] = (probs,probsA)\n",
    "    resultsScaled[name]['probabilities'] = (probsS,probsAS)\n",
    "    \n",
    "    "
   ]
  },
  {
   "cell_type": "code",
   "execution_count": null,
   "metadata": {},
   "outputs": [],
   "source": [
    "baseDir = \"./results/\"\n",
    "Path(baseDir).mkdir(exist_ok=True)\n",
    "with open(baseDir+\"results.pkl\",\"w\") as file:\n",
    "    pickle.dump(results,file)\n",
    "    file.close()\n",
    "with open(baseDir+\"resultsScaled.pkl\",\"w\") as file:\n",
    "    pickle.dump(resultsScaled,file)\n"
   ]
  },
  {
   "cell_type": "code",
   "execution_count": null,
   "metadata": {},
   "outputs": [],
   "source": [
    "#result {model: {predictions: <VECTOR>, probabilities: <VECTOR>} }\n",
    "#organize TRUE/FALSE +/- probs\n",
    "#for each\n",
    "#each tallys[modelName] contains a confusion-matrix-style-indexed set of list indexed by [correct][predicted]\n",
    "#where the list contains the model's P(y=1)\n",
    "tallys = dict()\n",
    "tallysA = dict()\n",
    "for key in results.keys():\n",
    "    tallys[key] = [[[],[]], [[],[]]]\n",
    "    tallysA[key] = [[[],[]], [[],[]]]\n",
    "    i=0\n",
    "    for test,pred,testA,predA in zip(testLabels,results[key]['predictions'],testLabelsA,resultsScaled['predictions']):\n",
    "            tallys[key][int(test)][int(pred)].append(results[key]['probabilties'][i])\n",
    "            tallysA[key][int(testA)][int(predA)].append(resultsScaled[key]['probabilities'][i])\n",
    "\n",
    "\n",
    "#count wrong predictions\n",
    "correct = [(sum(tallys[key][0][0])+sum(tally[key][1][1])) for key in tallys.keys()]\n",
    "wrong = [(sum(tallys[key][1][0])+sum(tally[key][0][1])) for key in tallys.keys()]\n",
    "ind = [ i for i in range(len(correct)) ]\n",
    "width = .4\n",
    "plt.figure(figureCount)\n",
    "figureCount+=1\n",
    "plt.bar(ind,correct,width,label= 'Corect Prediction',color='green')\n",
    "plt.bar([item+width for item in ind],wrong,width,label='Incorrect Predictions',color='red')\n",
    "plt.title('Prediction success for abbreviated dataset')\n",
    "plt.legend()\n",
    "plt.xticks([item+width/2 for item in ind],[name for name in range models.keys()])\n",
    "plt.show()\n"
   ]
  },
  {
   "cell_type": "code",
   "execution_count": null,
   "metadata": {},
   "outputs": [],
   "source": []
  }
 ],
 "metadata": {
  "kernelspec": {
   "display_name": "Python 3",
   "language": "python",
   "name": "python3"
  },
  "language_info": {
   "codemirror_mode": {
    "name": "ipython",
    "version": 3
   },
   "file_extension": ".py",
   "mimetype": "text/x-python",
   "name": "python",
   "nbconvert_exporter": "python",
   "pygments_lexer": "ipython3",
   "version": "3.7.9"
  }
 },
 "nbformat": 4,
 "nbformat_minor": 4
}
