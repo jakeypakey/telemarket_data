{
 "cells": [
  {
   "cell_type": "markdown",
   "metadata": {},
   "source": [
    "# Examining Telemarketing Data\n",
    " \n",
    "Please see <code>db.py</code> and <code>processing.py</code> for the implentation of database and processing related utilities used in this notebook."
   ]
  },
  {
   "cell_type": "code",
   "execution_count": 125,
   "metadata": {},
   "outputs": [],
   "source": [
    "from db import Database\n",
    "import processing as proc\n",
    "from pathlib import Path\n",
    "import time\n",
    "import matplotlib.pyplot as plt\n",
    "import matplotlib\n",
    "import numpy as np\n",
    "import pandas as pd\n",
    "from sklearn.ensemble import RandomForestClassifier\n",
    "from sklearn.neural_network import MLPClassifier\n",
    "from sklearn.inspection import permutation_importance\n",
    "from sklearn.neighbors import KNeighborsClassifier\n",
    "import sklearn\n",
    "import pickle\n",
    "\n",
    "logger = proc.setupLog()\n",
    "figureCount=0\n",
    "records = Database('bank_data')"
   ]
  },
  {
   "cell_type": "markdown",
   "metadata": {},
   "source": [
    "\n",
    "### Taking a look\n",
    "We begin by checking the frequency of the target, <code>y</code>, which denotes whether or not a purchase was made.\n",
    "We can see that our data is imbalaced, with about nine examples with <code>y=0</code> to each one <code>y=1</code>.\n",
    "\n",
    "There are two seperate datasets here, both have the same target, with one having a few extra features, they are primarily economic indicators at the time of contact.  The datasets were taken from UCI's machine learning repository linked [here](http://archive.ics.uci.edu/ml/datasets/Bank+Marketing).\n",
    "\n",
    "\n"
   ]
  },
  {
   "cell_type": "code",
   "execution_count": 126,
   "metadata": {},
   "outputs": [
    {
     "data": {
      "image/png": "[encoded data removed]",
      "text/plain": [
       "<Figure size 432x288 with 1 Axes>"
      ]
     },
     "metadata": {
      "needs_background": "light"
     },
     "output_type": "display_data"
    },
    {
     "name": "stdout",
     "output_type": "stream",
     "text": [
      "In the abbreviated dataset a purchase occured 11.70% of the time.\n",
      "In the full dataset a purchase occured 11.27% of the time.\n",
      "In the combined dataset a purchase occured 11.49% of the time.\n"
     ]
    }
   ],
   "source": [
    "numPeople = records.getSize('people')\n",
    "numPeopleA = records.getSize('people_additional')\n",
    "results = records.getEntriesByField('people',0,numPeople,'y')\n",
    "resultsA = records.getEntriesByField('people_additional',0,numPeopleA,'y')\n",
    "##tally up number of Y/N s\n",
    "peopleBuy = 0\n",
    "for char in results:\n",
    "    if char == 'Y': peopleBuy+=1\n",
    "peopleBuyA = 0\n",
    "for char in resultsA:\n",
    "    if char == 'Y': peopleBuyA+=1\n",
    "\n",
    "buys = (peopleBuy,peopleBuyA,peopleBuy+peopleBuyA)\n",
    "notBuys = (numPeople-buys[0],numPeopleA-buys[1],numPeople+numPeopleA-buys[2])\n",
    "\n",
    "##Plot\n",
    "ind = [ i for i in range(len(buys)) ]\n",
    "width = .4\n",
    "plt.figure(figureCount)\n",
    "figureCount+=1\n",
    "plt.bar(ind,buys,width,label= 'Purchase')\n",
    "plt.bar([item+width for item in ind],notBuys,width,label='No Purchase')\n",
    "plt.title('Purchase frequency by dataset')\n",
    "plt.xticks([item+width/2 for item in ind],('abbreviated dataset','full dataset', 'overall'))\n",
    "plt.show()\n",
    "\n",
    "print(\"In the abbreviated dataset a purchase occured {:.2f}% of the time.\".format(\n",
    "     ( float(buys[0])/float(numPeople) )*100 ) )\n",
    "print(\"In the full dataset a purchase occured {:.2f}% of the time.\".format(\n",
    "     ( float(buys[1])/float(numPeopleA) )*100 ) )\n",
    "print(\"In the combined dataset a purchase occured {:.2f}% of the time.\".format(\n",
    "     ( float(buys[2])/float(numPeople+numPeopleA) )*100 ) )"
   ]
  },
  {
   "cell_type": "markdown",
   "metadata": {},
   "source": [
    "### Getting our dataset ready for processing\n",
    "The dataset has been extracted from csv, translated for efficient storage (strings mapped to characters etc.) and loaded into a MySQL database.\n",
    "Below is a few of the fetched SQL entries and human-readable dataframes lines.  For completeness, a single final encoding of the ready-for-work numpy vector is also displayed.\n",
    "*Note: We remove the <code>duration</code> field as reccomended in the dataset posting.  See the link above for more information.*\n",
    "\n"
   ]
  },
  {
   "cell_type": "code",
   "execution_count": 127,
   "metadata": {},
   "outputs": [
    {
     "name": "stdout",
     "output_type": "stream",
     "text": [
      "First 5 of the sql entries:\n",
      "(58, 'M', 'M', 'T', 'N', 2143, 'Y', 'N', '?', 5, 5, 261, 1, -1, 0, '?', 'N')\n",
      "(44, 'T', 'S', 'S', 'N', 29, 'Y', 'N', '?', 5, 5, 151, 1, -1, 0, '?', 'N')\n",
      "(33, 'E', 'M', 'S', 'N', 2, 'Y', 'Y', '?', 5, 5, 76, 1, -1, 0, '?', 'N')\n",
      "(47, 'B', 'M', '?', 'N', 1506, 'Y', 'N', '?', 5, 5, 92, 1, -1, 0, '?', 'N')\n",
      "(33, '?', 'S', '?', 'N', 1, 'N', 'N', '?', 5, 5, 198, 1, -1, 0, '?', 'N')\n",
      "\n",
      "\n",
      "Head of the dataframe:\n",
      "   age           job  marital  education isDefault  balance housing loan  \\\n",
      "0   58    management  married   tertiary        no     2143     yes   no   \n",
      "1   44    technician   single  secondary        no       29     yes   no   \n",
      "2   33  entrepreneur  married  secondary        no        2     yes  yes   \n",
      "3   47   blue-collar  married    unknown        no     1506     yes   no   \n",
      "4   33       unknown   single    unknown        no        1      no   no   \n",
      "\n",
      "   contact  day  month  duration  campaign  pdays  previous poutcome   y  \n",
      "0  unknown    5      5       261         1     -1         0  unknown  no  \n",
      "1  unknown    5      5       151         1     -1         0  unknown  no  \n",
      "2  unknown    5      5        76         1     -1         0  unknown  no  \n",
      "3  unknown    5      5        92         1     -1         0  unknown  no  \n",
      "4  unknown    5      5       198         1     -1         0  unknown  no  \n",
      "\n",
      "\n",
      "Finally, here is a single vector ready for processing:\n",
      "[5.800e+01 1.000e+00 0.000e+00 0.000e+00 0.000e+00 0.000e+00 0.000e+00\n",
      " 0.000e+00 0.000e+00 0.000e+00 0.000e+00 0.000e+00 0.000e+00 1.000e+00\n",
      " 0.000e+00 0.000e+00 0.000e+00 0.000e+00 1.000e+00 0.000e+00 0.000e+00\n",
      " 1.000e+00 0.000e+00 2.143e+03 1.000e+00 0.000e+00 0.000e+00 0.000e+00\n",
      " 1.000e+00 0.000e+00 0.000e+00 0.000e+00 1.000e+00 5.000e+00 5.000e+00\n",
      " 1.000e+00 0.000e+00 0.000e+00 0.000e+00 0.000e+00 0.000e+00 1.000e+00\n",
      " 0.000e+00]\n"
     ]
    }
   ],
   "source": [
    "#get data dictionaries for processing\n",
    "peopleMap, peopleAdditionalMap = records.getMaps()\n",
    "\n",
    "#sql entries\n",
    "line = records.getEntries('people',0,numPeople)\n",
    "\n",
    "print('First 5 of the sql entries:')\n",
    "for i in range(5):\n",
    "    print(line[i])\n",
    "    \n",
    "#translate to human-readable dataframe (similar to original csv)\n",
    "df = proc.getDataFrame(line,peopleMap)\n",
    "print('\\n\\nHead of the dataframe:')\n",
    "print(df.head())\n",
    "\n",
    "#see validate for more details, basically ensures all categories accounted for properly\n",
    "proc.validate(df,peopleMap)\n",
    "vec = proc.getOneHot(df,peopleMap,False)\n",
    "\n",
    "#duration is not known until outcome is known\n",
    "#see dataset documentation for more info\n",
    "vec = vec.drop('duration',axis=1)\n",
    "dataOneHot = vec.to_numpy(dtype=np.float64)\n",
    "\n",
    "print('\\n\\nFinally, here is a single vector ready for processing:')\n",
    "print(dataOneHot[0])\n",
    "\n",
    "\n",
    "#do the same as above for tha additional dataset\n",
    "lineA = records.getEntries('people_additional',0,numPeopleA)\n",
    "dfa = proc.getDataFrame(lineA,peopleAdditionalMap)\n",
    "proc.validate(dfa,peopleAdditionalMap)\n",
    "vecA = proc.getOneHot(dfa,peopleAdditionalMap,False)\n",
    "vecA = vecA.drop('duration',axis=1)\n",
    "dataOneHotA = vecA.to_numpy(dtype=np.float64)\n",
    "\n",
    "#get column labels\n",
    "colTitles = vec.columns\n",
    "colTitlesA = vecA.columns\n",
    "\n",
    "#rand generator\n",
    "randomGenr = np.random.default_rng()"
   ]
  },
  {
   "cell_type": "markdown",
   "metadata": {},
   "source": [
    "### Getting organized\n",
    "\n",
    "Here the datasets and models are generated and setup.<br>\n",
    "The data is processed in its raw form, and also after scaling it with \n",
    "\n",
    "[<code>sklearn.preprocessing.StandardScaler</code>](https://scikit-learn.org/stable/modules/generated/sklearn.preprocessing.StandardScaler.html)<br>\n",
    "\n",
    "The followind models are then run on both sets:<br>\n",
    "\n",
    "[<code>sklearn.neighbors.KNeighborsClassifier</code>](https://scikit-learn.org/stable/modules/generated/sklearn.neighbors.KNeighborsClassifier.html)<br>\n",
    "[<code>sklearn.ensemble.RandomForestClassifier</code>](https://scikit-learn.org/stable/modules/generated/sklearn.ensemble.RandomForestClassifier.html)<br>\n",
    "[<code>sklearn.neural_network.MLPClassifier</code>](https://scikit-learn.org/stable/modules/generated/sklearn.neural_network.MLPClassifier.html)<br>"
   ]
  },
  {
   "cell_type": "code",
   "execution_count": 128,
   "metadata": {},
   "outputs": [],
   "source": [
    "randomGenr.shuffle(dataOneHot)\n",
    "randomGenr.shuffle(dataOneHotA)\n",
    "#extract features, set float\n",
    "features = dataOneHot[:,:-1].astype(np.float64)\n",
    "featuresA = dataOneHotA[:,:-1].astype(np.float64)\n",
    "#extract labels\n",
    "labels = dataOneHot[:,-1]\n",
    "labelsA = dataOneHotA[:,-1]    \n",
    "#get ~20% of indices as random choice WITHOUT replacement for test\n",
    "testIndices = randomGenr.choice(len(labels),size=int(len(labels)*.1),replace=False)\n",
    "testIndicesA = randomGenr.choice(len(labelsA),size=int(len(labelsA)*.1),replace=False)\n",
    "#take test items\n",
    "testLabels = np.take(labels,testIndices)\n",
    "testFeatures = np.take(features,testIndices,axis=0)\n",
    "testLabelsA = np.take(labelsA,testIndicesA)\n",
    "testFeaturesA = np.take(featuresA,testIndicesA,axis=0)\n",
    "#remove test items\n",
    "trainLabels = np.delete(labels,testIndices)\n",
    "trainFeatures = np.delete(features,testIndices,axis=0)\n",
    "trainLabelsA = np.delete(labelsA,testIndicesA)\n",
    "trainFeaturesA = np.delete(featuresA,testIndicesA,axis=0)\n",
    "\n",
    "#initialize models\n",
    "rafo = RandomForestClassifier(n_estimators=1000,class_weight='balanced')\n",
    "rafoA = RandomForestClassifier(n_estimators=1000,class_weight='balanced')\n",
    "mlp = MLPClassifier(max_iter=1000)\n",
    "mlpA = MLPClassifier(max_iter=1000)\n",
    "knn = KNeighborsClassifier(9)\n",
    "knnA = KNeighborsClassifier(11)\n",
    "\n",
    "models = { 'RAFO': (rafo,rafoA),#random forest\n",
    "          'MLP' : (mlp,mlpA),   #multi level perceptron\n",
    "          'KNN': (knn,knnA)     #k nearest neighbor\n",
    "         }\n",
    "\n",
    "#initialize models\n",
    "rafoS = RandomForestClassifier(n_estimators=1000,class_weight='balanced')\n",
    "rafoAS = RandomForestClassifier(n_estimators=1000,class_weight='balanced')\n",
    "mlpS = MLPClassifier(max_iter=1000)\n",
    "mlpAS = MLPClassifier(max_iter=1000)\n",
    "knnS = KNeighborsClassifier(9)\n",
    "knnAS = KNeighborsClassifier(11)\n",
    "\n",
    "modelsScaled = { 'RAFO': (rafoS,rafoAS),#random forest\n",
    "                 'MLP' : (mlpS,mlpAS),  #multi level perceptron\n",
    "                 'KNN' : (knnS,knnAS)   #k nearest neighbor\n",
    "                } \n",
    "\n",
    "#create scaled features\n",
    "scaler = sklearn.preprocessing.StandardScaler()\n",
    "trainFeaturesS = scaler.fit_transform(trainFeatures)\n",
    "testFeaturesS = scaler.fit_transform(testFeatures)\n",
    "trainFeaturesAS = scaler.fit_transform(trainFeaturesA)\n",
    "testFeaturesAS = scaler.fit_transform(testFeaturesA)"
   ]
  },
  {
   "cell_type": "markdown",
   "metadata": {},
   "source": [
    "### Running the model\n",
    "The models are run and relavent information stored."
   ]
  },
  {
   "cell_type": "code",
   "execution_count": 129,
   "metadata": {},
   "outputs": [
    {
     "name": "stdout",
     "output_type": "stream",
     "text": [
      "running RAFO\n",
      "running MLP\n",
      "running KNN\n"
     ]
    }
   ],
   "source": [
    "results = {key:dict({ke:None for ke in ['probabilities','predictions']}) for key in models.keys()}\n",
    "resultsScaled = {key:dict({ke:None for ke in ['probabilities','predictions']}) for key in modelsScaled.keys()}\n",
    "\n",
    "\n",
    "for name,model,modelS in zip(models.keys(),models.values(),modelsScaled.values()):\n",
    "    print('running '+name)\n",
    "    model[0].fit(trainFeatures,trainLabels)\n",
    "    model[1].fit(trainFeaturesA,trainLabelsA)\n",
    "    modelS[0].fit(trainFeaturesS,trainLabels)\n",
    "    modelS[1].fit(trainFeaturesAS,trainLabelsA)\n",
    "    \n",
    "    #get predictions\n",
    "    preds = model[0].predict(testFeatures)\n",
    "    predsA = model[1].predict(testFeaturesA)\n",
    "    predsS = modelS[0].predict(testFeaturesS)\n",
    "    predsAS = modelS[1].predict(testFeaturesAS)\n",
    "    results[name]['predictions'] = (preds,predsA)\n",
    "    resultsScaled[name]['predictions'] = (predsS,predsAS)\n",
    "    \n",
    "    #get P(y=1) for each prediction\n",
    "    probs = [pair[1] for pair in model[0].predict_proba(testFeatures)]\n",
    "    probsA = [pair[1] for pair in model[1].predict_proba(testFeaturesA)]\n",
    "    probsS = [pair[1] for pair in modelS[0].predict_proba(testFeaturesS)]\n",
    "    probsAS = [pair[1] for pair in modelS[1].predict_proba(testFeaturesAS)]\n",
    "    results[name]['probabilities'] = (probs,probsA)\n",
    "    resultsScaled[name]['probabilities'] = (probsS,probsAS)\n",
    "    \n",
    "    "
   ]
  },
  {
   "cell_type": "markdown",
   "metadata": {},
   "source": [
    "### Tallying up results\n",
    "Finally, we tally the information."
   ]
  },
  {
   "cell_type": "code",
   "execution_count": 130,
   "metadata": {},
   "outputs": [],
   "source": [
    "tallys = dict()\n",
    "tallysS = dict()\n",
    "\n",
    "for key in results.keys():\n",
    "    #SETUP FOR THIS:\n",
    "    #tallys[modelName][0=firstDataSet,1=AdditionalDataSet][trueLabel][predictedLabel] = [list of P(y_{model}=1)]\n",
    "    tallys[key] = [[[[],[]],[[],[]]] ,[[[],[]],[[],[]]]]\n",
    "    tallysS[key] = [[[[],[]], [[],[]]],[[[],[]], [[],[]]]]\n",
    "    j=0\n",
    "    for labels,predictions,predictionsS in zip([testLabels,testLabelsA],results[key]['predictions'],resultsScaled[key]['predictions']):\n",
    "        i=0\n",
    "        for test,pred,predS in zip(labels,predictions,predictionsS):\n",
    "                #store probabilites in confusion-matrix-indexed tallys \n",
    "                tallys[key][j][int(test)][int(pred)].append(results[key]['probabilities'][j][i])\n",
    "                tallysS[key][j][int(test)][int(predS)].append(resultsScaled[key]['probabilities'][j][i])\n",
    "                i+=1\n",
    "        j+=1"
   ]
  },
  {
   "cell_type": "markdown",
   "metadata": {},
   "source": [
    "### Checking error rates\n",
    "\n",
    " \n",
    "We can see that the best performing model on the abbreviated feature data is Random Forest, while K Nearest Neighbors performed best on the full featured dataset.  Scaling the data is not helpful in either case. "
   ]
  },
  {
   "cell_type": "code",
   "execution_count": 145,
   "metadata": {},
   "outputs": [
    {
     "data": {
      "text/plain": [
       "<Figure size 2880x2880 with 0 Axes>"
      ]
     },
     "metadata": {},
     "output_type": "display_data"
    },
    {
     "data": {
      "image/png": "[encoded data removed]",
      "text/plain": [
       "<Figure size 432x288 with 4 Axes>"
      ]
     },
     "metadata": {
      "needs_background": "light"
     },
     "output_type": "display_data"
    },
    {
     "name": "stdout",
     "output_type": "stream",
     "text": [
      "RAFO is Random Forest\n",
      "MLP is Multi Level Perceptron\n",
      "KNN is K Nearest Neighbors\n"
     ]
    }
   ],
   "source": [
    "#Plot raw error rates of each model\n",
    "ind = [ i for i in range(len(correct)) ]\n",
    "width = .6\n",
    "plt.figure(figureCount,figsize=(40,40))\n",
    "fig, ax = plt.subplots(2, 2)\n",
    "\n",
    "titles = ['abbreviated features','full features'],['abbreviated features, scaled','full features, scaled']\n",
    "tally = [tallys,tallysS]\n",
    "totals = [len(testLabels),len(testLabelsA)]\n",
    "figureCount+=1\n",
    "for i in range(2):\n",
    "    for j in range (2):\n",
    "        wrong = [(len(tally[i][key][j][1][0])+len(tally[i][key][j][0][1]))/totals[i] for key in tallys.keys()]\n",
    "        #set bottom for each graph\n",
    "        bottom = min(wrong)-.005\n",
    "        ax[i,j].bar([item+width for item in ind],[item-bottom for item in wrong],width,label='Incorrect Predictions',color='red',bottom=bottom)\n",
    "        ax[i,j].set_xticks([item+width/2 for item in ind])\n",
    "        ax[i,j].set_xticklabels(tallys.keys())\n",
    "        ax[i,j].set_title(titles[i][j])\n",
    "plt.tight_layout()\n",
    "plt.suptitle('Error rates',verticalalignment='baseline')\n",
    "plt.show()\n",
    "print('RAFO is Random Forest\\nMLP is Multi Level Perceptron\\nKNN is K Nearest Neighbors')"
   ]
  },
  {
   "cell_type": "markdown",
   "metadata": {},
   "source": [
    "While ~90% success rate is not terrible on a balanced dataset.  We know that our dataset is biased, and so this prediction success rate is about equal to the error rate obtained by guessing randomly according to the distribution of classes.  Moving forward, we'll only work with the non-scaled data since the scaling wasn't helpful."
   ]
  },
  {
   "cell_type": "markdown",
   "metadata": {},
   "source": [
    "### Slightly modifying our approach\n",
    "\n",
    "Lets define some things, first.<br>\n",
    "Define a dataset:\n",
    "$$   D = \\{ ( x_{i} ,y_{i}) \\mid 0 \\leq i \\lt N \\}  $$\n",
    "    Where there are N examples in a dataset with feature vector x, label y\n",
    "\n",
    "We define a learned *estimator* $ f_{\\theta}(\\cdot) $, parameterized by $\\theta$:\n",
    "$$ f_{\\theta}(x_{i}) = \\hat{y} \\approx y_{i} $$\n",
    "and let\n",
    "$$ P_{\\theta}(y_{i}=1\\mid x_{i}) = p_{i} $$\n",
    "for a given test example $( x_{i} ,y_{i})$\n",
    "and finally we define the *indicator* $ I_{i} $: <br><br>\n",
    "$$ I_{i} = 1 \\iff   y_{i}=1 \\: and \\: f_{\\theta}(x_{i})= \\hat{y}=1  $$<br>\n",
    "$$ else \\: \\: \\: I_{i} = 0 $$\n",
    "\n",
    "and now define a sorted list:\n",
    "$$ \\mathcal{S} = \\{  s^{j} = (s_{p}^{j},s_{I}^{j}) = ( p_{i} ,I_{i}) \\mid 0 \\leq i,j \\lt N \\: and \\: a \\gt b \\implies s_{p}^{a} \\gt s_{p}^{b} \\} $$ \n",
    "\n",
    "In English: $\\mathcal{S}$ is a list of indicator, probabilty pairs sorted in increasing order by probabilities.\n"
   ]
  },
  {
   "cell_type": "code",
   "execution_count": 178,
   "metadata": {},
   "outputs": [
    {
     "name": "stdout",
     "output_type": "stream",
     "text": [
      "[array([1.   , 0.918]), array([1.   , 0.913]), array([1.   , 0.908]), array([1.   , 0.898]), array([0.   , 0.874]), array([0.   , 0.852]), array([1.   , 0.847]), array([0.   , 0.846]), array([1.   , 0.846]), array([1.  , 0.84]), array([1.   , 0.838]), array([1.   , 0.833]), array([1.   , 0.831]), array([0.   , 0.829]), array([1.   , 0.829]), array([1.   , 0.829]), array([1.   , 0.826]), array([1.   , 0.823]), array([0.   , 0.822]), array([0.   , 0.808]), array([1.   , 0.806]), array([0.   , 0.805]), array([0.   , 0.797]), array([1.   , 0.793]), array([0.   , 0.792]), array([1.   , 0.792]), array([1.   , 0.784]), array([0.   , 0.783]), array([1.   , 0.779]), array([1.   , 0.772]), array([1.   , 0.771]), array([1.   , 0.771]), array([0.   , 0.762]), array([1.   , 0.762]), array([1.   , 0.761]), array([0.   , 0.758]), array([0.   , 0.757]), array([1.   , 0.755]), array([0.   , 0.754]), array([1.   , 0.754]), array([0.   , 0.747]), array([0.   , 0.746]), array([1.   , 0.746]), array([0.   , 0.744]), array([1.   , 0.744]), array([1.   , 0.739]), array([1.   , 0.732]), array([1.   , 0.732]), array([1.  , 0.73]), array([1.  , 0.73]), array([1.   , 0.729]), array([1.   , 0.726]), array([1.  , 0.72]), array([1.   , 0.719]), array([0.   , 0.716]), array([1.   , 0.712]), array([1.  , 0.71]), array([1.   , 0.709]), array([1.   , 0.704]), array([1.   , 0.698]), array([1.   , 0.694]), array([0.   , 0.692]), array([1.   , 0.691]), array([1.   , 0.691]), array([1.   , 0.689]), array([1.   , 0.689]), array([1.   , 0.689]), array([1.   , 0.687]), array([1.   , 0.687]), array([1.   , 0.682]), array([1.   , 0.681]), array([1.   , 0.681]), array([0.   , 0.677]), array([1.   , 0.676]), array([1.   , 0.675]), array([1.   , 0.673]), array([1.   , 0.673]), array([0.   , 0.672]), array([0.   , 0.667]), array([0.   , 0.661]), array([1.   , 0.658]), array([0.   , 0.657]), array([0.   , 0.656]), array([1.   , 0.655]), array([0.   , 0.653]), array([1.   , 0.652]), array([0.   , 0.651]), array([0.   , 0.651]), array([0.   , 0.648]), array([0.   , 0.638]), array([1.   , 0.638]), array([0.   , 0.632]), array([1.   , 0.632]), array([1.   , 0.631]), array([1.  , 0.63]), array([1.   , 0.622]), array([1.  , 0.62]), array([1.   , 0.619]), array([1.   , 0.618]), array([1.   , 0.615]), array([1.   , 0.614]), array([0.   , 0.611]), array([1.  , 0.61]), array([1.   , 0.607]), array([0.   , 0.601]), array([0.   , 0.595]), array([0.   , 0.593]), array([1.   , 0.593]), array([0.  , 0.59]), array([1.  , 0.59]), array([1.  , 0.59]), array([0.   , 0.586]), array([1.   , 0.586]), array([0.   , 0.583]), array([1.   , 0.582]), array([0.  , 0.58]), array([0.   , 0.579]), array([0.   , 0.578]), array([0.   , 0.577]), array([1.   , 0.575]), array([1.   , 0.575]), array([0.   , 0.573]), array([1.   , 0.569]), array([1.   , 0.569]), array([1.   , 0.564]), array([1.   , 0.561]), array([0.  , 0.56]), array([0.   , 0.555]), array([0.   , 0.554]), array([1.   , 0.553]), array([0.  , 0.55]), array([0.   , 0.548]), array([1.   , 0.547]), array([0.   , 0.541]), array([0.   , 0.539]), array([1.   , 0.536]), array([1.   , 0.535]), array([1.   , 0.534]), array([1.   , 0.534]), array([0.   , 0.528]), array([0.   , 0.528]), array([0.   , 0.527]), array([0.   , 0.526]), array([0.   , 0.524]), array([0.   , 0.522]), array([0.   , 0.522]), array([0.   , 0.522]), array([0.   , 0.522]), array([0.   , 0.521]), array([1.   , 0.521]), array([1.  , 0.52]), array([0.   , 0.517]), array([0.   , 0.515]), array([0.   , 0.514]), array([1.   , 0.514]), array([0.   , 0.513]), array([0.   , 0.512]), array([1.   , 0.512]), array([0.   , 0.511]), array([0.   , 0.511]), array([0.   , 0.511]), array([1.  , 0.51]), array([0.   , 0.508]), array([1.   , 0.507]), array([1.   , 0.506]), array([1.   , 0.505]), array([1.   , 0.504]), array([0.   , 0.503]), array([0.   , 0.502]), array([0.   , 0.502]), array([1.   , 0.502]), array([0.   , 0.494]), array([0.   , 0.482]), array([0.   , 0.482]), array([0.   , 0.481]), array([0.   , 0.446]), array([0.   , 0.443]), array([0.   , 0.429]), array([0.   , 0.425]), array([0. , 0.4]), array([0.   , 0.388]), array([0.   , 0.353]), array([0.   , 0.349]), array([0.   , 0.343]), array([0.   , 0.336]), array([0.   , 0.322]), array([0.   , 0.317]), array([0.   , 0.313]), array([0.   , 0.309]), array([0.   , 0.307]), array([0. , 0.3]), array([0.   , 0.284]), array([0.   , 0.278]), array([0.   , 0.277]), array([0.   , 0.262]), array([0.   , 0.262]), array([0.   , 0.261]), array([0.   , 0.252]), array([0.   , 0.246]), array([0.   , 0.244]), array([0.   , 0.237]), array([0.   , 0.234]), array([0.   , 0.231]), array([0.   , 0.231]), array([0.  , 0.23]), array([0.  , 0.23]), array([0.   , 0.228]), array([0.   , 0.226]), array([0.   , 0.225]), array([0.   , 0.221]), array([0.   , 0.207]), array([0.   , 0.203]), array([0.   , 0.195]), array([0.   , 0.195]), array([0.   , 0.189]), array([0.   , 0.167]), array([0.   , 0.161]), array([0.   , 0.158]), array([0.   , 0.158]), array([0.   , 0.158]), array([0.   , 0.148]), array([0.   , 0.144]), array([0.   , 0.138]), array([0.   , 0.137]), array([0.   , 0.136]), array([0.   , 0.135]), array([0.   , 0.132]), array([0.   , 0.132]), array([0.   , 0.124]), array([0.   , 0.119]), array([0.   , 0.105]), array([0.   , 0.101]), array([0.   , 0.099]), array([0.   , 0.094]), array([0.   , 0.094]), array([0.   , 0.093]), array([0.   , 0.092]), array([0.   , 0.089]), array([0.   , 0.085]), array([0.   , 0.083]), array([0.   , 0.081]), array([0.  , 0.08]), array([0.   , 0.073]), array([0.   , 0.072]), array([0.  , 0.07]), array([0.   , 0.067]), array([0.   , 0.067]), array([0.   , 0.065]), array([0.   , 0.063]), array([0.   , 0.061]), array([0.   , 0.061]), array([0.   , 0.059]), array([0.   , 0.058]), array([0.   , 0.058]), array([0.   , 0.057]), array([0.   , 0.056]), array([0.   , 0.056]), array([0.   , 0.054]), array([0.   , 0.053]), array([0.   , 0.053]), array([0.   , 0.052]), array([0.   , 0.049]), array([0.   , 0.048]), array([0.   , 0.048]), array([0.   , 0.047]), array([0.   , 0.046]), array([0.   , 0.045]), array([0.   , 0.045]), array([0.   , 0.045]), array([0.   , 0.043]), array([0.   , 0.042]), array([0.   , 0.042]), array([0.   , 0.042]), array([0.   , 0.041]), array([0.   , 0.039]), array([0.   , 0.036]), array([0.   , 0.034]), array([0.   , 0.033]), array([0.   , 0.032]), array([0.   , 0.031]), array([0.   , 0.029]), array([0.   , 0.029]), array([0.   , 0.027]), array([0.   , 0.027]), array([0.   , 0.026]), array([0.   , 0.026]), array([0.   , 0.025]), array([0.   , 0.025]), array([0.   , 0.022]), array([0.   , 0.021]), array([0.  , 0.02]), array([0.  , 0.02]), array([0.   , 0.017]), array([0.   , 0.017]), array([0.   , 0.016]), array([0.   , 0.015]), array([0.   , 0.015]), array([0.   , 0.014]), array([0.   , 0.014]), array([0.   , 0.014]), array([0.   , 0.013]), array([0.   , 0.013]), array([0.   , 0.012]), array([0.   , 0.011]), array([0.   , 0.009]), array([0.   , 0.009]), array([0.   , 0.008]), array([0.   , 0.008]), array([0.   , 0.006]), array([0.   , 0.004]), array([0.   , 0.003]), array([0.   , 0.003]), array([0.   , 0.003]), array([0.   , 0.002]), array([0., 0.])]\n",
      "[array([0.   , 0.953]), array([1.       , 0.9518809]), array([1.  , 0.95]), array([1.   , 0.945]), array([0.   , 0.938]), array([1.   , 0.923]), array([1.   , 0.921]), array([1.   , 0.918]), array([1.        , 0.91773468]), array([1.   , 0.917]), array([1.   , 0.914]), array([1.   , 0.912]), array([1.   , 0.911]), array([1.   , 0.902]), array([1.   , 0.889]), array([1.   , 0.887]), array([1.   , 0.883]), array([1.        , 0.88288759]), array([1.   , 0.881]), array([1.  , 0.88]), array([0.        , 0.87882804]), array([1.        , 0.86684275]), array([1.   , 0.864]), array([1.   , 0.863]), array([1.   , 0.859]), array([1.   , 0.858]), array([0.        , 0.85310566]), array([1.   , 0.848]), array([0.        , 0.84795949]), array([1.        , 0.84340951]), array([1.   , 0.843]), array([1.   , 0.841]), array([1.   , 0.833]), array([1.   , 0.832]), array([1.   , 0.832]), array([1.   , 0.829]), array([1.       , 0.8262243]), array([0.   , 0.826]), array([1.        , 0.82158543]), array([1.        , 0.82077518]), array([0.  , 0.82]), array([1.   , 0.819]), array([1.   , 0.817]), array([1.        , 0.81588759]), array([1.  , 0.81]), array([1.   , 0.807]), array([0.   , 0.803]), array([0.   , 0.794]), array([1.   , 0.792]), array([1.        , 0.78952872]), array([0.        , 0.78894045]), array([1.   , 0.784]), array([1.        , 0.78361239]), array([1.       , 0.7823452]), array([1.   , 0.778]), array([0.   , 0.777]), array([0.        , 0.77583216]), array([0.   , 0.773]), array([1.   , 0.771]), array([1.        , 0.76652257]), array([1.        , 0.76615474]), array([1.   , 0.766]), array([1.   , 0.765]), array([1.        , 0.76368549]), array([1.        , 0.76344962]), array([1.   , 0.763]), array([0.   , 0.762]), array([1.        , 0.76109441]), array([1.        , 0.75862098]), array([1.   , 0.756]), array([1.   , 0.756]), array([1.   , 0.748]), array([1.   , 0.746]), array([1.   , 0.742]), array([1.  , 0.74]), array([0.   , 0.738]), array([0.        , 0.73624335]), array([1.   , 0.735]), array([1.   , 0.734]), array([1.   , 0.732]), array([1.        , 0.73165409]), array([0.   , 0.728]), array([0.        , 0.72592214]), array([0.        , 0.72077518]), array([1.        , 0.71998562]), array([1.   , 0.719]), array([0.        , 0.71888759]), array([1.   , 0.718]), array([1.        , 0.71485047]), array([1.        , 0.70930959]), array([1.   , 0.709]), array([1.   , 0.707]), array([0.   , 0.706]), array([1.   , 0.706]), array([1.   , 0.706]), array([1.   , 0.705]), array([0.   , 0.702]), array([0.        , 0.70001338]), array([0.   , 0.696]), array([1.   , 0.696]), array([0.        , 0.69271563]), array([0.   , 0.692]), array([1.   , 0.691]), array([0.   , 0.688]), array([0.   , 0.685]), array([1.  , 0.68]), array([0.   , 0.679]), array([1.        , 0.67888759]), array([1.        , 0.67789994]), array([1.   , 0.677]), array([0.   , 0.676]), array([1.        , 0.67184709]), array([1.   , 0.667]), array([1.        , 0.66668549]), array([0.   , 0.666]), array([0.   , 0.666]), array([0.   , 0.666]), array([1.        , 0.66177518]), array([0.        , 0.66045727]), array([1.  , 0.66]), array([0.   , 0.659]), array([1.        , 0.65420752]), array([1.   , 0.654]), array([0.        , 0.65288759]), array([0.        , 0.65095949]), array([1.        , 0.65016711]), array([0.  , 0.65]), array([0.   , 0.649]), array([0.   , 0.648]), array([0.   , 0.648]), array([0.        , 0.64789339]), array([1.   , 0.647]), array([1.   , 0.645]), array([1.   , 0.643]), array([1.   , 0.642]), array([1.       , 0.6400126]), array([1.        , 0.63882804]), array([0.       , 0.6386617]), array([1.        , 0.63781397]), array([1.   , 0.637]), array([0.   , 0.636]), array([1.   , 0.636]), array([1.   , 0.636]), array([0.        , 0.63588759]), array([0.   , 0.635]), array([1.        , 0.63472467]), array([0.   , 0.634]), array([1.   , 0.632]), array([1.   , 0.631]), array([0.  , 0.63]), array([1.        , 0.62888759]), array([0.        , 0.62880607]), array([1.   , 0.627]), array([0.   , 0.626]), array([0.   , 0.624]), array([0.        , 0.62208356]), array([1.        , 0.62040355]), array([0.        , 0.61988759]), array([0.        , 0.61966277]), array([0.        , 0.61887621]), array([0.        , 0.61615596]), array([0.   , 0.615]), array([0.        , 0.61454447]), array([1.        , 0.61426893]), array([1.   , 0.613]), array([1.        , 0.61088759]), array([0.   , 0.608]), array([1.        , 0.60719902]), array([0.        , 0.60717373]), array([0.   , 0.604]), array([0.   , 0.604]), array([0.   , 0.604]), array([0.   , 0.603]), array([0.   , 0.601]), array([0.        , 0.59935404]), array([1.       , 0.5986788]), array([1.        , 0.59862227]), array([1.        , 0.59774021]), array([1.   , 0.595]), array([1.        , 0.59305953]), array([1.   , 0.593]), array([0.   , 0.591]), array([1.  , 0.59]), array([1.        , 0.58878753]), array([0.   , 0.588]), array([1.   , 0.588]), array([1.        , 0.58627746]), array([0.        , 0.58524753]), array([0.        , 0.58288759]), array([0.        , 0.58270918]), array([0.   , 0.582]), array([0.        , 0.58162732]), array([0.        , 0.57902526]), array([1.        , 0.57745935]), array([0.   , 0.577]), array([0.   , 0.577]), array([1.   , 0.576]), array([0.        , 0.57588759]), array([0.   , 0.574]), array([1.   , 0.574]), array([0.        , 0.57207594]), array([1.   , 0.572]), array([0.   , 0.565]), array([0.   , 0.565]), array([0.   , 0.564]), array([1.        , 0.56368549]), array([1.        , 0.56360386]), array([0.   , 0.563]), array([0.  , 0.56]), array([1.  , 0.56]), array([0.   , 0.557]), array([1.   , 0.557]), array([0.        , 0.55592214]), array([1.        , 0.55565009]), array([0.        , 0.55488759]), array([0.        , 0.55388759]), array([0.        , 0.55288759]), array([1.        , 0.55218534]), array([0.        , 0.55088759]), array([1.   , 0.549]), array([1.        , 0.54708442]), array([0.   , 0.547]), array([1.   , 0.547]), array([1.   , 0.547]), array([1.        , 0.54688759]), array([1.        , 0.54594045]), array([0.   , 0.545]), array([1.   , 0.545]), array([1.   , 0.544]), array([0.        , 0.54061185]), array([1.        , 0.53988759]), array([1.   , 0.539]), array([1.   , 0.537]), array([1.        , 0.53518733]), array([1.   , 0.535]), array([0.        , 0.53341347]), array([0.   , 0.532]), array([1.        , 0.53118297]), array([0.        , 0.53068549]), array([0.  , 0.53]), array([1.        , 0.52888759]), array([0.   , 0.527]), array([0.        , 0.52695949]), array([1.        , 0.52488759]), array([0.        , 0.52327414]), array([1.   , 0.523]), array([0.        , 0.52168549]), array([1.        , 0.51968549]), array([0.   , 0.519]), array([0.   , 0.519]), array([0.   , 0.519]), array([1.   , 0.519]), array([0.        , 0.51882312]), array([0.   , 0.517]), array([0.   , 0.516]), array([1.   , 0.514]), array([0.       , 0.5137979]), array([0.        , 0.51140191]), array([0.   , 0.509]), array([1.   , 0.508]), array([1.       , 0.5078809]), array([1.        , 0.50750318]), array([1.   , 0.507]), array([1.   , 0.504]), array([0.   , 0.503]), array([1.   , 0.502]), array([0.       , 0.5015958]), array([0.   , 0.501]), array([0.        , 0.50050243]), array([0.   , 0.492]), array([0.   , 0.486]), array([0.  , 0.48]), array([0.       , 0.4761513]), array([0.   , 0.475]), array([0.   , 0.474]), array([0.   , 0.473]), array([0.        , 0.46594045]), array([0.        , 0.45788759]), array([0.        , 0.45694045]), array([0.  , 0.44]), array([0.        , 0.43902051]), array([0.        , 0.43718659]), array([0.   , 0.431]), array([0.   , 0.425]), array([0.        , 0.42189994]), array([0.        , 0.41922417]), array([0.       , 0.4138264]), array([0.        , 0.40355602]), array([0.        , 0.39522173]), array([0.        , 0.39382804]), array([0.        , 0.38488998]), array([0.        , 0.38072467]), array([0.   , 0.372]), array([0.        , 0.36960322]), array([0.        , 0.36588759]), array([0.  , 0.36]), array([0.       , 0.3595238]), array([0.   , 0.356]), array([0.   , 0.355]), array([0.   , 0.343]), array([0.   , 0.337]), array([0.   , 0.336]), array([0.        , 0.32380973]), array([0.   , 0.308]), array([0.        , 0.30071119]), array([0.        , 0.29862594]), array([0.        , 0.28483938]), array([0.   , 0.284]), array([0.        , 0.27942056]), array([0.   , 0.274]), array([0.        , 0.27135392]), array([0.        , 0.26989994]), array([0.       , 0.2636284]), array([0.        , 0.26282804]), array([0.  , 0.26]), array([0.        , 0.25621002]), array([0.   , 0.254]), array([0.        , 0.25049565]), array([0.        , 0.24682775]), array([0.        , 0.24544609]), array([0.       , 0.2437979]), array([0.   , 0.239]), array([0.        , 0.23784949]), array([0.       , 0.2238569]), array([0.        , 0.21588759]), array([0.   , 0.213]), array([0.        , 0.19982804]), array([0.        , 0.19869733]), array([0.   , 0.195]), array([0.   , 0.191]), array([0.   , 0.188]), array([0.   , 0.185]), array([0.        , 0.18278685]), array([0.        , 0.17929775]), array([0.   , 0.177]), array([0.        , 0.17673468]), array([0.   , 0.176]), array([0.   , 0.175]), array([0.   , 0.174]), array([0.   , 0.161]), array([0.   , 0.151]), array([0.   , 0.148]), array([0.   , 0.144]), array([0.   , 0.139]), array([0.        , 0.13888759]), array([0.        , 0.13772467]), array([0.        , 0.13194045]), array([0.        , 0.13089994]), array([0.        , 0.13089468]), array([0.   , 0.129]), array([0.        , 0.11966512]), array([0.        , 0.11865608]), array([0.        , 0.11428637]), array([0.        , 0.11288759]), array([0.   , 0.108]), array([0.   , 0.105]), array([0.   , 0.103]), array([0.        , 0.10253189]), array([0.        , 0.10166376]), array([0.   , 0.098]), array([0.        , 0.09282804]), array([0.        , 0.09234925]), array([0.        , 0.08792214]), array([0.   , 0.087]), array([0.   , 0.085]), array([0.        , 0.08384036]), array([0.        , 0.08243894]), array([0.   , 0.082]), array([0.        , 0.07672467]), array([0.   , 0.076]), array([0.   , 0.073]), array([0.        , 0.07220873]), array([0.   , 0.071]), array([0.        , 0.07068549]), array([0.        , 0.06834987]), array([0.   , 0.068]), array([0.   , 0.066]), array([0.   , 0.065]), array([0.   , 0.062]), array([0.        , 0.06188759]), array([0.  , 0.06]), array([0.   , 0.058]), array([0.   , 0.057]), array([0.        , 0.05688759]), array([0.        , 0.05631143]), array([0.   , 0.056]), array([0.   , 0.054]), array([0.        , 0.05372467]), array([0.   , 0.053]), array([0.        , 0.05295949]), array([0.        , 0.05148339]), array([0.        , 0.05036062]), array([0.  , 0.05]), array([0.  , 0.05]), array([0.        , 0.04977518]), array([0.        , 0.04945423]), array([0.        , 0.04890976]), array([0.        , 0.04877518]), array([0.        , 0.04875952]), array([0.        , 0.04872004]), array([0.   , 0.048]), array([0.   , 0.047]), array([0.        , 0.04545398]), array([0.   , 0.045]), array([0.   , 0.045]), array([0.   , 0.045]), array([0.   , 0.044]), array([0.        , 0.04353625]), array([0.   , 0.043]), array([0.   , 0.042]), array([0.        , 0.04194045]), array([0.  , 0.04]), array([0.        , 0.03806515]), array([0.   , 0.038]), array([0.   , 0.037]), array([0.        , 0.03681166]), array([0.   , 0.036]), array([0.   , 0.035]), array([0.        , 0.03450684]), array([0.   , 0.033]), array([0.   , 0.032]), array([0.   , 0.032]), array([0.        , 0.03188759]), array([0.   , 0.031]), array([0.  , 0.03]), array([0.        , 0.02945398]), array([0.   , 0.029]), array([0.   , 0.028]), array([0.   , 0.028]), array([0.   , 0.027]), array([0.   , 0.026]), array([0.   , 0.023]), array([0.        , 0.02284036]), array([0.        , 0.02188759]), array([0.   , 0.021]), array([0.   , 0.021]), array([0.  , 0.02]), array([0.  , 0.02]), array([0.        , 0.01991846]), array([0.   , 0.019]), array([0.   , 0.019]), array([0.   , 0.019]), array([0.        , 0.01888759]), array([0.   , 0.018]), array([0.   , 0.018]), array([0.   , 0.018]), array([0.       , 0.0177921]), array([0.   , 0.017]), array([0.   , 0.016]), array([0.   , 0.016]), array([0.   , 0.016]), array([0.   , 0.016]), array([0.        , 0.01577518]), array([0.   , 0.014]), array([0.   , 0.014]), array([0.        , 0.01384709]), array([0.        , 0.01369784]), array([0.   , 0.013]), array([0.   , 0.013]), array([0.   , 0.013]), array([0.   , 0.013]), array([0.   , 0.012]), array([0.  , 0.01]), array([0.  , 0.01]), array([0.  , 0.01]), array([0.   , 0.009]), array([0.        , 0.00860322]), array([0.        , 0.00782804]), array([0.   , 0.007]), array([0.   , 0.007]), array([0.   , 0.007]), array([0.   , 0.007]), array([0.   , 0.006]), array([0.   , 0.006]), array([0.   , 0.006]), array([0.   , 0.006]), array([0.   , 0.005]), array([0.   , 0.005]), array([0.        , 0.00480658]), array([0.   , 0.004]), array([0.   , 0.004]), array([0.   , 0.004]), array([0.   , 0.003]), array([0.   , 0.002]), array([0.   , 0.002]), array([0.   , 0.002]), array([0.   , 0.001]), array([0.   , 0.001]), array([0.   , 0.001]), array([0., 0.]), array([0., 0.]), array([0., 0.]), array([0., 0.]), array([0., 0.]), array([0., 0.]), array([0., 0.]), array([0., 0.])]\n",
      "[array([0.        , 0.96345325]), array([1.        , 0.96343145]), array([1.        , 0.96066565]), array([0.        , 0.94269912]), array([1.        , 0.94269717]), array([1.        , 0.94129526]), array([1.        , 0.93910784]), array([1.        , 0.93881409]), array([0.       , 0.9371411]), array([1.        , 0.93040194]), array([1.        , 0.93017498]), array([0.        , 0.92918991]), array([1.        , 0.92601092]), array([0.        , 0.92491859]), array([0.        , 0.91861516]), array([1.        , 0.91550899]), array([0.        , 0.91453711]), array([1.        , 0.91286697]), array([0.        , 0.91128456]), array([1.        , 0.90978676]), array([0.        , 0.90963762]), array([0.        , 0.90920187]), array([0.        , 0.90236401]), array([1.        , 0.90214817]), array([0.       , 0.8992949]), array([0.        , 0.89330413]), array([1.        , 0.89327171]), array([0.        , 0.89211372]), array([0.        , 0.89011253]), array([1.        , 0.88966434]), array([1.        , 0.88777848]), array([1.        , 0.88478814]), array([1.        , 0.88167216]), array([1.        , 0.88077601]), array([1.        , 0.88021865]), array([0.        , 0.88006365]), array([1.        , 0.87798371]), array([1.        , 0.87764239]), array([0.        , 0.87366687]), array([1.        , 0.87060038]), array([1.        , 0.86753876]), array([0.        , 0.86748896]), array([0.        , 0.86543596]), array([0.        , 0.86213979]), array([0.        , 0.85939568]), array([1.       , 0.8591102]), array([0.        , 0.85686367]), array([1.        , 0.85572356]), array([1.        , 0.85498352]), array([1.        , 0.85200215]), array([1.        , 0.85142328]), array([1.        , 0.84895807]), array([1.        , 0.84894733]), array([1.        , 0.84832201]), array([1.        , 0.84452764]), array([0.        , 0.84356382]), array([1.        , 0.84117825]), array([0.        , 0.83754276]), array([1.        , 0.83714547]), array([1.       , 0.8349747]), array([0.        , 0.83416085]), array([1.        , 0.83413675]), array([0.        , 0.82892827]), array([1.        , 0.82819624]), array([0.        , 0.82543015]), array([1.        , 0.81969655]), array([1.        , 0.81942561]), array([0.        , 0.81915485]), array([1.        , 0.81563572]), array([1.        , 0.81386917]), array([1.        , 0.81370564]), array([0.        , 0.81349016]), array([1.        , 0.79486975]), array([1.        , 0.79184301]), array([1.        , 0.79077385]), array([1.        , 0.78954551]), array([1.        , 0.78517875]), array([0.        , 0.77907947]), array([0.        , 0.77137101]), array([0.        , 0.76826124]), array([0.        , 0.76419821]), array([0.        , 0.74346281]), array([0.        , 0.73738731]), array([1.        , 0.73082561]), array([0.        , 0.73040806]), array([1.        , 0.72728462]), array([0.        , 0.72530825]), array([0.       , 0.7208308]), array([1.        , 0.71879678]), array([0.        , 0.71451298]), array([1.        , 0.70440089]), array([0.        , 0.70417185]), array([1.       , 0.7021775]), array([0.        , 0.69552224]), array([1.        , 0.67833738]), array([1.        , 0.67597403]), array([1.        , 0.67363816]), array([0.        , 0.66925794]), array([1.        , 0.66355771]), array([1.        , 0.65880905]), array([1.        , 0.65419143]), array([1.        , 0.65212577]), array([0.        , 0.64511148]), array([0.        , 0.64467534]), array([0.        , 0.64003296]), array([0.        , 0.63925773]), array([1.        , 0.62968326]), array([0.        , 0.62780024]), array([1.        , 0.62625051]), array([0.        , 0.62374304]), array([0.        , 0.62339931]), array([1.        , 0.61505808]), array([0.        , 0.61451806]), array([1.        , 0.61136238]), array([1.        , 0.60957986]), array([0.        , 0.60769488]), array([1.        , 0.60417299]), array([0.       , 0.6015111]), array([1.        , 0.59841732]), array([1.       , 0.5970441]), array([0.        , 0.59667935]), array([0.        , 0.59597361]), array([1.        , 0.59143558]), array([0.        , 0.58886483]), array([1.        , 0.58585635]), array([0.      , 0.578862]), array([1.        , 0.57882228]), array([1.        , 0.57836146]), array([1.        , 0.57426854]), array([0.        , 0.57328001]), array([1.        , 0.56820472]), array([1.        , 0.56359961]), array([1.        , 0.56054507]), array([0.        , 0.53293801]), array([0.       , 0.5319258]), array([0.        , 0.52971176]), array([0.        , 0.52751102]), array([1.        , 0.51148096]), array([1.        , 0.50313462]), array([0.       , 0.3942867]), array([0.        , 0.27864849]), array([0.       , 0.2779114]), array([0.        , 0.27046088]), array([0.        , 0.24490314]), array([0.        , 0.23448754]), array([0.        , 0.20642358]), array([0.       , 0.2038848]), array([0.       , 0.2025033]), array([0.        , 0.19568646]), array([0.        , 0.17499251]), array([0.       , 0.1709868]), array([0.        , 0.16746573]), array([0.        , 0.16100467]), array([0.        , 0.15797241]), array([0.        , 0.14477682]), array([0.        , 0.12961869]), array([0.        , 0.12631613]), array([0.        , 0.12535364]), array([0.        , 0.12342129]), array([0.       , 0.1202167]), array([0.        , 0.11313835]), array([0.        , 0.11206265]), array([0.        , 0.11146961]), array([0.        , 0.10258635]), array([0.        , 0.09607329]), array([0.       , 0.0915971]), array([0.       , 0.0860192]), array([0.        , 0.08553432]), array([0.        , 0.08539989]), array([0.        , 0.08022349]), array([0.        , 0.07960357]), array([0.        , 0.07750822]), array([0.        , 0.07495404]), array([0.        , 0.07420131]), array([0.        , 0.07231551]), array([0.        , 0.06797864]), array([0.       , 0.0654604]), array([0.        , 0.05789753]), array([0.        , 0.05720518]), array([0.        , 0.05620501]), array([0.       , 0.0525219]), array([0.        , 0.05194208]), array([0.        , 0.05156582]), array([0.        , 0.05153781]), array([0.        , 0.05047805]), array([0.        , 0.05009167]), array([0.        , 0.04999305]), array([0.        , 0.04924132]), array([0.        , 0.04915791]), array([0.        , 0.04722388]), array([0.        , 0.04704383]), array([0.        , 0.04574407]), array([0.        , 0.04481436]), array([0.      , 0.044793]), array([0.        , 0.04446439]), array([0.        , 0.04317594]), array([0.        , 0.04233471]), array([0.        , 0.04134092]), array([0.        , 0.04018348]), array([0.        , 0.03925961]), array([0.        , 0.03876379]), array([0.        , 0.03777967]), array([0.        , 0.03740595]), array([0.        , 0.03575615]), array([0.        , 0.03575261]), array([0.        , 0.03324709]), array([0.        , 0.03285032]), array([0.        , 0.02982915]), array([0.        , 0.02940473]), array([0.        , 0.02924842]), array([0.        , 0.02834304]), array([0.        , 0.02779989]), array([0.        , 0.02736734]), array([0.        , 0.02726025]), array([0.        , 0.02647697]), array([0.        , 0.02640812]), array([0.       , 0.0255815]), array([0.        , 0.02357945]), array([0.        , 0.01906739]), array([0.        , 0.01881575]), array([0.        , 0.01792116]), array([0.        , 0.01458509]), array([0.        , 0.01447435]), array([0.        , 0.01435823]), array([0.        , 0.01287953]), array([0.        , 0.01284041]), array([0.        , 0.01193667]), array([0.        , 0.01151278]), array([0.        , 0.01077917]), array([0.        , 0.01015779]), array([0.        , 0.00986021]), array([0.        , 0.00980216]), array([0.        , 0.00879938]), array([0.        , 0.00838015]), array([0.       , 0.0083579]), array([0.        , 0.00817889]), array([0.        , 0.00801659]), array([0.        , 0.00794537]), array([0.        , 0.00770394]), array([0.        , 0.00615805]), array([0.        , 0.00592358]), array([0.        , 0.00575622]), array([0.        , 0.00573301]), array([0.        , 0.00505982]), array([0.        , 0.00477262]), array([0.        , 0.00474412]), array([0.        , 0.00430185]), array([0.        , 0.00148239]), array([0.        , 0.00085646]), array([0.        , 0.00053866]), array([0.        , 0.00026426]), array([0.        , 0.00015131]), array([0.        , 0.00012606]), array([0.00000000e+00, 9.92760419e-05]), array([0.00000000e+00, 6.53769588e-05]), array([0.0000000e+00, 3.5716342e-05]), array([0.00000000e+00, 3.09557265e-05]), array([0.00000000e+00, 1.07190773e-05]), array([0.00000000e+00, 6.83162716e-06]), array([0.0000000e+00, 4.5458662e-06]), array([0.00000000e+00, 1.18782742e-06])]\n",
      "[array([1.        , 0.99973951]), array([1.        , 0.99952464]), array([1.        , 0.99943162]), array([1.        , 0.99926919]), array([1.        , 0.99913824]), array([0.        , 0.99897513]), array([1.       , 0.9989318]), array([1.       , 0.9989124]), array([1.        , 0.99884753]), array([0.        , 0.99860409]), array([0.        , 0.99852335]), array([1.        , 0.99833211]), array([1.        , 0.99824536]), array([1.        , 0.99808465]), array([0.        , 0.99804739]), array([1.        , 0.99801567]), array([1.        , 0.99791702]), array([0.        , 0.99791162]), array([0.        , 0.99783452]), array([1.        , 0.99780434]), array([0.        , 0.99776208]), array([1.        , 0.99766813]), array([1.       , 0.9974954]), array([1.        , 0.99744618]), array([0.        , 0.99742409]), array([1.        , 0.99725215]), array([1.     , 0.99725]), array([1.        , 0.99717968]), array([1.        , 0.99716674]), array([0.       , 0.9970899]), array([0.        , 0.99706803]), array([1.        , 0.99700766]), array([1.        , 0.99699805]), array([1.        , 0.99667281]), array([1.        , 0.99667142]), array([1.        , 0.99658234]), array([1.        , 0.99654441]), array([1.        , 0.99634731]), array([1.        , 0.99624765]), array([1.        , 0.99624663]), array([1.        , 0.99615131]), array([1.        , 0.99612238]), array([1.        , 0.99612176]), array([1.        , 0.99610032]), array([1.        , 0.99608615]), array([1.        , 0.99605218]), array([0.      , 0.995999]), array([0.        , 0.99599112]), array([1.        , 0.99598147]), array([1.        , 0.99585198]), array([1.        , 0.99567881]), array([0.        , 0.99541893]), array([1.        , 0.99484826]), array([1.        , 0.99477616]), array([1.       , 0.9947042]), array([1.        , 0.99441154]), array([0.        , 0.99427871]), array([0.        , 0.99424563]), array([1.       , 0.9942266]), array([1.        , 0.99420222]), array([1.        , 0.99403697]), array([1.        , 0.99399819]), array([1.        , 0.99381742]), array([0.       , 0.9937155]), array([1.       , 0.9937134]), array([0.        , 0.99351127]), array([1.        , 0.99308957]), array([0.        , 0.99240176]), array([0.        , 0.99224006]), array([0.        , 0.99210589]), array([1.        , 0.99209141]), array([0.        , 0.99203377]), array([1.        , 0.99180188]), array([1.        , 0.99177694]), array([0.        , 0.99175942]), array([1.        , 0.99130213]), array([1.        , 0.99115757]), array([1.        , 0.99109843]), array([0.        , 0.99082853]), array([1.        , 0.99077294]), array([1.        , 0.99066348]), array([1.        , 0.99060826]), array([1.        , 0.99060667]), array([1.        , 0.99056682]), array([1.        , 0.99041904]), array([1.        , 0.99028988]), array([1.        , 0.99006488]), array([0.        , 0.98939396]), array([1.        , 0.98923688]), array([1.        , 0.98920862]), array([1.        , 0.98918794]), array([1.        , 0.98911977]), array([0.        , 0.98903825]), array([0.        , 0.98879404]), array([1.        , 0.98869015]), array([0.        , 0.98866177]), array([0.        , 0.98830153]), array([0.        , 0.98682555]), array([1.        , 0.98676305]), array([1.        , 0.98656813]), array([1.        , 0.98650697]), array([1.        , 0.98621152]), array([0.        , 0.98584865]), array([0.       , 0.9856688]), array([1.        , 0.98546586]), array([1.        , 0.98535172]), array([1.        , 0.98525388]), array([0.        , 0.98523225]), array([0.        , 0.98505457]), array([0.        , 0.98501699]), array([1.        , 0.98501259]), array([1.        , 0.98441339]), array([1.        , 0.98430859]), array([0.        , 0.98418574]), array([0.        , 0.98412411]), array([0.        , 0.98389857]), array([1.        , 0.98376126]), array([1.        , 0.98358649]), array([1.        , 0.98345276]), array([1.        , 0.98269581]), array([0.        , 0.98245908]), array([1.        , 0.98242262]), array([1.        , 0.98150295]), array([1.        , 0.98119656]), array([1.        , 0.98108399]), array([1.        , 0.98038414]), array([1.        , 0.98027991]), array([0.        , 0.97914217]), array([1.        , 0.97842234]), array([1.        , 0.97814317]), array([1.        , 0.97762795]), array([1.        , 0.97735195]), array([1.        , 0.97663448]), array([1.        , 0.97600961]), array([0.        , 0.97567866]), array([0.       , 0.9754553]), array([0.        , 0.97530906]), array([1.        , 0.97490912]), array([1.        , 0.97422988]), array([0.        , 0.97350449]), array([1.        , 0.97011105]), array([0.        , 0.96920509]), array([1.        , 0.96770343]), array([0.        , 0.96512907]), array([0.        , 0.96441015]), array([1.        , 0.96208047]), array([0.       , 0.9509196]), array([0.        , 0.94719738]), array([1.        , 0.94526767]), array([1.        , 0.94315843]), array([1.        , 0.94010567]), array([0.        , 0.93958942]), array([1.        , 0.93958942]), array([0.        , 0.93924765]), array([0.        , 0.93815293]), array([0.       , 0.9381078]), array([0.        , 0.93695903]), array([0.        , 0.93546711]), array([0.        , 0.93352117]), array([1.       , 0.9307316]), array([0.        , 0.92790558]), array([1.        , 0.92459906]), array([0.        , 0.92317981]), array([0.        , 0.92134954]), array([0.        , 0.91971456]), array([1.        , 0.91516237]), array([1.        , 0.90502612]), array([0.        , 0.90239518]), array([0.        , 0.90239518]), array([0.        , 0.89934563]), array([1.        , 0.89377506]), array([1.        , 0.88719255]), array([0.        , 0.88556573]), array([1.        , 0.88494042]), array([1.        , 0.88370762]), array([0.        , 0.87983031]), array([0.        , 0.87630667]), array([0.        , 0.87027631]), array([0.        , 0.86998743]), array([1.       , 0.8687567]), array([1.        , 0.86684513]), array([0.       , 0.8659822]), array([1.        , 0.86446496]), array([1.        , 0.86281409]), array([1.        , 0.86190433]), array([1.        , 0.86177414]), array([0.        , 0.86090416]), array([1.        , 0.86035036]), array([0.        , 0.84705368]), array([0.        , 0.83921471]), array([1.        , 0.83819999]), array([0.        , 0.83097587]), array([0.        , 0.83076698]), array([1.        , 0.82172023]), array([0.        , 0.82168063]), array([0.        , 0.81531848]), array([1.       , 0.8125211]), array([0.       , 0.8090254]), array([0.        , 0.80584828]), array([0.       , 0.8027344]), array([1.        , 0.80099679]), array([0.        , 0.80065821]), array([0.        , 0.79733722]), array([0.        , 0.79417095]), array([0.        , 0.78331483]), array([0.       , 0.7829828]), array([0.        , 0.77861606]), array([0.        , 0.77366222]), array([1.        , 0.77209409]), array([0.        , 0.77071362]), array([1.        , 0.76926664]), array([0.        , 0.76900806]), array([0.        , 0.76700054]), array([0.        , 0.76046796]), array([0.       , 0.7590212]), array([0.        , 0.75606289]), array([0.        , 0.74072281]), array([0.        , 0.73988256]), array([1.        , 0.73987653]), array([0.        , 0.72914175]), array([1.        , 0.72718544]), array([0.        , 0.72674524]), array([0.        , 0.72443119]), array([0.        , 0.72120827]), array([0.        , 0.71845008]), array([1.        , 0.71714336]), array([0.       , 0.7169475]), array([0.        , 0.71370865]), array([0.        , 0.71207794]), array([1.        , 0.70742114]), array([1.        , 0.70685442]), array([1.        , 0.70401957]), array([1.        , 0.70310177]), array([0.        , 0.69571477]), array([1.        , 0.69419065]), array([1.        , 0.69353668]), array([0.        , 0.68883452]), array([0.        , 0.68814848]), array([0.        , 0.68723076]), array([1.        , 0.68669329]), array([1.        , 0.68398034]), array([0.        , 0.68320661]), array([0.        , 0.68176671]), array([0.        , 0.68086466]), array([1.        , 0.67702806]), array([0.      , 0.675246]), array([1.        , 0.67516948]), array([0.        , 0.67152381]), array([0.       , 0.6691017]), array([1.        , 0.66782103]), array([1.        , 0.66344995]), array([0.        , 0.66159489]), array([0.        , 0.65940754]), array([1.        , 0.65448801]), array([0.        , 0.65385559]), array([0.        , 0.65334428]), array([0.        , 0.64519892]), array([1.        , 0.64459968]), array([1.        , 0.63496392]), array([1.        , 0.63402121]), array([1.        , 0.63087541]), array([1.        , 0.62964555]), array([1.        , 0.62561101]), array([0.        , 0.62274772]), array([1.        , 0.61386576]), array([0.        , 0.61305429]), array([0.        , 0.61272652]), array([0.        , 0.61167339]), array([1.        , 0.60733306]), array([1.        , 0.60631605]), array([1.        , 0.60190511]), array([0.        , 0.59825392]), array([1.        , 0.59812337]), array([1.       , 0.5980103]), array([1.        , 0.59774581]), array([1.        , 0.59706202]), array([0.        , 0.59652215]), array([0.        , 0.59536445]), array([0.        , 0.59465804]), array([0.        , 0.59333943]), array([0.        , 0.59172402]), array([0.        , 0.58812099]), array([0.        , 0.58708576]), array([0.        , 0.58461703]), array([0.        , 0.58122437]), array([1.       , 0.5807491]), array([0.        , 0.57901405]), array([1.        , 0.57774784]), array([1.        , 0.57722138]), array([0.        , 0.57595503]), array([0.        , 0.57418922]), array([0.       , 0.5732157]), array([1.        , 0.57170505]), array([0.        , 0.57088864]), array([0.        , 0.56471282]), array([0.        , 0.56348237]), array([0.        , 0.56107919]), array([0.        , 0.56090347]), array([1.        , 0.56061758]), array([0.        , 0.55883082]), array([1.        , 0.55831059]), array([0.        , 0.55754143]), array([1.        , 0.55426651]), array([0.        , 0.55003019]), array([1.        , 0.54957395]), array([0.        , 0.54842058]), array([0.        , 0.54804858]), array([0.        , 0.54774172]), array([1.        , 0.54304184]), array([0.       , 0.5417545]), array([1.        , 0.54127371]), array([1.        , 0.53736913]), array([0.        , 0.53660792]), array([0.        , 0.53608535]), array([0.        , 0.53449576]), array([0.        , 0.53327489]), array([0.        , 0.53153361]), array([0.        , 0.53112919]), array([1.        , 0.52761851]), array([1.        , 0.52632067]), array([0.        , 0.52445055]), array([1.        , 0.52222062]), array([0.        , 0.52006274]), array([0.        , 0.52002499]), array([0.        , 0.51830561]), array([0.        , 0.51806042]), array([1.        , 0.51799364]), array([0.        , 0.51767684]), array([1.        , 0.51708041]), array([1.        , 0.51433566]), array([0.        , 0.51313437]), array([0.        , 0.51287108]), array([0.        , 0.51150806]), array([1.        , 0.51073342]), array([1.        , 0.50944321]), array([0.        , 0.50934577]), array([0.        , 0.50898573]), array([0.        , 0.50841307]), array([0.        , 0.50381178]), array([0.       , 0.5032896]), array([0.        , 0.50275458]), array([0.        , 0.50233181]), array([0.        , 0.49581933]), array([0.        , 0.49505007]), array([0.        , 0.49492435]), array([0.        , 0.49276491]), array([0.        , 0.49110454]), array([0.        , 0.48635411]), array([0.       , 0.4857285]), array([0.        , 0.48081591]), array([0.        , 0.46865841]), array([0.        , 0.45813151]), array([0.        , 0.45741731]), array([0.        , 0.45483425]), array([0.        , 0.45099204]), array([0.        , 0.44875049]), array([0.        , 0.44575203]), array([0.        , 0.44396721]), array([0.        , 0.43879745]), array([0.        , 0.43234141]), array([0.        , 0.42810622]), array([0.        , 0.42073552]), array([0.        , 0.41944546]), array([0.        , 0.40720476]), array([0.        , 0.40423033]), array([0.        , 0.40182651]), array([0.        , 0.40113203]), array([0.        , 0.39769745]), array([0.        , 0.38964024]), array([0.        , 0.38942301]), array([0.        , 0.38451229]), array([0.        , 0.37942542]), array([0.        , 0.37508705]), array([0.        , 0.36528778]), array([0.        , 0.36415418]), array([0.        , 0.35324665]), array([0.       , 0.3456943]), array([0.        , 0.34341576]), array([0.        , 0.33824763]), array([0.        , 0.32694372]), array([0.        , 0.32569095]), array([0.        , 0.32552577]), array([0.        , 0.32256196]), array([0.        , 0.31777944]), array([0.        , 0.31727567]), array([0.        , 0.31461484]), array([0.        , 0.31438854]), array([0.        , 0.30927319]), array([0.        , 0.30449556]), array([0.        , 0.29974182]), array([0.        , 0.29768441]), array([0.        , 0.28223757]), array([0.        , 0.27152518]), array([0.        , 0.26918078]), array([0.        , 0.26728502]), array([0.        , 0.26356569]), array([0.        , 0.26162194]), array([0.        , 0.26012988]), array([0.        , 0.25907783]), array([0.        , 0.25880629]), array([0.        , 0.25603796]), array([0.        , 0.25524209]), array([0.        , 0.25422499]), array([0.        , 0.24869358]), array([0.        , 0.24790405]), array([0.        , 0.24733299]), array([0.        , 0.24259004]), array([0.        , 0.23976305]), array([0.        , 0.23478599]), array([0.       , 0.2334197]), array([0.        , 0.22819524]), array([0.        , 0.22729326]), array([0.        , 0.22705412]), array([0.        , 0.22087964]), array([0.        , 0.21972305]), array([0.        , 0.21836294]), array([0.        , 0.21453629]), array([0.       , 0.2137727]), array([0.        , 0.20970885]), array([0.        , 0.20540151]), array([0.        , 0.19713491]), array([0.        , 0.19644875]), array([0.        , 0.19157952]), array([0.       , 0.1913155]), array([0.        , 0.19127597]), array([0.        , 0.18504126]), array([0.        , 0.18488681]), array([0.        , 0.17539432]), array([0.        , 0.16994021]), array([0.        , 0.16930164]), array([0.        , 0.16817521]), array([0.        , 0.16522245]), array([0.        , 0.16298256]), array([0.        , 0.16292494]), array([0.        , 0.15614892]), array([0.        , 0.15200781]), array([0.        , 0.14685073]), array([0.        , 0.14360278]), array([0.        , 0.13871026]), array([0.        , 0.13400017]), array([0.        , 0.12347403]), array([0.        , 0.12306575]), array([0.        , 0.11926509]), array([0.        , 0.11908926]), array([0.        , 0.11586046]), array([0.        , 0.10914706]), array([0.        , 0.10863047]), array([0.        , 0.10738378]), array([0.        , 0.10654863]), array([0.        , 0.10614804]), array([0.        , 0.10557959]), array([0.       , 0.1053944]), array([0.        , 0.10307634]), array([0.        , 0.09947516]), array([0.        , 0.09890233]), array([0.        , 0.09624729]), array([0.        , 0.09617204]), array([0.        , 0.09598656]), array([0.       , 0.0940983]), array([0.        , 0.08990894]), array([0.        , 0.08935654]), array([0.        , 0.08720422]), array([0.        , 0.08630618]), array([0.        , 0.08484365]), array([0.        , 0.07942823]), array([0.        , 0.07743432]), array([0.        , 0.07315962]), array([0.        , 0.06945306]), array([0.        , 0.06866598]), array([0.        , 0.06801519]), array([0.        , 0.06792484]), array([0.        , 0.06673553]), array([0.        , 0.06260858]), array([0.        , 0.05691614]), array([0.       , 0.0565045]), array([0.        , 0.05593408]), array([0.        , 0.05504255]), array([0.        , 0.05410994]), array([0.        , 0.05404356]), array([0.        , 0.05229954]), array([0.        , 0.05070125]), array([0.        , 0.04884772]), array([0.        , 0.04862724]), array([0.        , 0.04829151]), array([0.        , 0.04815888]), array([0.        , 0.04428513]), array([0.        , 0.04332964]), array([0.        , 0.04197927]), array([0.        , 0.03804154]), array([0.        , 0.03785532]), array([0.        , 0.03690705]), array([0.        , 0.03665708]), array([0.        , 0.03586357]), array([0.        , 0.03257845]), array([0.        , 0.03207823]), array([0.        , 0.03172354]), array([0.        , 0.03124607]), array([0.        , 0.02908562]), array([0.        , 0.02829804]), array([0.        , 0.02783588]), array([0.        , 0.02739809]), array([0.        , 0.02677429]), array([0.        , 0.02620552]), array([0.        , 0.02585646]), array([0.       , 0.0239065]), array([0.        , 0.02271661]), array([0.        , 0.02250805]), array([0.        , 0.02249755]), array([0.        , 0.02119302]), array([0.       , 0.0211315]), array([0.        , 0.02088988]), array([0.        , 0.02019949]), array([0.        , 0.01993459]), array([0.        , 0.01936111]), array([0.        , 0.01752082]), array([0.        , 0.01716932]), array([0.        , 0.01708487]), array([0.       , 0.0170561]), array([0.        , 0.01699645]), array([0.        , 0.01641213]), array([0.        , 0.01636465]), array([0.        , 0.01623486]), array([0.        , 0.01617808]), array([0.        , 0.01617194]), array([0.       , 0.0160223]), array([0.        , 0.01579045]), array([0.        , 0.01568231]), array([0.        , 0.01534445]), array([0.        , 0.01526942]), array([0.        , 0.01515213]), array([0.        , 0.01500344]), array([0.        , 0.01499141]), array([0.        , 0.01455183]), array([0.        , 0.01389395]), array([0.       , 0.0138017]), array([0.       , 0.0136048]), array([0.        , 0.01350405]), array([0.        , 0.01328089]), array([0.        , 0.01321668]), array([0.        , 0.01292028]), array([0.        , 0.01291603]), array([0.       , 0.0128102]), array([0.        , 0.01280412]), array([0.        , 0.01270524]), array([0.        , 0.01255686]), array([0.        , 0.01253534]), array([0.        , 0.01241338]), array([0.       , 0.0123221]), array([0.        , 0.01214444]), array([0.       , 0.0121425]), array([0.        , 0.01166242]), array([0.        , 0.01146604]), array([0.        , 0.01130561]), array([0.        , 0.01128181]), array([0.        , 0.01098021]), array([0.       , 0.0105905]), array([0.       , 0.0104338]), array([0.        , 0.01022096]), array([0.        , 0.01017057]), array([0.        , 0.01002693]), array([0.        , 0.01001557]), array([0.        , 0.00961397]), array([0.        , 0.00961188]), array([0.        , 0.00952145]), array([0.        , 0.00951145]), array([0.        , 0.00946874]), array([0.        , 0.00933508]), array([0.        , 0.00926651]), array([0.        , 0.00923686]), array([0.        , 0.00899747]), array([0.        , 0.00887367]), array([0.        , 0.00882864]), array([0.        , 0.00863197]), array([0.        , 0.00851308]), array([0.        , 0.00847817]), array([0.        , 0.00839492]), array([0.        , 0.00818914]), array([0.        , 0.00817781]), array([0.        , 0.00809529]), array([0.        , 0.00801009]), array([0.        , 0.00789503]), array([0.        , 0.00785454]), array([0.        , 0.00778898]), array([0.        , 0.00778106]), array([0.        , 0.00761874]), array([0.        , 0.00752423]), array([0.        , 0.00739557]), array([0.        , 0.00739163]), array([0.        , 0.00724249]), array([0.        , 0.00700817]), array([0.        , 0.00699879]), array([0.        , 0.00686424]), array([0.        , 0.00679721]), array([0.        , 0.00663974]), array([0.        , 0.00655405]), array([0.        , 0.00649605]), array([0.        , 0.00643622]), array([0.        , 0.00632709]), array([0.        , 0.00623644]), array([0.        , 0.00615431]), array([0.        , 0.00608243]), array([0.        , 0.00591058]), array([0.        , 0.00586712]), array([0.        , 0.00577859]), array([0.        , 0.00568176]), array([0.        , 0.00557628]), array([0.        , 0.00555743]), array([0.        , 0.00551976]), array([0.        , 0.00542163]), array([0.        , 0.00541027]), array([0.        , 0.00538468]), array([0.        , 0.00534934]), array([0.        , 0.00519912]), array([0.        , 0.00516931]), array([0.        , 0.00507152]), array([0.        , 0.00503687]), array([0.      , 0.005018]), array([0.        , 0.00500209]), array([0.       , 0.0049957]), array([0.        , 0.00485537]), array([0.        , 0.00478465]), array([0.        , 0.00474302]), array([0.        , 0.00472437]), array([0.        , 0.00468522]), array([0.        , 0.00460966]), array([0.        , 0.00459285]), array([0.        , 0.00454233]), array([0.        , 0.00453629]), array([0.        , 0.00446539]), array([0.        , 0.00444756]), array([0.        , 0.00431087]), array([0.        , 0.00428387]), array([0.        , 0.00420512]), array([0.      , 0.004091]), array([0.        , 0.00404244]), array([0.        , 0.00404218]), array([0.       , 0.0040298]), array([0.        , 0.00399706]), array([0.        , 0.00395166]), array([0.        , 0.00393854]), array([0.        , 0.00393713]), array([0.        , 0.00390395]), array([0.        , 0.00373803]), array([0.        , 0.00373746]), array([0.        , 0.00337099]), array([0.        , 0.00327483]), array([0.        , 0.00324452]), array([0.        , 0.00309355]), array([0.        , 0.00306161]), array([0.        , 0.00293207]), array([0.       , 0.0029197]), array([0.        , 0.00275012]), array([0.        , 0.00271077]), array([0.       , 0.0026446]), array([0.        , 0.00259369]), array([0.        , 0.00257709]), array([0.        , 0.00243144]), array([0.        , 0.00242858]), array([0.        , 0.00240958]), array([0.        , 0.00229833]), array([0.        , 0.00228105]), array([0.       , 0.0022798]), array([0.        , 0.00227429]), array([0.        , 0.00222216]), array([0.        , 0.00219464]), array([0.        , 0.00217825]), array([0.        , 0.00207485]), array([0.        , 0.00193406]), array([0.        , 0.00185441]), array([0.        , 0.00184207]), array([0.        , 0.00166901]), array([0.        , 0.00165452]), array([0.       , 0.0016034]), array([0.        , 0.00140387]), array([0.        , 0.00123249]), array([0.        , 0.00113476]), array([0.        , 0.00101482]), array([0.        , 0.00047396])]\n",
      "[array([0.        , 0.77777778]), array([0.        , 0.77777778]), array([1.        , 0.77777778]), array([1.        , 0.77777778]), array([1.        , 0.77777778]), array([1.        , 0.77777778]), array([1.        , 0.77777778]), array([1.        , 0.77777778]), array([1.        , 0.77777778]), array([1.        , 0.77777778]), array([0.        , 0.66666667]), array([0.        , 0.66666667]), array([1.        , 0.66666667]), array([0.        , 0.55555556]), array([0.        , 0.55555556]), array([0.        , 0.55555556]), array([0.        , 0.55555556]), array([0.        , 0.55555556]), array([0.        , 0.55555556]), array([0.        , 0.55555556]), array([0.        , 0.55555556]), array([0.        , 0.55555556]), array([0.        , 0.55555556]), array([0.        , 0.55555556]), array([0.        , 0.55555556]), array([0.        , 0.55555556]), array([0.        , 0.55555556]), array([0.        , 0.55555556]), array([0.        , 0.55555556]), array([0.        , 0.55555556]), array([0.        , 0.55555556]), array([1.        , 0.55555556]), array([1.        , 0.55555556]), array([1.        , 0.55555556]), array([1.        , 0.55555556]), array([1.        , 0.55555556]), array([1.        , 0.55555556]), array([1.        , 0.55555556]), array([0.        , 0.44444444]), array([0.        , 0.33333333]), array([0.        , 0.33333333]), array([0.        , 0.33333333]), array([0.        , 0.33333333]), array([0.        , 0.22222222]), array([0.        , 0.22222222]), array([0.        , 0.22222222]), array([0.        , 0.22222222]), array([0.        , 0.22222222]), array([0.        , 0.22222222]), array([0.        , 0.22222222]), array([0.        , 0.22222222]), array([0.        , 0.22222222]), array([0.        , 0.22222222]), array([0.        , 0.22222222]), array([0.        , 0.11111111]), array([0.        , 0.11111111]), array([0.        , 0.11111111]), array([0.        , 0.11111111]), array([0.        , 0.11111111]), array([0.        , 0.11111111]), array([0.        , 0.11111111]), array([0.        , 0.11111111]), array([0.        , 0.11111111]), array([0.        , 0.11111111]), array([0.        , 0.11111111]), array([0.        , 0.11111111]), array([0.        , 0.11111111]), array([0.        , 0.11111111]), array([0., 0.]), array([0., 0.]), array([0., 0.]), array([0., 0.]), array([0., 0.]), array([0., 0.]), array([0., 0.]), array([0., 0.]), array([0., 0.]), array([0., 0.]), array([0., 0.]), array([0., 0.]), array([0., 0.]), array([0., 0.])]\n",
      "[array([0.        , 0.90909091]), array([1.        , 0.90909091]), array([1.        , 0.90909091]), array([1.        , 0.90909091]), array([1.        , 0.90909091]), array([1.        , 0.90909091]), array([1.        , 0.90909091]), array([1.        , 0.90909091]), array([0.        , 0.81818182]), array([0.        , 0.81818182]), array([0.        , 0.81818182]), array([0.        , 0.81818182]), array([0.        , 0.81818182]), array([1.        , 0.81818182]), array([1.        , 0.81818182]), array([1.        , 0.81818182]), array([1.        , 0.81818182]), array([1.        , 0.81818182]), array([1.        , 0.81818182]), array([1.        , 0.81818182]), array([1.        , 0.81818182]), array([1.        , 0.81818182]), array([1.        , 0.81818182]), array([0.        , 0.72727273]), array([0.        , 0.72727273]), array([0.        , 0.72727273]), array([0.        , 0.72727273]), array([0.        , 0.72727273]), array([0.        , 0.72727273]), array([0.        , 0.72727273]), array([1.        , 0.72727273]), array([1.        , 0.72727273]), array([1.        , 0.72727273]), array([1.        , 0.72727273]), array([1.        , 0.72727273]), array([1.        , 0.72727273]), array([1.        , 0.72727273]), array([1.        , 0.72727273]), array([1.        , 0.72727273]), array([1.        , 0.72727273]), array([1.        , 0.72727273]), array([1.        , 0.72727273]), array([1.        , 0.72727273]), array([1.        , 0.72727273]), array([1.        , 0.72727273]), array([1.        , 0.72727273]), array([1.        , 0.72727273]), array([1.        , 0.72727273]), array([1.        , 0.72727273]), array([1.        , 0.72727273]), array([1.        , 0.72727273]), array([1.        , 0.72727273]), array([1.        , 0.72727273]), array([1.        , 0.72727273]), array([1.        , 0.72727273]), array([1.        , 0.72727273]), array([1.        , 0.72727273]), array([1.        , 0.72727273]), array([1.        , 0.72727273]), array([0.        , 0.63636364]), array([0.        , 0.63636364]), array([0.        , 0.63636364]), array([0.        , 0.63636364]), array([0.        , 0.63636364]), array([0.        , 0.63636364]), array([0.        , 0.63636364]), array([0.        , 0.63636364]), array([0.        , 0.63636364]), array([0.        , 0.63636364]), array([0.        , 0.63636364]), array([0.        , 0.63636364]), array([0.        , 0.63636364]), array([0.        , 0.63636364]), array([1.        , 0.63636364]), array([1.        , 0.63636364]), array([1.        , 0.63636364]), array([1.        , 0.63636364]), array([1.        , 0.63636364]), array([1.        , 0.63636364]), array([1.        , 0.63636364]), array([1.        , 0.63636364]), array([1.        , 0.63636364]), array([1.        , 0.63636364]), array([1.        , 0.63636364]), array([1.        , 0.63636364]), array([1.        , 0.63636364]), array([1.        , 0.63636364]), array([1.        , 0.63636364]), array([1.        , 0.63636364]), array([1.        , 0.63636364]), array([1.        , 0.63636364]), array([1.        , 0.63636364]), array([1.        , 0.63636364]), array([1.        , 0.63636364]), array([1.        , 0.63636364]), array([1.        , 0.63636364]), array([1.        , 0.63636364]), array([1.        , 0.63636364]), array([1.        , 0.63636364]), array([1.        , 0.63636364]), array([1.        , 0.63636364]), array([0.        , 0.54545455]), array([0.        , 0.54545455]), array([0.        , 0.54545455]), array([0.        , 0.54545455]), array([0.        , 0.54545455]), array([0.        , 0.54545455]), array([0.        , 0.54545455]), array([0.        , 0.54545455]), array([0.        , 0.54545455]), array([0.        , 0.54545455]), array([0.        , 0.54545455]), array([0.        , 0.54545455]), array([0.        , 0.54545455]), array([0.        , 0.54545455]), array([0.        , 0.54545455]), array([0.        , 0.54545455]), array([0.        , 0.54545455]), array([0.        , 0.54545455]), array([0.        , 0.54545455]), array([0.        , 0.54545455]), array([0.        , 0.54545455]), array([0.        , 0.54545455]), array([0.        , 0.54545455]), array([0.        , 0.54545455]), array([0.        , 0.54545455]), array([0.        , 0.54545455]), array([0.        , 0.54545455]), array([0.        , 0.54545455]), array([0.        , 0.54545455]), array([0.        , 0.54545455]), array([0.        , 0.54545455]), array([0.        , 0.54545455]), array([0.        , 0.54545455]), array([0.        , 0.54545455]), array([0.        , 0.54545455]), array([0.        , 0.54545455]), array([0.        , 0.54545455]), array([0.        , 0.54545455]), array([0.        , 0.54545455]), array([0.        , 0.54545455]), array([0.        , 0.54545455]), array([0.        , 0.54545455]), array([0.        , 0.54545455]), array([0.        , 0.54545455]), array([1.        , 0.54545455]), array([1.        , 0.54545455]), array([1.        , 0.54545455]), array([1.        , 0.54545455]), array([1.        , 0.54545455]), array([1.        , 0.54545455]), array([1.        , 0.54545455]), array([1.        , 0.54545455]), array([1.        , 0.54545455]), array([1.        , 0.54545455]), array([1.        , 0.54545455]), array([1.        , 0.54545455]), array([1.        , 0.54545455]), array([1.        , 0.54545455]), array([1.        , 0.54545455]), array([1.        , 0.54545455]), array([1.        , 0.54545455]), array([1.        , 0.54545455]), array([1.        , 0.54545455]), array([1.        , 0.54545455]), array([1.        , 0.54545455]), array([1.        , 0.54545455]), array([1.        , 0.54545455]), array([1.        , 0.54545455]), array([1.        , 0.54545455]), array([1.        , 0.54545455]), array([1.        , 0.54545455]), array([1.        , 0.54545455]), array([1.        , 0.54545455]), array([1.        , 0.54545455]), array([1.        , 0.54545455]), array([1.        , 0.54545455]), array([1.        , 0.54545455]), array([1.        , 0.54545455]), array([1.        , 0.54545455]), array([1.        , 0.54545455]), array([1.        , 0.54545455]), array([1.        , 0.54545455]), array([1.        , 0.54545455]), array([1.        , 0.54545455]), array([1.        , 0.54545455]), array([1.        , 0.54545455]), array([1.        , 0.54545455]), array([1.        , 0.54545455]), array([1.        , 0.54545455]), array([0.        , 0.45454545]), array([0.        , 0.45454545]), array([0.        , 0.45454545]), array([0.        , 0.45454545]), array([0.        , 0.45454545]), array([0.        , 0.45454545]), array([0.        , 0.45454545]), array([0.        , 0.45454545]), array([0.        , 0.45454545]), array([0.        , 0.45454545]), array([0.        , 0.45454545]), array([0.        , 0.45454545]), array([0.        , 0.45454545]), array([0.        , 0.36363636]), array([0.        , 0.36363636]), array([0.        , 0.36363636]), array([0.        , 0.36363636]), array([0.        , 0.36363636]), array([0.        , 0.36363636]), array([0.        , 0.36363636]), array([0.        , 0.36363636]), array([0.        , 0.36363636]), array([0.        , 0.36363636]), array([0.        , 0.36363636]), array([0.        , 0.36363636]), array([0.        , 0.36363636]), array([0.        , 0.36363636]), array([0.        , 0.27272727]), array([0.        , 0.27272727]), array([0.        , 0.27272727]), array([0.        , 0.27272727]), array([0.        , 0.27272727]), array([0.        , 0.27272727]), array([0.        , 0.27272727]), array([0.        , 0.27272727]), array([0.        , 0.27272727]), array([0.        , 0.27272727]), array([0.        , 0.27272727]), array([0.        , 0.18181818]), array([0.        , 0.18181818]), array([0.        , 0.18181818]), array([0.        , 0.18181818]), array([0.        , 0.18181818]), array([0.        , 0.18181818]), array([0.        , 0.18181818]), array([0.        , 0.18181818]), array([0.        , 0.18181818]), array([0.        , 0.18181818]), array([0.        , 0.18181818]), array([0.        , 0.09090909]), array([0.        , 0.09090909]), array([0.        , 0.09090909]), array([0.        , 0.09090909]), array([0.        , 0.09090909]), array([0.        , 0.09090909]), array([0.        , 0.09090909]), array([0.        , 0.09090909]), array([0.        , 0.09090909]), array([0.        , 0.09090909]), array([0.        , 0.09090909]), array([0.        , 0.09090909]), array([0.        , 0.09090909]), array([0.        , 0.09090909]), array([0.        , 0.09090909]), array([0.        , 0.09090909]), array([0.        , 0.09090909]), array([0.        , 0.09090909]), array([0.        , 0.09090909]), array([0.        , 0.09090909]), array([0.        , 0.09090909]), array([0.        , 0.09090909]), array([0.        , 0.09090909]), array([0.        , 0.09090909]), array([0.        , 0.09090909]), array([0.        , 0.09090909]), array([0.        , 0.09090909]), array([0.        , 0.09090909]), array([0.        , 0.09090909]), array([0.        , 0.09090909]), array([0.        , 0.09090909]), array([0.        , 0.09090909]), array([0.        , 0.09090909]), array([0.        , 0.09090909]), array([0.        , 0.09090909]), array([0., 0.]), array([0., 0.]), array([0., 0.]), array([0., 0.]), array([0., 0.]), array([0., 0.]), array([0., 0.]), array([0., 0.]), array([0., 0.]), array([0., 0.]), array([0., 0.]), array([0., 0.]), array([0., 0.]), array([0., 0.]), array([0., 0.]), array([0., 0.]), array([0., 0.]), array([0., 0.]), array([0., 0.]), array([0., 0.]), array([0., 0.]), array([0., 0.]), array([0., 0.]), array([0., 0.]), array([0., 0.]), array([0., 0.]), array([0., 0.]), array([0., 0.]), array([0., 0.]), array([0., 0.]), array([0., 0.]), array([0., 0.]), array([0., 0.]), array([0., 0.]), array([0., 0.]), array([0., 0.]), array([0., 0.]), array([0., 0.]), array([0., 0.]), array([0., 0.]), array([0., 0.]), array([0., 0.]), array([0., 0.]), array([0., 0.]), array([0., 0.]), array([0., 0.]), array([0., 0.]), array([0., 0.]), array([0., 0.]), array([0., 0.]), array([0., 0.]), array([0., 0.]), array([0., 0.]), array([0., 0.]), array([0., 0.]), array([0., 0.]), array([0., 0.]), array([0., 0.])]\n"
     ]
    }
   ],
   "source": [
    "#tallys[modelName][0=firstDataSet,1=AdditionalDataSet][trueLabel][predictedLabel] = [list of P(y_{model}=1)]\n",
    "#array to study\n",
    "s = {key:[None,None] for key in tallys.keys()}\n",
    "#total true positives\n",
    "totalPos = [None,None]\n",
    "for key in tallys.keys():\n",
    "    for i in range(2):\n",
    "        #take true positives out, most important\n",
    "        truePositives = [probability for probability in tallys[key][i][1][1]]\n",
    "        #take count of totals while convenient\n",
    "        totalPos[i] = len(truePositives)\n",
    "        #take false positives,etc out\n",
    "        others = np.array([[fp,tn,fn] for fp,tn,fn in zip(tallys[key][i][0][1],tallys[key][i][0][0],tallys[key][i][1][0])]).flatten()\n",
    "        #add true positives to S\n",
    "        truePositives = [ (1,prob) for prob in truePositives ]\n",
    "        others = [ (0,prob) for prob in others ]\n",
    "        #get final array\n",
    "        s[key][i] = sorted(np.concatenate((others,truePositives)),key=lambda key_value: key_value[1],reverse=True)"
   ]
  },
  {
   "cell_type": "markdown",
   "metadata": {},
   "source": [
    "### Looking at feature importance\n",
    "\n",
    "Now, take a look at the most impactful factors in each of these models.\n",
    "\n"
   ]
  },
  {
   "cell_type": "code",
   "execution_count": null,
   "metadata": {},
   "outputs": [],
   "source": []
  }
 ],
 "metadata": {
  "kernelspec": {
   "display_name": "Python 3",
   "language": "python",
   "name": "python3"
  },
  "language_info": {
   "codemirror_mode": {
    "name": "ipython",
    "version": 3
   },
   "file_extension": ".py",
   "mimetype": "text/x-python",
   "name": "python",
   "nbconvert_exporter": "python",
   "pygments_lexer": "ipython3",
   "version": "3.7.9"
  }
 },
 "nbformat": 4,
 "nbformat_minor": 4
}
