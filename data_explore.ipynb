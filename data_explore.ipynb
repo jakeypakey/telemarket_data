{
 "cells": [
  {
   "cell_type": "markdown",
   "metadata": {},
   "source": [
    "### Examining Telemarketing Data\n",
    " \n",
    "Please see <code>db.py</code> and <code>processing.py</code> for the implentation of database and processing related utilities used in this notebook."
   ]
  },
  {
   "cell_type": "code",
   "execution_count": 1,
   "metadata": {},
   "outputs": [],
   "source": [
    "from db import Database\n",
    "import processing as proc\n",
    "from pathlib import Path\n",
    "import time\n",
    "import matplotlib.pyplot as plt\n",
    "import matplotlib\n",
    "import numpy as np\n",
    "import pandas as pd\n",
    "from sklearn.ensemble import RandomForestClassifier\n",
    "from sklearn.neural_network import MLPClassifier\n",
    "from sklearn.inspection import permutation_importance\n",
    "from sklearn.neighbors import KNeighborsClassifier\n",
    "import sklearn\n",
    "from IPython.display import display, HTML\n",
    "\n",
    "logger = proc.setupLog()\n",
    "figureCount = 0\n",
    "records = Database('bank_data')"
   ]
  },
  {
   "cell_type": "markdown",
   "metadata": {},
   "source": [
    "\n",
    "### Taking a look\n",
    "We begin by checking the frequency of the target, <code>y</code>, which denotes whether or not a purchase was made.\n",
    "We can see that our data is imbalaced, with about nine examples with <code>y=0</code> to each one <code>y=1</code>.\n",
    "\n",
    "There are two seperate datasets here, both have the same target, with one having a few extra features, they are primarily economic indicators at the time of contact.  The datasets were taken from UCI's machine learning repository linked [here](http://archive.ics.uci.edu/ml/datasets/Bank+Marketing).\n",
    "\n",
    "\n"
   ]
  },
  {
   "cell_type": "code",
   "execution_count": 2,
   "metadata": {},
   "outputs": [
    {
     "data": {
      "image/png": "[encoded data removed]",
      "text/plain": [
       "<Figure size 432x288 with 1 Axes>"
      ]
     },
     "metadata": {
      "needs_background": "light"
     },
     "output_type": "display_data"
    },
    {
     "name": "stdout",
     "output_type": "stream",
     "text": [
      "In the abbreviated dataset a purchase occured 11.70% of the time.\n",
      "In the full dataset a purchase occured 11.27% of the time.\n",
      "In the combined dataset a purchase occured 11.49% of the time.\n"
     ]
    }
   ],
   "source": [
    "numPeople = records.getSize('people')\n",
    "numPeopleA = records.getSize('people_additional')\n",
    "results = records.getEntriesByField('people',0,numPeople,'y')\n",
    "resultsA = records.getEntriesByField('people_additional',0,numPeopleA,'y')\n",
    "##tally up number of Y/N s\n",
    "peopleBuy = 0\n",
    "for char in results:\n",
    "    if char == 'Y': peopleBuy+=1\n",
    "peopleBuyA = 0\n",
    "for char in resultsA:\n",
    "    if char == 'Y': peopleBuyA+=1\n",
    "\n",
    "buys = (peopleBuy,peopleBuyA,peopleBuy+peopleBuyA)\n",
    "notBuys = (numPeople-buys[0],numPeopleA-buys[1],numPeople+numPeopleA-buys[2])\n",
    "\n",
    "##Plot\n",
    "ind = [ i for i in range(len(buys)) ]\n",
    "width = .4\n",
    "plt.figure(figureCount)\n",
    "figureCount+=1\n",
    "plt.bar(ind,buys,width,label= 'Purchase')\n",
    "plt.bar([item+width for item in ind],notBuys,width,label='No Purchase')\n",
    "plt.title('Purchase frequency by dataset')\n",
    "plt.xticks([item+width/2 for item in ind],('abbreviated dataset','full dataset', 'overall'))\n",
    "plt.show()\n",
    "\n",
    "print(\"In the abbreviated dataset a purchase occured {:.2f}% of the time.\".format(\n",
    "     ( float(buys[0])/float(numPeople) )*100 ) )\n",
    "print(\"In the full dataset a purchase occured {:.2f}% of the time.\".format(\n",
    "     ( float(buys[1])/float(numPeopleA) )*100 ) )\n",
    "print(\"In the combined dataset a purchase occured {:.2f}% of the time.\".format(\n",
    "     ( float(buys[2])/float(numPeople+numPeopleA) )*100 ) )"
   ]
  },
  {
   "cell_type": "markdown",
   "metadata": {},
   "source": [
    "### Getting our dataset ready for processing\n",
    "The dataset has been extracted from csv, translated for efficient storage (strings mapped to characters etc.) and loaded into a MySQL database.\n",
    "Below is a few of the fetched SQL entries and human-readable dataframes lines.  For completeness, a single final encoding of the ready-for-work numpy vector is also displayed.\n",
    "*Note: We remove the* <code>duration</code> *field as reccomended in the dataset posting.  See the link above for more information.*\n",
    "\n"
   ]
  },
  {
   "cell_type": "code",
   "execution_count": 3,
   "metadata": {},
   "outputs": [
    {
     "name": "stdout",
     "output_type": "stream",
     "text": [
      "First 5 of the sql entries:\n"
     ]
    },
    {
     "data": {
      "text/plain": [
       "(58, 'M', 'M', 'T', 'N', 2143, 'Y', 'N', '?', 5, 5, 261, 1, -1, 0, '?', 'N')"
      ]
     },
     "metadata": {},
     "output_type": "display_data"
    },
    {
     "data": {
      "text/plain": [
       "(44, 'T', 'S', 'S', 'N', 29, 'Y', 'N', '?', 5, 5, 151, 1, -1, 0, '?', 'N')"
      ]
     },
     "metadata": {},
     "output_type": "display_data"
    },
    {
     "data": {
      "text/plain": [
       "(33, 'E', 'M', 'S', 'N', 2, 'Y', 'Y', '?', 5, 5, 76, 1, -1, 0, '?', 'N')"
      ]
     },
     "metadata": {},
     "output_type": "display_data"
    },
    {
     "data": {
      "text/plain": [
       "(47, 'B', 'M', '?', 'N', 1506, 'Y', 'N', '?', 5, 5, 92, 1, -1, 0, '?', 'N')"
      ]
     },
     "metadata": {},
     "output_type": "display_data"
    },
    {
     "data": {
      "text/plain": [
       "(33, '?', 'S', '?', 'N', 1, 'N', 'N', '?', 5, 5, 198, 1, -1, 0, '?', 'N')"
      ]
     },
     "metadata": {},
     "output_type": "display_data"
    },
    {
     "name": "stdout",
     "output_type": "stream",
     "text": [
      "\n",
      "\n",
      "Head of the dataframe:\n"
     ]
    },
    {
     "data": {
      "text/html": [
       "<div>\n",
       "<style scoped>\n",
       "    .dataframe tbody tr th:only-of-type {\n",
       "        vertical-align: middle;\n",
       "    }\n",
       "\n",
       "    .dataframe tbody tr th {\n",
       "        vertical-align: top;\n",
       "    }\n",
       "\n",
       "    .dataframe thead th {\n",
       "        text-align: right;\n",
       "    }\n",
       "</style>\n",
       "<table border=\"1\" class=\"dataframe\">\n",
       "  <thead>\n",
       "    <tr style=\"text-align: right;\">\n",
       "      <th></th>\n",
       "      <th>age</th>\n",
       "      <th>job</th>\n",
       "      <th>marital</th>\n",
       "      <th>education</th>\n",
       "      <th>isDefault</th>\n",
       "      <th>balance</th>\n",
       "      <th>housing</th>\n",
       "      <th>loan</th>\n",
       "      <th>contact</th>\n",
       "      <th>day</th>\n",
       "      <th>month</th>\n",
       "      <th>duration</th>\n",
       "      <th>campaign</th>\n",
       "      <th>pdays</th>\n",
       "      <th>previous</th>\n",
       "      <th>poutcome</th>\n",
       "      <th>y</th>\n",
       "    </tr>\n",
       "  </thead>\n",
       "  <tbody>\n",
       "    <tr>\n",
       "      <th>0</th>\n",
       "      <td>58</td>\n",
       "      <td>management</td>\n",
       "      <td>married</td>\n",
       "      <td>tertiary</td>\n",
       "      <td>no</td>\n",
       "      <td>2143</td>\n",
       "      <td>yes</td>\n",
       "      <td>no</td>\n",
       "      <td>unknown</td>\n",
       "      <td>5</td>\n",
       "      <td>5</td>\n",
       "      <td>261</td>\n",
       "      <td>1</td>\n",
       "      <td>-1</td>\n",
       "      <td>0</td>\n",
       "      <td>unknown</td>\n",
       "      <td>no</td>\n",
       "    </tr>\n",
       "    <tr>\n",
       "      <th>1</th>\n",
       "      <td>44</td>\n",
       "      <td>technician</td>\n",
       "      <td>single</td>\n",
       "      <td>secondary</td>\n",
       "      <td>no</td>\n",
       "      <td>29</td>\n",
       "      <td>yes</td>\n",
       "      <td>no</td>\n",
       "      <td>unknown</td>\n",
       "      <td>5</td>\n",
       "      <td>5</td>\n",
       "      <td>151</td>\n",
       "      <td>1</td>\n",
       "      <td>-1</td>\n",
       "      <td>0</td>\n",
       "      <td>unknown</td>\n",
       "      <td>no</td>\n",
       "    </tr>\n",
       "    <tr>\n",
       "      <th>2</th>\n",
       "      <td>33</td>\n",
       "      <td>entrepreneur</td>\n",
       "      <td>married</td>\n",
       "      <td>secondary</td>\n",
       "      <td>no</td>\n",
       "      <td>2</td>\n",
       "      <td>yes</td>\n",
       "      <td>yes</td>\n",
       "      <td>unknown</td>\n",
       "      <td>5</td>\n",
       "      <td>5</td>\n",
       "      <td>76</td>\n",
       "      <td>1</td>\n",
       "      <td>-1</td>\n",
       "      <td>0</td>\n",
       "      <td>unknown</td>\n",
       "      <td>no</td>\n",
       "    </tr>\n",
       "    <tr>\n",
       "      <th>3</th>\n",
       "      <td>47</td>\n",
       "      <td>blue-collar</td>\n",
       "      <td>married</td>\n",
       "      <td>unknown</td>\n",
       "      <td>no</td>\n",
       "      <td>1506</td>\n",
       "      <td>yes</td>\n",
       "      <td>no</td>\n",
       "      <td>unknown</td>\n",
       "      <td>5</td>\n",
       "      <td>5</td>\n",
       "      <td>92</td>\n",
       "      <td>1</td>\n",
       "      <td>-1</td>\n",
       "      <td>0</td>\n",
       "      <td>unknown</td>\n",
       "      <td>no</td>\n",
       "    </tr>\n",
       "    <tr>\n",
       "      <th>4</th>\n",
       "      <td>33</td>\n",
       "      <td>unknown</td>\n",
       "      <td>single</td>\n",
       "      <td>unknown</td>\n",
       "      <td>no</td>\n",
       "      <td>1</td>\n",
       "      <td>no</td>\n",
       "      <td>no</td>\n",
       "      <td>unknown</td>\n",
       "      <td>5</td>\n",
       "      <td>5</td>\n",
       "      <td>198</td>\n",
       "      <td>1</td>\n",
       "      <td>-1</td>\n",
       "      <td>0</td>\n",
       "      <td>unknown</td>\n",
       "      <td>no</td>\n",
       "    </tr>\n",
       "  </tbody>\n",
       "</table>\n",
       "</div>"
      ],
      "text/plain": [
       "   age           job  marital  education isDefault  balance housing loan  \\\n",
       "0   58    management  married   tertiary        no     2143     yes   no   \n",
       "1   44    technician   single  secondary        no       29     yes   no   \n",
       "2   33  entrepreneur  married  secondary        no        2     yes  yes   \n",
       "3   47   blue-collar  married    unknown        no     1506     yes   no   \n",
       "4   33       unknown   single    unknown        no        1      no   no   \n",
       "\n",
       "   contact  day  month  duration  campaign  pdays  previous poutcome   y  \n",
       "0  unknown    5      5       261         1     -1         0  unknown  no  \n",
       "1  unknown    5      5       151         1     -1         0  unknown  no  \n",
       "2  unknown    5      5        76         1     -1         0  unknown  no  \n",
       "3  unknown    5      5        92         1     -1         0  unknown  no  \n",
       "4  unknown    5      5       198         1     -1         0  unknown  no  "
      ]
     },
     "metadata": {},
     "output_type": "display_data"
    },
    {
     "name": "stdout",
     "output_type": "stream",
     "text": [
      "\n",
      "\n",
      "Finally, here is a single vector ready for processing:\n"
     ]
    },
    {
     "data": {
      "text/plain": [
       "array([5.800e+01, 1.000e+00, 0.000e+00, 0.000e+00, 0.000e+00, 0.000e+00,\n",
       "       0.000e+00, 0.000e+00, 0.000e+00, 0.000e+00, 0.000e+00, 0.000e+00,\n",
       "       0.000e+00, 1.000e+00, 0.000e+00, 0.000e+00, 0.000e+00, 0.000e+00,\n",
       "       1.000e+00, 0.000e+00, 0.000e+00, 1.000e+00, 0.000e+00, 2.143e+03,\n",
       "       1.000e+00, 0.000e+00, 0.000e+00, 0.000e+00, 1.000e+00, 0.000e+00,\n",
       "       0.000e+00, 0.000e+00, 1.000e+00, 5.000e+00, 5.000e+00, 1.000e+00,\n",
       "       0.000e+00, 0.000e+00, 0.000e+00, 0.000e+00, 0.000e+00, 1.000e+00,\n",
       "       0.000e+00])"
      ]
     },
     "metadata": {},
     "output_type": "display_data"
    }
   ],
   "source": [
    "#get data dictionaries for processing\n",
    "peopleMap, peopleAdditionalMap = records.getMaps()\n",
    "\n",
    "#sql entries\n",
    "line = records.getEntries('people',0,numPeople)\n",
    "\n",
    "print('First 5 of the sql entries:')\n",
    "for i in range(5):\n",
    "    display(line[i])\n",
    "    \n",
    "#translate to human-readable dataframe (similar to original csv)\n",
    "df = proc.getDataFrame(line,peopleMap)\n",
    "print('\\n\\nHead of the dataframe:')\n",
    "display(df.head())\n",
    "\n",
    "#see validate for more details, basically ensures all categories accounted for properly\n",
    "proc.validate(df,peopleMap)\n",
    "vec = proc.getOneHot(df,peopleMap,False)\n",
    "\n",
    "#duration is not known until outcome is known\n",
    "#see dataset documentation for more info\n",
    "vec = vec.drop('duration',axis=1)\n",
    "dataOneHot = vec.to_numpy(dtype=np.float64)\n",
    "\n",
    "print('\\n\\nFinally, here is a single vector ready for processing:')\n",
    "display(dataOneHot[0])\n",
    "\n",
    "\n",
    "#do the same as above for tha additional dataset\n",
    "lineA = records.getEntries('people_additional',0,numPeopleA)\n",
    "dfa = proc.getDataFrame(lineA,peopleAdditionalMap)\n",
    "proc.validate(dfa,peopleAdditionalMap)\n",
    "vecA = proc.getOneHot(dfa,peopleAdditionalMap,False)\n",
    "vecA = vecA.drop('duration',axis=1)\n",
    "dataOneHotA = vecA.to_numpy(dtype=np.float64)\n",
    "\n",
    "#get column labels\n",
    "colTitles = vec.columns\n",
    "colTitlesA = vecA.columns\n",
    "\n",
    "#rand generator\n",
    "randomGenr = np.random.default_rng()\n"
   ]
  },
  {
   "cell_type": "markdown",
   "metadata": {},
   "source": [
    "### Getting organized\n",
    "\n",
    "Here the datasets and models are generated and setup.<br>\n",
    "The data is processed in its raw form, and also after scaling it with \n",
    "\n",
    "[<code>sklearn.preprocessing.StandardScaler</code>](https://scikit-learn.org/stable/modules/generated/sklearn.preprocessing.StandardScaler.html)<br>\n",
    "\n",
    "The followind models are then run on both sets:<br>\n",
    "\n",
    "[<code>sklearn.neighbors.KNeighborsClassifier</code>](https://scikit-learn.org/stable/modules/generated/sklearn.neighbors.KNeighborsClassifier.html)<br>\n",
    "[<code>sklearn.ensemble.RandomForestClassifier</code>](https://scikit-learn.org/stable/modules/generated/sklearn.ensemble.RandomForestClassifier.html)<br>\n",
    "[<code>sklearn.neural_network.MLPClassifier</code>](https://scikit-learn.org/stable/modules/generated/sklearn.neural_network.MLPClassifier.html)<br>"
   ]
  },
  {
   "cell_type": "code",
   "execution_count": 4,
   "metadata": {},
   "outputs": [],
   "source": [
    "numTrees = 1000 #rafo trees\n",
    "maxIter = 500 #for MLP\n",
    "k = 9 #neighbors for knn\n",
    "\n",
    "#initialize models\n",
    "rafo = RandomForestClassifier(n_estimators=numTrees,class_weight='balanced')\n",
    "rafoA = RandomForestClassifier(n_estimators=numTrees,class_weight='balanced')\n",
    "mlp = MLPClassifier(max_iter=maxIter)\n",
    "mlpA = MLPClassifier(max_iter=maxIter)\n",
    "knn = KNeighborsClassifier(k)\n",
    "knnA = KNeighborsClassifier(k)\n",
    "\n",
    "models = { 'RAFO': (rafo,rafoA),#random forest\n",
    "          'MLP' : (mlp,mlpA),   #multi level perceptron\n",
    "          'KNN': (knn,knnA)     #k nearest neighbor\n",
    "         }\n",
    "\n",
    "#initialize models\n",
    "rafoS = RandomForestClassifier(n_estimators=numTrees,class_weight='balanced')\n",
    "rafoAS = RandomForestClassifier(n_estimators=numTrees,class_weight='balanced')\n",
    "mlpS = MLPClassifier(max_iter=maxIter)\n",
    "mlpAS = MLPClassifier(max_iter=maxIter)\n",
    "knnS = KNeighborsClassifier(k)\n",
    "knnAS = KNeighborsClassifier(k)\n",
    "\n",
    "modelsScaled = { 'RAFO': (rafoS,rafoAS),#random forest\n",
    "                 'MLP' : (mlpS,mlpAS),  #multi level perceptron\n",
    "                 'KNN' : (knnS,knnAS)   #k nearest neighbor\n",
    "                } \n"
   ]
  },
  {
   "cell_type": "markdown",
   "metadata": {},
   "source": [
    "### Running the model\n",
    "The models are run and relavent information stored."
   ]
  },
  {
   "cell_type": "code",
   "execution_count": 5,
   "metadata": {},
   "outputs": [
    {
     "name": "stdout",
     "output_type": "stream",
     "text": [
      "trial: 0\n"
     ]
    }
   ],
   "source": [
    "accumulator = []\n",
    "results = {key:dict({ke:None for ke in ['probabilities','predictions']}) for key in models.keys()}\n",
    "resultsScaled = {key:dict({ke:None for ke in ['probabilities','predictions']}) for key in modelsScaled.keys()}\n",
    "totalIterations = 1\n",
    "testLabels = [None for _ in range(totalIterations)]\n",
    "testLabelsA = [None for _ in range(totalIterations)]\n",
    "testFeatures = [None for _ in range(totalIterations)]\n",
    "testFeaturesA = [None for _ in range(totalIterations)]\n",
    "testFeaturesS = [None for _ in range(totalIterations)]\n",
    "testFeaturesAS = [None for _ in range(totalIterations)]\n",
    "for i in range(totalIterations):\n",
    "    randomGenr.shuffle(dataOneHot)\n",
    "    randomGenr.shuffle(dataOneHotA)\n",
    "    #extract features, set float\n",
    "    features = dataOneHot[:,:-1].astype(np.float64)\n",
    "    featuresA = dataOneHotA[:,:-1].astype(np.float64)\n",
    "    #extract labels\n",
    "    labels = dataOneHot[:,-1]\n",
    "    labelsA = dataOneHotA[:,-1]\n",
    "    #get ~20% of indices as random choice WITHOUT replacement for test\n",
    "    testIndices = randomGenr.choice(len(labels),size=int(len(labels)*.2),replace=False)\n",
    "    testIndicesA = randomGenr.choice(len(labelsA),size=int(len(labelsA)*.2),replace=False)\n",
    "    #take test items\n",
    "    \n",
    "    testLabels[i] = np.take(labels,testIndices)\n",
    "    testFeatures[i] = np.take(features,testIndices,axis=0)\n",
    "    testLabelsA[i] = np.take(labelsA,testIndicesA)\n",
    "    testFeaturesA[i] = np.take(featuresA,testIndicesA,axis=0)\n",
    "\n",
    "\n",
    "\n",
    "    #remove test items\n",
    "    trainLabels = np.delete(labels,testIndices)\n",
    "    trainFeatures = np.delete(features,testIndices,axis=0)\n",
    "    trainLabelsA = np.delete(labelsA,testIndicesA)\n",
    "    trainFeaturesA = np.delete(featuresA,testIndicesA,axis=0)\n",
    "    \n",
    "    #create scaled features\n",
    "    scaler = sklearn.preprocessing.StandardScaler()\n",
    "    trainFeaturesS = scaler.fit_transform(trainFeatures)\n",
    "    testFeaturesS[i] = scaler.fit_transform(testFeatures[i])\n",
    "    trainFeaturesAS = scaler.fit_transform(trainFeaturesA)\n",
    "    testFeaturesAS[i] = scaler.fit_transform(testFeaturesA[i])\n",
    "    \n",
    "    print('trial: {}'.format(i))\n",
    "    for name,model,modelS in zip(models.keys(),models.values(),modelsScaled.values()):\n",
    "        model[0].fit(trainFeatures,trainLabels)\n",
    "        model[1].fit(trainFeaturesA,trainLabelsA)\n",
    "        modelS[0].fit(trainFeaturesS,trainLabels)\n",
    "        modelS[1].fit(trainFeaturesAS,trainLabelsA)\n",
    "    \n",
    "        #get predictions\n",
    "        preds = model[0].predict(testFeatures[i])\n",
    "        predsA = model[1].predict(testFeaturesA[i])\n",
    "        predsS = modelS[0].predict(testFeaturesS[i])\n",
    "        predsAS = modelS[1].predict(testFeaturesAS[i])\n",
    "        results[name]['predictions'] = [preds,predsA]\n",
    "        resultsScaled[name]['predictions'] = [predsS,predsAS]\n",
    "    \n",
    "        #get P(y=1) for each prediction\n",
    "        probs = [pair[1] for pair in model[0].predict_proba(testFeatures[i])]\n",
    "        probsA = [pair[1] for pair in model[1].predict_proba(testFeaturesA[i])]\n",
    "        probsS = [pair[1] for pair in modelS[0].predict_proba(testFeaturesS[i])]\n",
    "        probsAS = [pair[1] for pair in modelS[1].predict_proba(testFeaturesAS[i])]\n",
    "        results[name]['probabilities'] = (probs,probsA)\n",
    "        resultsScaled[name]['probabilities'] = (probsS,probsAS)\n",
    "        accumulator.append([results,resultsScaled])\n",
    "    \n",
    "    "
   ]
  },
  {
   "cell_type": "markdown",
   "metadata": {},
   "source": [
    "### Tallying up results\n",
    "Finally, we tally the information."
   ]
  },
  {
   "cell_type": "code",
   "execution_count": 6,
   "metadata": {},
   "outputs": [],
   "source": [
    "tallys = {key:np.empty((2,2,2,0),dtype='float64').tolist() for key in models.keys()}\n",
    "tallysS = {key:np.empty((2,2,2,0),dtype='float64').tolist() for key in modelsScaled.keys()}\n",
    "for entry,tLabels,tLabelsA in zip(accumulator,testLabels,testLabelsA):\n",
    "    for key in results.keys():\n",
    "        results = entry[0]\n",
    "        resultsScaled = entry[1]\n",
    "        #SETUP FOR THIS:\n",
    "        #tallys[modelName][0=firstDataSet,1=AdditionalDataSet][trueLabel][predictedLabel] = [list of P(y_{model}=1)]\n",
    "        j=0\n",
    "        for labels,predictions,predictionsS in zip([tLabels,tLabelsA],results[key]['predictions'],resultsScaled[key]['predictions']):\n",
    "            i=0\n",
    "            for test,pred,predS in zip(labels,predictions,predictionsS):\n",
    "                    tallys[key][j][int(test)][int(predS)].append(results[key]['probabilities'][j][i])\n",
    "                    tallysS[key][j][int(test)][int(predS)].append(resultsScaled[key]['probabilities'][j][i])\n",
    "                    i+=1\n",
    "            j+=1"
   ]
  },
  {
   "cell_type": "markdown",
   "metadata": {},
   "source": [
    "### Checking error rates\n",
    "\n",
    " \n",
    "We can see that the best performing model on the abbreviated feature data is Random Forest, while K Nearest Neighbors performed best on the full featured dataset.  Scaling the data is not helpful in either case. "
   ]
  },
  {
   "cell_type": "code",
   "execution_count": 7,
   "metadata": {},
   "outputs": [
    {
     "data": {
      "text/plain": [
       "<Figure size 2880x2880 with 0 Axes>"
      ]
     },
     "metadata": {},
     "output_type": "display_data"
    },
    {
     "data": {
      "image/png": "[encoded data removed]",
      "text/plain": [
       "<Figure size 432x288 with 4 Axes>"
      ]
     },
     "metadata": {
      "needs_background": "light"
     },
     "output_type": "display_data"
    },
    {
     "name": "stdout",
     "output_type": "stream",
     "text": [
      "RAFO is Random Forest\n",
      "MLP is Multi Level Perceptron\n",
      "KNN is K Nearest Neighbors\n"
     ]
    }
   ],
   "source": [
    "#Plot raw error rates of each model\n",
    "ind = [ i for i in range(len(models)) ]\n",
    "width = .6\n",
    "plt.figure(figureCount,figsize=(40,40))\n",
    "fig, ax = plt.subplots(2, 2)\n",
    "\n",
    "titles = ['abbreviated features','full features'],['abbreviated features, scaled','full features, scaled']\n",
    "tally = [tallys,tallysS]\n",
    "totals = [sum([len(testLabels[i]) for i in range(totalIterations)]),sum([len(testLabelsA[i]) for i in range(totalIterations)])]\n",
    "figureCount+=1\n",
    "for i in range(2):\n",
    "    for j in range (2):\n",
    "        wrong = [(len(tally[i][key][j][1][0])+len(tally[i][key][j][0][1]))/totals[i] for key in tallys.keys()]\n",
    "        #set bottom for each graph\n",
    "        bottom = min(wrong)-.005\n",
    "        ax[i,j].bar([item+width for item in ind],[item-bottom for item in wrong],width,label='Incorrect Predictions',color='red',bottom=bottom)\n",
    "        ax[i,j].set_xticks([item+width/2 for item in ind])\n",
    "        ax[i,j].set_xticklabels(tallys.keys())\n",
    "        ax[i,j].set_title(titles[i][j])\n",
    "plt.tight_layout()\n",
    "plt.suptitle('Error rates',verticalalignment='baseline')\n",
    "plt.show()\n",
    "print('RAFO is Random Forest\\nMLP is Multi Level Perceptron\\nKNN is K Nearest Neighbors')"
   ]
  },
  {
   "cell_type": "markdown",
   "metadata": {},
   "source": [
    "### *Discussion*\n",
    "While ~90% success rate is not terrible on a balanced dataset.  We know that our dataset is biased, and so this prediction success rate is about equal to the error rate obtained by guessing randomly according to the distribution of classes.  Moving forward, we'll only work with the non-scaled data since the scaling wasn't helpful."
   ]
  },
  {
   "cell_type": "markdown",
   "metadata": {},
   "source": [
    "### Slightly modifying our metric\n",
    "Lets define some things, first.<br>\n",
    "Define a test set:\n",
    "$$   D^{test} = \\{ ( x_{i} ,y_{i}) \\mid 0 \\leq i \\lt N \\}  $$\n",
    "    Where there are N examples in a dataset with feature vector x, label y\n",
    "\n",
    "Define the previously learned *estimator* $ f_{\\theta}(\\cdot) $, parameterized by $\\theta$:\n",
    "$$ f_{\\theta}(x_{i}) = \\hat{y} \\approx y_{i} $$\n",
    "and let\n",
    "$$ P_{\\theta}(y_{i}=1\\mid x_{i}) = p_{i} $$\n",
    "for a given test example $( x_{i} ,y_{i})$<br><br>\n",
    "and finally we define the *indicator* $ I_{i} $: <br><br>\n",
    "$$ I_{i} = 1 \\iff   y_{i}=1 \\:  $$<br>\n",
    "$$ else \\: \\: \\: I_{i} = 0 $$\n",
    "\n",
    "and now define a sorted list:\n",
    "$$ \\mathcal{S} = \\{  s^{j} = (s_{p}^{j},s_{I}^{j}) = ( p_{i} ,I_{i}) \\mid 0 \\leq i,j \\lt N \\: , \\: a \\gt b \\implies s_{p}^{a} \\gt s_{p}^{b} \\} $$ \n",
    "\n",
    "In English: $\\mathcal{S}$ is a list of indicator-probabilty pairs (like a priority queue) sorted in increasing order by probabilities.<br><br>\n",
    "Now,\n",
    "$$ \\mathcal{S}_{t} = \\{ s^{j} \\mid 0 \\leq j \\lt floor(\\frac{t}{100})(N) \\: , \\: 1 \\leq t \\leq 100 \\} $$\n",
    "\n",
    "In English: $\\mathcal{S}_{t}$ is the first \"$t \\%$\"  of $\\mathcal{S}$.\n",
    "\n",
    "Lastly we will define,\n",
    "$$ S(t)  =   \\frac{\\sum_{j \\leq \\mid \\mathcal{S}_{t}\\mid} s_{p}^{j}}{\\sum_{j \\leq \\mid \\mathcal{S}\\mid} s_{p}^{j}} $$\n",
    "\n",
    "In English: $ S(t) $ is the percentage of true positives inside $\\mathcal{S}_{t}$.\n",
    "$ S(t) $ essentially describes the percentage of <code>y=1</code> labeled test samples in the top $t\\%$ of the model's probability ranking.\n",
    "\n",
    "\n",
    "We'll now make some plots of $S(t)$ for each model dataset pair. "
   ]
  },
  {
   "cell_type": "code",
   "execution_count": 8,
   "metadata": {},
   "outputs": [
    {
     "data": {
      "text/plain": [
       "<Figure size 432x288 with 0 Axes>"
      ]
     },
     "metadata": {},
     "output_type": "display_data"
    },
    {
     "data": {
      "image/png": "[encoded data removed]",
      "text/plain": [
       "<Figure size 432x288 with 1 Axes>"
      ]
     },
     "metadata": {
      "needs_background": "light"
     },
     "output_type": "display_data"
    },
    {
     "data": {
      "text/plain": [
       "<Figure size 432x288 with 0 Axes>"
      ]
     },
     "metadata": {},
     "output_type": "display_data"
    },
    {
     "data": {
      "image/png": "[encoded data removed]",
      "text/plain": [
       "<Figure size 432x288 with 1 Axes>"
      ]
     },
     "metadata": {
      "needs_background": "light"
     },
     "output_type": "display_data"
    }
   ],
   "source": [
    "#tallys[modelName][0=firstDataSet,1=AdditionalDataSet][trueLabel][predictedLabel] = [list of P(y_{model}=1)]\n",
    "#array to study\n",
    "s = {key:[None,None] for key in tallys.keys()}\n",
    "points ={key: [None,None] for key in tallys.keys()}\n",
    "totals = [sum([sum(testLabels[i]) for i in range(totalIterations)]),sum([sum(testLabelsA[i]) for i in range(totalIterations)])]\n",
    "##TODO:: SOMEHOW THE NUMBER OF TRUE POSITIVES IS DIFFERENT PER MODEL, THIS SHOULD NOT BE THE CASE\n",
    "for key in tallys.keys():\n",
    "    for i in range(2):\n",
    "        #take true positives out, most important\n",
    "        positives = np.append([tp for tp in tallys[key][i][1][1]],[fn for fn in tallys[key][i][1][0]])\n",
    "        #take count of totals while convenient\n",
    "        #take false positives, true negatives OUT\n",
    "        others = np.append([tn for tn in tallys[key][i][0][0]],[fp for fp in tallys[key][i][0][1]])\n",
    "        #add true positives to S\n",
    "        positives = [ (1,prob) for prob in positives ]\n",
    "        others = [ (0,prob) for prob in others ]\n",
    "        #get final array\n",
    "        s[key][i] = sorted(np.concatenate((others,positives)),key=lambda key_value: key_value[1],reverse=True)\n",
    "        points[key][i] = [(t,proc.S(s[key][i],t,totals[i])) for t in range(1,101)]\n",
    "        #generate points for graphing\n",
    "for i in range(2):\n",
    "    #genrate set of 100 points, t S(t) pairs for each model/dataset pair\n",
    "    plt.figure(figureCount)\n",
    "    figureCount+=1\n",
    "    fig, ax = plt.subplots()\n",
    "    for key,color in zip(points.keys(),['black','green','blue']):\n",
    "        ax.plot([point[0] for point in points[key][i]],[point[1] for point in points[key][i]],color,label=key)\n",
    "        ax.set(xlabel='t', ylabel='S(t)',title=('Full features' if i==1 else 'Abbreviated features'))\n",
    "    ax.grid()\n",
    "    ax.legend()\n",
    "    fig.savefig(\"S(t)_{}_{}.png\".format(key,i))\n",
    "    plt.show()"
   ]
  },
  {
   "cell_type": "markdown",
   "metadata": {},
   "source": [
    "### *Discussion*\n",
    "\n",
    "These graphs provide us with some more detailed insight into each model's performanace, lets take them one ate a time.\n",
    "1) The abbreviated feature set:\n",
    "We note here that in terms of $S(t)$, the Random Forest is the clear winner, followed by MLP and finally KNN. We can see in particular that by exhausting about 40% of the data (when sorted using Random Forest), we can reach over 70% of the <code>y=1</code> customers.<br><br>\n",
    "2) The full feature set:\n",
    "The performance is much closer here, Random Forest and MLP are essentially evenly matched, but both still outpace KNN well.  The Random forest performs slightly better using the full set of features, reaching over 60% of the <code>y=1</code> customers by exhausting only 20% of the data.  While the with the abbreviated feature set, this value is reached by $S(t)$ slightly later."
   ]
  },
  {
   "cell_type": "markdown",
   "metadata": {},
   "source": [
    "\n",
    "### Taking a look inside\n",
    "\n",
    "Finally, lets take a look at the factors involved in making these predictions inside the Random Forest model."
   ]
  },
  {
   "cell_type": "code",
   "execution_count": 9,
   "metadata": {},
   "outputs": [
    {
     "data": {
      "image/png": "[encoded data removed]",
      "text/plain": [
       "<Figure size 432x288 with 1 Axes>"
      ]
     },
     "metadata": {},
     "output_type": "display_data"
    },
    {
     "data": {
      "image/png": "[encoded data removed]",
      "text/plain": [
       "<Figure size 432x288 with 1 Axes>"
      ]
     },
     "metadata": {},
     "output_type": "display_data"
    }
   ],
   "source": [
    "index = totalIterations-1\n",
    "labels = [testLabels[index],testLabelsA[index]]\n",
    "features = [testFeatures[index],testFeaturesA[index]]\n",
    "cols = [colTitles,colTitlesA]\n",
    "maps = [peopleMap,peopleAdditionalMap]\n",
    "titles =['Feature importance for abbreviated features','Feature importance for full features']\n",
    "for i in range(2):\n",
    "    importances = permutation_importance(models['RAFO'][i],features[i],labels[i],n_repeats=10)['importances_mean']\n",
    "    result = proc.processImportance(maps[i],cols[i],importances)\n",
    "    proc.pie(result[0],result[1],result[2],titles[i],figureCount)\n",
    "    figureCount+=1"
   ]
  },
  {
   "cell_type": "markdown",
   "metadata": {},
   "source": [
    "### *Discussion*\n",
    "Immediately we notice that the most importance features have little to do with the customer themselves.  Instead, information about the success of previous campaigns like <code>poutcome</code> dominate the model. the outreach iteration, <code>campaign</code>, as well as information about how recently the customer has been contacted, <code>pdays</code>, play an important role as well.<br>  It is also important to note that the additional features did result in an increase in performance.  These additional features were all numeric economic indicators.\n",
    "### What to do next?\n",
    "\n",
    "In a business setting, a good next step might be to collect more economic indicators to try to increase the performance of the algorithm (luckily, can be collected retroactively).  That way, moving forward, the model can predict when to reach out to customers which have a high probability of making a purchase and target marketing expenditures towards them.  In any case, the model as is can make decent probability assesments as to which customers are going to make a purchase.\n"
   ]
  }
 ],
 "metadata": {
  "kernelspec": {
   "display_name": "Python 3",
   "language": "python",
   "name": "python3"
  },
  "language_info": {
   "codemirror_mode": {
    "name": "ipython",
    "version": 3
   },
   "file_extension": ".py",
   "mimetype": "text/x-python",
   "name": "python",
   "nbconvert_exporter": "python",
   "pygments_lexer": "ipython3",
   "version": "3.7.9"
  }
 },
 "nbformat": 4,
 "nbformat_minor": 4
}
